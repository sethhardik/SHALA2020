{
 "cells": [
  {
   "cell_type": "markdown",
   "metadata": {
    "colab_type": "text",
    "id": "hmr2U-GChnlR"
   },
   "source": [
    "\n",
    "# **Assignment - 1 : Getting Started**\n",
    "\n",
    "---\n",
    "\n",
    "This assignment will get you familiarized with python libraries required for ***data science*** and ***machine learning***. You will have to complete the code snippets and run them. "
   ]
  },
  {
   "cell_type": "markdown",
   "metadata": {
    "colab_type": "text",
    "id": "211pD45xEO0u"
   },
   "source": [
    "## **Note :**   Use only the methods and attributes of the ```numpy``` library. **Do not** hard-code them. Avoid loops as much as possible."
   ]
  },
  {
   "cell_type": "markdown",
   "metadata": {
    "colab_type": "text",
    "id": "O7v9C4mun3SQ"
   },
   "source": [
    "---\n",
    "## Part - 1\n",
    " In this part, you will work with the library ```numpy```. \n",
    "\n",
    "\n"
   ]
  },
  {
   "cell_type": "markdown",
   "metadata": {
    "colab_type": "text",
    "id": "846yDaXQwiMD"
   },
   "source": [
    "Import ```numpy``` with an alias name ```np```. Initialize two arrays $a$, $b$ of size $3 \\times 5$ with random values and print them. "
   ]
  },
  {
   "cell_type": "code",
   "execution_count": 1,
   "metadata": {
    "colab": {
     "base_uri": "https://localhost:8080/",
     "height": 134
    },
    "colab_type": "code",
    "id": "_MyeCO3_o3oq",
    "outputId": "f5ef8478-fd0f-419e-ebd5-21cdb769af0f"
   },
   "outputs": [
    {
     "name": "stdout",
     "output_type": "stream",
     "text": [
      "a: [[0.5488135  0.71518937 0.60276338 0.54488318 0.4236548 ]\n",
      " [0.64589411 0.43758721 0.891773   0.96366276 0.38344152]\n",
      " [0.79172504 0.52889492 0.56804456 0.92559664 0.07103606]]\n",
      "\n",
      "b: [[0.0871293  0.0202184  0.83261985 0.77815675 0.87001215]\n",
      " [0.97861834 0.79915856 0.46147936 0.78052918 0.11827443]\n",
      " [0.63992102 0.14335329 0.94466892 0.52184832 0.41466194]]\n"
     ]
    }
   ],
   "source": [
    "import numpy as np\n",
    "\n",
    "np.random.seed(0)\n",
    "a=np.random.rand(3,5)\n",
    "b=np.random.rand(3,5)\n",
    "print(\"a:\",a)\n",
    "print(\"\\nb:\",b)"
   ]
  },
  {
   "cell_type": "markdown",
   "metadata": {
    "colab_type": "text",
    "id": "p7jtpYT4wiO6"
   },
   "source": [
    "Initialize and print two arrays $c$ and $d$ having the following properties:\n",
    "*   $c$ is a row vector with all positive integer values less than 100\n",
    "* $d$ is a square matrix of size 3 having all entries as 0.0"
   ]
  },
  {
   "cell_type": "code",
   "execution_count": 2,
   "metadata": {
    "colab": {
     "base_uri": "https://localhost:8080/",
     "height": 168
    },
    "colab_type": "code",
    "id": "a2lJdRf8x9f2",
    "outputId": "194a084d-360d-490b-fb60-9b8f80b7fb72"
   },
   "outputs": [
    {
     "name": "stdout",
     "output_type": "stream",
     "text": [
      "[ 0  1  2  3  4  5  6  7  8  9 10 11 12 13 14 15 16 17 18 19 20 21 22 23\n",
      " 24 25 26 27 28 29 30 31 32 33 34 35 36 37 38 39 40 41 42 43 44 45 46 47\n",
      " 48 49 50 51 52 53 54 55 56 57 58 59 60 61 62 63 64 65 66 67 68 69 70 71\n",
      " 72 73 74 75 76 77 78 79 80 81 82 83 84 85 86 87 88 89 90 91 92 93 94 95\n",
      " 96 97 98 99] \n",
      "\n",
      " [[0. 0. 0.]\n",
      " [0. 0. 0.]\n",
      " [0. 0. 0.]]\n"
     ]
    }
   ],
   "source": [
    "\n",
    "c=np.arange(100)\n",
    "d=np.zeros([3,3])\n",
    "print(c,\"\\n\\n\",d)\n"
   ]
  },
  {
   "cell_type": "markdown",
   "metadata": {
    "colab_type": "text",
    "id": "qqgtSsa88Zmh"
   },
   "source": [
    "We have $e$ as following : ```e = [[1,2,3],[4,5,6],[7,8,9]]```. Change $e$ as a numpy array and print it."
   ]
  },
  {
   "cell_type": "code",
   "execution_count": 3,
   "metadata": {
    "colab": {
     "base_uri": "https://localhost:8080/",
     "height": 67
    },
    "colab_type": "code",
    "id": "Krhm4bVE7RET",
    "outputId": "c82501e5-37be-4d11-ad6a-c7ca6cc9da3d"
   },
   "outputs": [
    {
     "name": "stdout",
     "output_type": "stream",
     "text": [
      "[[1 2 3]\n",
      " [4 5 6]\n",
      " [7 8 9]]\n"
     ]
    }
   ],
   "source": [
    "e = [[1,2,3],[4,5,6],[7,8,9]]\n",
    "e=np.array(e)\n",
    "print(e)"
   ]
  },
  {
   "cell_type": "markdown",
   "metadata": {
    "colab_type": "text",
    "id": "1qTikI0foam9"
   },
   "source": [
    "$f$ and $g$ are two square matrices of size 5 such that all the entries of $f$ are 1 and $g$ is an identity matrix. Initialize them and print them"
   ]
  },
  {
   "cell_type": "code",
   "execution_count": 4,
   "metadata": {
    "colab": {
     "base_uri": "https://localhost:8080/",
     "height": 202
    },
    "colab_type": "code",
    "id": "DvaLckI49aBV",
    "outputId": "fd99857f-ba11-4889-904b-4b57aedc9728"
   },
   "outputs": [
    {
     "name": "stdout",
     "output_type": "stream",
     "text": [
      "[[1 1 1 1 1]\n",
      " [1 1 1 1 1]\n",
      " [1 1 1 1 1]\n",
      " [1 1 1 1 1]\n",
      " [1 1 1 1 1]] \n",
      "\n",
      " [[1 0 0 0 0]\n",
      " [0 1 0 0 0]\n",
      " [0 0 1 0 0]\n",
      " [0 0 0 1 0]\n",
      " [0 0 0 0 1]]\n"
     ]
    }
   ],
   "source": [
    "f=np.ones([5,5],dtype=\"int16\")\n",
    "g=np.eye(5,dtype=\"int16\")\n",
    "print(f,\"\\n\\n\",g)"
   ]
  },
  {
   "cell_type": "markdown",
   "metadata": {
    "colab_type": "text",
    "id": "gcBZAZibAKcg"
   },
   "source": [
    "Reshape $d$ into a $10 \\times 10$ matrix and name it $h$. Now flatten $h$, call it $d^\\prime$ and print **YES** when the shapes of $d$ and $d^\\prime$ are same. Otherwise print **NO**."
   ]
  },
  {
   "cell_type": "code",
   "execution_count": 5,
   "metadata": {
    "colab": {
     "base_uri": "https://localhost:8080/",
     "height": 34
    },
    "colab_type": "code",
    "id": "I71vtO9bA9Pi",
    "outputId": "7b77b3fa-aaac-48dd-feb7-bede9fcb6094"
   },
   "outputs": [
    {
     "name": "stdout",
     "output_type": "stream",
     "text": [
      "YES\n"
     ]
    }
   ],
   "source": [
    "h=c.reshape([10,10])\n",
    "c_bar=h.flatten()\n",
    "if c_bar.shape[0] == c.shape[0]:\n",
    "  print(\"YES\")\n",
    "else:\n",
    "  print(\"NO\")"
   ]
  },
  {
   "cell_type": "markdown",
   "metadata": {
    "colab_type": "text",
    "id": "8FrecDPiA-Bv"
   },
   "source": [
    "Let $A$ denote a randomly initialized three dimensional matrix of shape (2,10,5). Transpose $A$, call it $A^\\prime$, such that its shape is (5,2,10) and print it."
   ]
  },
  {
   "cell_type": "code",
   "execution_count": 6,
   "metadata": {
    "colab": {
     "base_uri": "https://localhost:8080/",
     "height": 454
    },
    "colab_type": "code",
    "id": "VbOKqSm6Bkaq",
    "outputId": "a65f92ca-a30f-4f8b-ef8c-7a2cca58e6b4"
   },
   "outputs": [
    {
     "name": "stdout",
     "output_type": "stream",
     "text": [
      "(5, 2, 10)\n",
      "\n",
      "A_bar: [[[0.26455561 0.6176355  0.3595079  0.67063787 0.57019677 0.16130952\n",
      "   0.15896958 0.36872517 0.97645947 0.03918779]\n",
      "  [0.31798318 0.26538949 0.31856895 0.18319136 0.67781654 0.57615733\n",
      "   0.44712538 0.39650574 0.72525428 0.60639321]]\n",
      "\n",
      " [[0.77423369 0.61209572 0.43703195 0.21038256 0.43860151 0.65310833\n",
      "   0.11037514 0.82099323 0.4686512  0.28280696]\n",
      "  [0.41426299 0.52324805 0.66741038 0.58651293 0.27000797 0.59204193\n",
      "   0.84640867 0.8811032  0.50132438 0.0191932 ]]\n",
      "\n",
      " [[0.45615033 0.616934   0.6976312  0.1289263  0.98837384 0.2532916\n",
      "   0.65632959 0.09710128 0.97676109 0.12019656]\n",
      "  [0.0641475  0.09394051 0.13179786 0.02010755 0.73519402 0.57225191\n",
      "   0.69947928 0.58127287 0.95608363 0.30157482]]\n",
      "\n",
      " [[0.56843395 0.94374808 0.06022547 0.31542835 0.10204481 0.46631077\n",
      "   0.13818295 0.83794491 0.60484552 0.2961402 ]\n",
      "  [0.69247212 0.5759465  0.7163272  0.82894003 0.96218855 0.22308163\n",
      "   0.29743695 0.88173536 0.6439902  0.66017354]]\n",
      "\n",
      " [[0.0187898  0.6818203  0.66676672 0.36371077 0.20887676 0.24442559\n",
      "   0.19658236 0.09609841 0.73926358 0.11872772]\n",
      "  [0.56660145 0.9292962  0.28940609 0.00469548 0.24875314 0.95274901\n",
      "   0.81379782 0.69253159 0.42385505 0.29007761]]]\n"
     ]
    }
   ],
   "source": [
    "A = np.random.rand(2,10,5)\n",
    "A_bar=A.transpose(2,0,1)\n",
    "print(A_bar.shape)\n",
    "print(\"\\nA_bar:\",A_bar)\n",
    "\n"
   ]
  },
  {
   "cell_type": "markdown",
   "metadata": {
    "colab_type": "text",
    "id": "xR2zd-nkCani"
   },
   "source": [
    "You have a matrix $X$ of size (10,5) filled with random values. Print the following :\n",
    "* Minimum value and index where it occured, for each column\n",
    "* Maximum value and the index where it occured, for each column\n",
    "* Minimum value and index where it occured, for each row\n",
    "* Maximum value and index where it occured, for each row\n",
    "* Minimum value and index where it occured, for the entire matrix\n",
    "* Maximum value and index where it occured, for the entire matrix"
   ]
  },
  {
   "cell_type": "code",
   "execution_count": 21,
   "metadata": {
    "colab": {
     "base_uri": "https://localhost:8080/",
     "height": 202
    },
    "colab_type": "code",
    "id": "FR2Wd4fWD_Og",
    "outputId": "83874942-233e-44c8-da02-095fe0fc910b"
   },
   "outputs": [
    {
     "name": "stdout",
     "output_type": "stream",
     "text": [
      "minimum value in each column: [0.0871293  0.0202184  0.1289263  0.06022547 0.0187898 ]\n",
      "location of min value in each column: [[3 0]\n",
      " [3 1]\n",
      " [6 4]\n",
      " [8 3]\n",
      " [9 2]]\n",
      "maximum value in each column: [0.97861834 0.79915856 0.94466892 0.96366276 0.87001215]\n",
      "location of max value in each column: [[1 3]\n",
      " [3 4]\n",
      " [4 0]\n",
      " [4 1]\n",
      " [5 2]]\n",
      "minimum value in each row: [0.4236548  0.38344152 0.07103606 0.0202184  0.11827443 0.14335329\n",
      " 0.0187898  0.61209572 0.06022547 0.1289263 ]\n",
      "location of min value in each row: []\n",
      "maximum value in each row: [0.71518937 0.96366276 0.92559664 0.87001215 0.97861834 0.94466892\n",
      " 0.77423369 0.94374808 0.6976312  0.67063787]\n",
      "location o max value in each row: []\n",
      "maximum value : 0.978618342232764\n",
      "location of max value : [[4 0]]\n",
      "minimum value : 0.018789800436355142\n",
      "location of min value : [[6 4]]\n"
     ]
    },
    {
     "name": "stderr",
     "output_type": "stream",
     "text": [
      "C:\\Users\\hseth\\Anaconda3\\envs\\tf_gpu\\lib\\site-packages\\ipykernel_launcher.py:11: DeprecationWarning: elementwise comparison failed; this will raise an error in the future.\n",
      "  # This is added back by InteractiveShellApp.init_path()\n",
      "C:\\Users\\hseth\\Anaconda3\\envs\\tf_gpu\\lib\\site-packages\\ipykernel_launcher.py:14: DeprecationWarning: elementwise comparison failed; this will raise an error in the future.\n",
      "  \n"
     ]
    }
   ],
   "source": [
    "np.random.seed(0)\n",
    "X = np.random.rand(10,5)\n",
    "# print(X)\n",
    "print(\"minimum value in each column:\",np.amin(X,axis=0))\n",
    "print(\"location of min value in each column:\",np.argwhere(X==np.amin(X,axis=0)))\n",
    "\n",
    "print(\"maximum value in each column:\",np.max(X,axis=0))\n",
    "print(\"location of max value in each column:\",np.argwhere(X==np.max(X,axis=0)))\n",
    "\n",
    "print(\"minimum value in each row:\",np.amin(X,axis=1))\n",
    "print(\"location of min value in each row:\",np.argwhere(X ==np.amin(X,axis=1)))\n",
    "\n",
    "print(\"maximum value in each row:\",np.max(X,axis=1))\n",
    "print(\"location o max value in each row:\",np.argwhere(X==np.max(X,axis=1)))\n",
    "\n",
    "print(\"maximum value :\",np.max(X))\n",
    "print(\"location of max value :\",np.argwhere(X==np.max(X)))\n",
    "\n",
    "print(\"minimum value :\",np.amin(X))\n",
    "print(\"location of min value :\",np.argwhere(X==np.amin(X)))"
   ]
  },
  {
   "cell_type": "markdown",
   "metadata": {
    "colab_type": "text",
    "id": "YpjW2ypkEGtS"
   },
   "source": [
    "Find and print the following for the matrix X: \n",
    "* Mean of each row and column\n",
    "* Standard deviation of each row and column\n",
    "* Mean of the entire matrix\n",
    "* Standard deviation of entire matrix"
   ]
  },
  {
   "cell_type": "code",
   "execution_count": 8,
   "metadata": {
    "colab": {},
    "colab_type": "code",
    "id": "gMdm2pw0GWjf"
   },
   "outputs": [
    {
     "name": "stdout",
     "output_type": "stream",
     "text": [
      "mean of column: [0.56044382 0.46781457 0.62009909 0.64025127 0.40121685]\n",
      "mean of row: [0.56706085 0.66447172 0.57705944 0.51762729 0.62761197 0.5328907\n",
      " 0.41643268 0.69444672 0.44423265 0.33781717]\n",
      "standard deviation of each column: [0.24687647 0.25752158 0.22948615 0.28054144 0.26584905]\n",
      "standard deviation of each row: [0.09445299 0.23322986 0.29189733 0.38052993 0.30431633 0.26338419\n",
      " 0.25841437 0.12727959 0.23169975 0.18537332]\n",
      "mean of matrix : 0.5379651182755409\n",
      "standard deviation of matrix: 0.27226582292177587\n"
     ]
    }
   ],
   "source": [
    "print(\"mean of column:\",np.mean(X,axis=0))\n",
    "print(\"mean of row:\",np.mean(X,axis=1))\n",
    "\n",
    "print(\"standard deviation of each column:\",np.std(X,axis=0))\n",
    "print(\"standard deviation of each row:\",np.std(X,axis=1))\n",
    "\n",
    "print(\"mean of matrix :\",np.mean(X))\n",
    "print(\"standard deviation of matrix:\",np.std(X))\n"
   ]
  },
  {
   "cell_type": "markdown",
   "metadata": {
    "colab_type": "text",
    "id": "7dw7W8HOGXKA"
   },
   "source": [
    "Let $Y$ denote a square matrix of size 10 with random values. Print the following:\n",
    "* Determinant\n",
    "* Rank of the matrix\n",
    "* Diagonal Elements\n",
    "* Trace\n",
    "* Eigen values\n",
    "* Matrices obtained after Singular Value Decomposition\n",
    "* Inverse if exists, otherwise Pseudo-Inverse\n",
    "* Multiplication $Y$ with $X$\n",
    "* Element-wise multiplication of $Y$ and its inverse(or pseudo-inverse)"
   ]
  },
  {
   "cell_type": "code",
   "execution_count": 9,
   "metadata": {
    "colab": {
     "base_uri": "https://localhost:8080/",
     "height": 840
    },
    "colab_type": "code",
    "id": "Tswbn9hgL7yi",
    "outputId": "ef8417a8-cb25-40ed-ada1-f8878e4a5c1f"
   },
   "outputs": [
    {
     "name": "stdout",
     "output_type": "stream",
     "text": [
      "\n",
      "Determinant: -0.012807808169095495\n",
      "\n",
      "Rank of the matrix: 10\n",
      "\n",
      "Diagonal element: [0.5507979  0.45683322 0.44045372 0.84575087 0.4576864  0.36217621\n",
      " 0.06152893 0.19897603 0.92672568 0.19638058]\n",
      "\n",
      "Trace: 4.497309545724899\n",
      "\n",
      "Eigen Values: [ 4.797525  +0.j          0.72411408+0.52238181j  0.72411408-0.52238181j\n",
      " -0.48250062+0.55413671j -0.48250062-0.55413671j -0.6909002 +0.j\n",
      " -0.25905659+0.32357377j -0.25905659-0.32357377j  0.2127855 +0.08352477j\n",
      "  0.2127855 -0.08352477j]\n",
      "\n",
      "Matrix after Singular Value Decomposition: [[-0.31776408 -0.02455508 -0.60644878 -0.17883359 -0.12672161  0.14873878\n",
      "  -0.17823942 -0.52859453 -0.02295855 -0.38570883]\n",
      " [-0.26118514 -0.10864541 -0.24911354  0.26547359  0.52168399 -0.25773901\n",
      "  -0.46995326  0.21752636 -0.39285046  0.16234491]\n",
      " [-0.31347907 -0.34483471 -0.25292297  0.1214296   0.1486964   0.33436315\n",
      "   0.54080229  0.48017168  0.05660692 -0.20966421]\n",
      " [-0.35815379  0.59490017  0.30255161  0.15850614 -0.11046295  0.3051409\n",
      "   0.07395537  0.03044889 -0.50561658 -0.18384856]\n",
      " [-0.28385845 -0.18085696 -0.1583078   0.10535533 -0.46807835 -0.08377643\n",
      "   0.24075452 -0.16170764 -0.24786952  0.69201648]\n",
      " [-0.28871348 -0.27577124  0.40271105  0.60433658  0.11931679 -0.04899205\n",
      "   0.02593316 -0.44875145  0.27874747 -0.12964796]\n",
      " [-0.27897316  0.00398904  0.20819753 -0.52536617  0.41116881 -0.41991923\n",
      "   0.42687225 -0.24145621 -0.12958507 -0.00984813]\n",
      " [-0.24788529  0.48136836 -0.15792433 -0.02303902  0.3246308   0.25755952\n",
      "  -0.01429533 -0.03088365  0.56052488  0.44079262]\n",
      " [-0.37505167 -0.36728578  0.39799373 -0.45186801 -0.10830044  0.34456765\n",
      "  -0.4447402   0.14147957  0.0716725   0.09192695]\n",
      " [-0.40049601  0.19846099 -0.02705464  0.02500837 -0.39745062 -0.57941613\n",
      "  -0.10288216  0.3673956   0.33321483 -0.22039139]] \n",
      " [4.89636645 1.42832104 1.17173389 0.94068764 0.76892251 0.62457278\n",
      " 0.52105948 0.28969576 0.24512275 0.09350223] \n",
      " [[-0.28816735 -0.35560525 -0.33294235 -0.33250662 -0.36658188 -0.3625847\n",
      "  -0.26573249 -0.23278667 -0.30457183 -0.29270444]\n",
      " [ 0.53693497  0.11306854  0.39562078  0.25099719 -0.07369559 -0.37753546\n",
      "  -0.08584363  0.00333609 -0.2399022  -0.51623983]\n",
      " [-0.084609   -0.22589744 -0.00306935  0.1954239  -0.327784   -0.49318928\n",
      "   0.42323124  0.18588504  0.58200169  0.02301787]\n",
      " [ 0.01388163 -0.2631197   0.42190391 -0.53612946  0.01058633 -0.04415909\n",
      "   0.29385139  0.49501812 -0.32731018  0.15669071]\n",
      " [-0.27340804  0.28220631  0.28945859 -0.1626885   0.14790418 -0.35915036\n",
      "  -0.64971879  0.23854611  0.29589227  0.1337842 ]\n",
      " [ 0.10830593  0.27974551 -0.20571161  0.10308827  0.10096026 -0.5325142\n",
      "   0.15994871 -0.16150892 -0.3941055   0.59692177]\n",
      " [ 0.44882085  0.34972045 -0.01773924 -0.50737391 -0.52251393  0.11970007\n",
      "  -0.02807841 -0.20137782  0.25705553  0.15409283]\n",
      " [-0.35599817 -0.05022624  0.63427946  0.20935183 -0.34847081  0.11510691\n",
      "   0.03182222 -0.47748403 -0.1161671   0.21777064]\n",
      " [ 0.18417681 -0.32168889  0.15954963 -0.32397524  0.5548368  -0.1807982\n",
      "   0.08626619 -0.55063636  0.28439362 -0.01119242]\n",
      " [-0.41560913  0.59522266  0.02089304 -0.23979844  0.13515565 -0.0893732\n",
      "   0.44674689 -0.10709455 -0.02239562 -0.42098815]]\n",
      "\n",
      " Inverse: [[ 2.31470983 -1.92264991  0.7642126   0.78096977 -2.74248585  1.20175092\n",
      "   0.38693174 -1.37664514 -0.96484143  0.83123246]\n",
      " [-2.24504111  1.25605742 -0.91466223 -0.39587642  4.71823627 -1.32162185\n",
      "   0.52594984  2.39368168  0.33051878 -2.33540101]\n",
      " [-1.41290916  0.66149939  0.94968095 -0.18869248 -0.50069581 -0.55664939\n",
      "  -0.55275157  0.57384943 -0.04209635  1.11025544]\n",
      " [ 0.88051129  0.37055438  0.15632501  1.25248223 -1.81219563 -0.7249179\n",
      "  -0.19613524 -1.81766381  0.56943994  0.52226388]\n",
      " [ 0.39743656 -0.28842728 -1.09880632 -1.57965965  0.36480771  0.90235521\n",
      "  -0.47743451  2.09911148  0.53638288 -0.04562024]\n",
      " [ 0.36068175  0.22958502  0.33426258  0.10367281 -0.06700744 -0.37158555\n",
      "   0.22972702 -1.26286862 -0.45133033  0.75430018]\n",
      " [-2.01045364  0.19347423 -1.01393804 -0.74303568  3.56449935 -0.31892146\n",
      "  -0.67116163  2.01265699  0.72873355 -0.69454601]\n",
      " [ 1.18043988  0.86047396 -0.88991494  1.30425635 -0.14247318  0.69661973\n",
      "   0.5413572  -1.69774697 -0.60797727 -1.00698216]\n",
      " [-0.1679456  -0.63197036 -0.0540802  -0.73587818 -0.46423184  0.67805628\n",
      "   0.88551393  0.37662528 -0.03416891  0.42341327]\n",
      " [ 1.3938872  -0.74982353  1.96636643  1.00676681 -3.21953806  0.44078124\n",
      "  -0.40298654 -1.90114336 -0.04414834  0.55576763]]\n",
      "\n",
      "Multiplication of Y with X: [[2.95726101 2.04939653 3.09073485 3.22311637 1.78554985]\n",
      " [2.61266989 1.75663954 2.48635951 2.79783984 1.50654432]\n",
      " [2.98361778 2.02894044 2.82637865 2.88685728 1.69799548]\n",
      " [2.98565892 2.85485651 3.58995669 4.0073463  2.2697569 ]\n",
      " [2.49815821 1.97791033 2.77809758 2.71690515 1.59098767]\n",
      " [2.72146909 2.39905911 2.58780909 2.78212857 1.71792628]\n",
      " [2.22935358 1.74438251 2.94718357 2.48955906 2.05838199]\n",
      " [2.30476788 1.92350098 2.41698824 2.81379687 1.38016019]\n",
      " [2.91925254 2.36604123 3.53647969 3.30424184 2.52990887]\n",
      " [3.39559098 2.84629279 4.05845051 4.01068273 2.35816262]]\n",
      "\n",
      "Element-wise multiplication of  𝑌  and its inverse(or pseudo-inverse): [[ 1.27493732 -1.36152035  0.22231307  0.39894092 -2.44889439  1.07712104\n",
      "   0.04859294 -0.2852999  -0.04965769  0.36641545]\n",
      " [-0.06707332  0.57380876 -0.59374754 -0.11024655  3.19073041 -0.78089721\n",
      "   0.01261327  1.33771879  0.0856878  -0.96942775]\n",
      " [-0.40059519  0.45851031  0.4182905  -0.02959976 -0.27270348 -0.43436174\n",
      "  -0.16934292  0.12737041 -0.01633217  1.03962504]\n",
      " [ 0.85937499  0.24915472  0.14113555  1.05928794 -0.68499915 -0.06684976\n",
      "  -0.12815691 -1.01396696  0.20588942  0.11753784]\n",
      " [ 0.16156588 -0.13525516 -0.29583776 -0.46093327  0.16696753  0.77650726\n",
      "  -0.27989737  0.59507263  0.14910237 -0.02073997]\n",
      " [ 0.07408776  0.04623354  0.17182269  0.00904331 -0.03240383 -0.13457945\n",
      "   0.16257474 -0.94304237 -0.3119112   0.51984891]\n",
      " [-0.75110573  0.12926687 -0.34458549 -0.42560628  1.1613394  -0.14196631\n",
      "  -0.04129586  0.48842239  0.70803941 -0.16015134]\n",
      " [ 0.81624763  0.5597184  -0.64424426  0.61963734 -0.08500859  0.04665222\n",
      "   0.03928204 -0.33781095 -0.09232803 -0.10080329]\n",
      " [-0.02171434 -0.34965513 -0.01015706 -0.70063053 -0.31642589  0.36684179\n",
      "   0.62621827  0.09938639 -0.03166521  0.35532547]\n",
      " [ 1.01240745 -0.36009522  1.65588343  0.74979192 -2.12594439  0.40286315\n",
      "  -0.25535869 -0.69570551 -0.02440717  0.10914197]]\n"
     ]
    }
   ],
   "source": [
    "np.random.seed(3)\n",
    "Y = np.random.rand(10,10)\n",
    "print(\"\\nDeterminant:\",np.linalg.det(Y))\n",
    "print(\"\\nRank of the matrix:\",np.linalg.matrix_rank(Y))\n",
    "print(\"\\nDiagonal element:\",np.diag(Y))\n",
    "print(\"\\nTrace:\",np.trace(Y))       # sum along diagonals of the array\n",
    "print(\"\\nEigen Values:\",np.linalg.eigvals(Y))\n",
    "u,v,th=np.linalg.svd(Y)\n",
    "print(\"\\nMatrix after Singular Value Decomposition:\",u,\"\\n\",v,\"\\n\",th)\n",
    "print(\"\\n Inverse:\",np.linalg.pinv(Y))\n",
    "print(\"\\nMultiplication of Y with X:\",Y.dot(X))\n",
    "print(\"\\nElement-wise multiplication of  𝑌  and its inverse(or pseudo-inverse):\",np.multiply(Y,np.linalg.pinv(Y)))"
   ]
  },
  {
   "cell_type": "markdown",
   "metadata": {
    "colab_type": "text",
    "id": "Qne3RnfOL6-4"
   },
   "source": [
    "## End of Part - 1\n",
    " --- --- ---"
   ]
  },
  {
   "cell_type": "markdown",
   "metadata": {
    "colab_type": "text",
    "id": "LA-m4UYkMPTe"
   },
   "source": [
    "## Part - 2\n",
    "---\n",
    "In this part, you will be working with the library ```pandas```. Import this library with an alias name ```pd```."
   ]
  },
  {
   "cell_type": "code",
   "execution_count": 10,
   "metadata": {
    "colab": {},
    "colab_type": "code",
    "id": "i8z7TpnZSIms"
   },
   "outputs": [],
   "source": [
    "# Initial imports\n",
    "import numpy as np\n",
    "import matplotlib.pyplot as plt\n",
    "import pandas as pd\n"
   ]
  },
  {
   "cell_type": "markdown",
   "metadata": {
    "colab_type": "text",
    "id": "2v-HkHnyuQ3X"
   },
   "source": [
    "Download dataset from: http://biostat.mc.vanderbilt.edu/wiki/pub/Main/DataSets/titanic3.csv\n",
    "Read the data and display the first 5 rows"
   ]
  },
  {
   "cell_type": "code",
   "execution_count": 11,
   "metadata": {
    "colab": {},
    "colab_type": "code",
    "id": "LinX5ywNTUIm"
   },
   "outputs": [
    {
     "data": {
      "text/html": [
       "<div>\n",
       "<style scoped>\n",
       "    .dataframe tbody tr th:only-of-type {\n",
       "        vertical-align: middle;\n",
       "    }\n",
       "\n",
       "    .dataframe tbody tr th {\n",
       "        vertical-align: top;\n",
       "    }\n",
       "\n",
       "    .dataframe thead th {\n",
       "        text-align: right;\n",
       "    }\n",
       "</style>\n",
       "<table border=\"1\" class=\"dataframe\">\n",
       "  <thead>\n",
       "    <tr style=\"text-align: right;\">\n",
       "      <th></th>\n",
       "      <th>pclass</th>\n",
       "      <th>survived</th>\n",
       "      <th>name</th>\n",
       "      <th>sex</th>\n",
       "      <th>age</th>\n",
       "      <th>sibsp</th>\n",
       "      <th>parch</th>\n",
       "      <th>ticket</th>\n",
       "      <th>fare</th>\n",
       "      <th>cabin</th>\n",
       "      <th>embarked</th>\n",
       "      <th>boat</th>\n",
       "      <th>body</th>\n",
       "      <th>home.dest</th>\n",
       "    </tr>\n",
       "  </thead>\n",
       "  <tbody>\n",
       "    <tr>\n",
       "      <td>0</td>\n",
       "      <td>1</td>\n",
       "      <td>1</td>\n",
       "      <td>Allen, Miss. Elisabeth Walton</td>\n",
       "      <td>female</td>\n",
       "      <td>29.00</td>\n",
       "      <td>0</td>\n",
       "      <td>0</td>\n",
       "      <td>24160</td>\n",
       "      <td>211.3375</td>\n",
       "      <td>B5</td>\n",
       "      <td>S</td>\n",
       "      <td>2</td>\n",
       "      <td>NaN</td>\n",
       "      <td>St Louis, MO</td>\n",
       "    </tr>\n",
       "    <tr>\n",
       "      <td>1</td>\n",
       "      <td>1</td>\n",
       "      <td>1</td>\n",
       "      <td>Allison, Master. Hudson Trevor</td>\n",
       "      <td>male</td>\n",
       "      <td>0.92</td>\n",
       "      <td>1</td>\n",
       "      <td>2</td>\n",
       "      <td>113781</td>\n",
       "      <td>151.5500</td>\n",
       "      <td>C22 C26</td>\n",
       "      <td>S</td>\n",
       "      <td>11</td>\n",
       "      <td>NaN</td>\n",
       "      <td>Montreal, PQ / Chesterville, ON</td>\n",
       "    </tr>\n",
       "    <tr>\n",
       "      <td>2</td>\n",
       "      <td>1</td>\n",
       "      <td>0</td>\n",
       "      <td>Allison, Miss. Helen Loraine</td>\n",
       "      <td>female</td>\n",
       "      <td>2.00</td>\n",
       "      <td>1</td>\n",
       "      <td>2</td>\n",
       "      <td>113781</td>\n",
       "      <td>151.5500</td>\n",
       "      <td>C22 C26</td>\n",
       "      <td>S</td>\n",
       "      <td>NaN</td>\n",
       "      <td>NaN</td>\n",
       "      <td>Montreal, PQ / Chesterville, ON</td>\n",
       "    </tr>\n",
       "    <tr>\n",
       "      <td>3</td>\n",
       "      <td>1</td>\n",
       "      <td>0</td>\n",
       "      <td>Allison, Mr. Hudson Joshua Creighton</td>\n",
       "      <td>male</td>\n",
       "      <td>30.00</td>\n",
       "      <td>1</td>\n",
       "      <td>2</td>\n",
       "      <td>113781</td>\n",
       "      <td>151.5500</td>\n",
       "      <td>C22 C26</td>\n",
       "      <td>S</td>\n",
       "      <td>NaN</td>\n",
       "      <td>135.0</td>\n",
       "      <td>Montreal, PQ / Chesterville, ON</td>\n",
       "    </tr>\n",
       "    <tr>\n",
       "      <td>4</td>\n",
       "      <td>1</td>\n",
       "      <td>0</td>\n",
       "      <td>Allison, Mrs. Hudson J C (Bessie Waldo Daniels)</td>\n",
       "      <td>female</td>\n",
       "      <td>25.00</td>\n",
       "      <td>1</td>\n",
       "      <td>2</td>\n",
       "      <td>113781</td>\n",
       "      <td>151.5500</td>\n",
       "      <td>C22 C26</td>\n",
       "      <td>S</td>\n",
       "      <td>NaN</td>\n",
       "      <td>NaN</td>\n",
       "      <td>Montreal, PQ / Chesterville, ON</td>\n",
       "    </tr>\n",
       "  </tbody>\n",
       "</table>\n",
       "</div>"
      ],
      "text/plain": [
       "   pclass  survived                                             name     sex  \\\n",
       "0       1         1                    Allen, Miss. Elisabeth Walton  female   \n",
       "1       1         1                   Allison, Master. Hudson Trevor    male   \n",
       "2       1         0                     Allison, Miss. Helen Loraine  female   \n",
       "3       1         0             Allison, Mr. Hudson Joshua Creighton    male   \n",
       "4       1         0  Allison, Mrs. Hudson J C (Bessie Waldo Daniels)  female   \n",
       "\n",
       "     age  sibsp  parch  ticket      fare    cabin embarked boat   body  \\\n",
       "0  29.00      0      0   24160  211.3375       B5        S    2    NaN   \n",
       "1   0.92      1      2  113781  151.5500  C22 C26        S   11    NaN   \n",
       "2   2.00      1      2  113781  151.5500  C22 C26        S  NaN    NaN   \n",
       "3  30.00      1      2  113781  151.5500  C22 C26        S  NaN  135.0   \n",
       "4  25.00      1      2  113781  151.5500  C22 C26        S  NaN    NaN   \n",
       "\n",
       "                         home.dest  \n",
       "0                     St Louis, MO  \n",
       "1  Montreal, PQ / Chesterville, ON  \n",
       "2  Montreal, PQ / Chesterville, ON  \n",
       "3  Montreal, PQ / Chesterville, ON  \n",
       "4  Montreal, PQ / Chesterville, ON  "
      ]
     },
     "execution_count": 11,
     "metadata": {},
     "output_type": "execute_result"
    }
   ],
   "source": [
    "#Download dataset from: http://biostat.mc.vanderbilt.edu/wiki/pub/Main/DataSets/titanic3.csv\n",
    "\n",
    "file_url = \"http://biostat.mc.vanderbilt.edu/wiki/pub/Main/DataSets/titanic3.csv\"\n",
    "data=pd.read_csv(file_url)\n",
    "data.head(5)"
   ]
  },
  {
   "cell_type": "markdown",
   "metadata": {
    "colab_type": "text",
    "id": "vTk1-mF5WYFN"
   },
   "source": [
    "### Preprocessing of the Dataset"
   ]
  },
  {
   "cell_type": "markdown",
   "metadata": {
    "colab_type": "text",
    "id": "kx9UrI9WWt17"
   },
   "source": [
    "\n",
    "\n",
    "---\n",
    "\n",
    "\n",
    "**1. Convert the categorical values of columns 'sex', 'embarked', 'pclass' into dummy values and add them into titanic_data_new DataFrame**\n",
    "\n",
    "\n",
    "\n",
    "\n",
    "---\n",
    "\n"
   ]
  },
  {
   "cell_type": "code",
   "execution_count": 12,
   "metadata": {
    "colab": {},
    "colab_type": "code",
    "id": "AwDh9njbZ0QU"
   },
   "outputs": [
    {
     "data": {
      "text/html": [
       "<div>\n",
       "<style scoped>\n",
       "    .dataframe tbody tr th:only-of-type {\n",
       "        vertical-align: middle;\n",
       "    }\n",
       "\n",
       "    .dataframe tbody tr th {\n",
       "        vertical-align: top;\n",
       "    }\n",
       "\n",
       "    .dataframe thead th {\n",
       "        text-align: right;\n",
       "    }\n",
       "</style>\n",
       "<table border=\"1\" class=\"dataframe\">\n",
       "  <thead>\n",
       "    <tr style=\"text-align: right;\">\n",
       "      <th></th>\n",
       "      <th>male</th>\n",
       "      <th>Q</th>\n",
       "      <th>S</th>\n",
       "      <th>2</th>\n",
       "      <th>3</th>\n",
       "    </tr>\n",
       "  </thead>\n",
       "  <tbody>\n",
       "    <tr>\n",
       "      <td>0</td>\n",
       "      <td>0</td>\n",
       "      <td>0</td>\n",
       "      <td>1</td>\n",
       "      <td>0</td>\n",
       "      <td>0</td>\n",
       "    </tr>\n",
       "    <tr>\n",
       "      <td>1</td>\n",
       "      <td>1</td>\n",
       "      <td>0</td>\n",
       "      <td>1</td>\n",
       "      <td>0</td>\n",
       "      <td>0</td>\n",
       "    </tr>\n",
       "    <tr>\n",
       "      <td>2</td>\n",
       "      <td>0</td>\n",
       "      <td>0</td>\n",
       "      <td>1</td>\n",
       "      <td>0</td>\n",
       "      <td>0</td>\n",
       "    </tr>\n",
       "    <tr>\n",
       "      <td>3</td>\n",
       "      <td>1</td>\n",
       "      <td>0</td>\n",
       "      <td>1</td>\n",
       "      <td>0</td>\n",
       "      <td>0</td>\n",
       "    </tr>\n",
       "    <tr>\n",
       "      <td>4</td>\n",
       "      <td>0</td>\n",
       "      <td>0</td>\n",
       "      <td>1</td>\n",
       "      <td>0</td>\n",
       "      <td>0</td>\n",
       "    </tr>\n",
       "  </tbody>\n",
       "</table>\n",
       "</div>"
      ],
      "text/plain": [
       "   male  Q  S  2  3\n",
       "0     0  0  1  0  0\n",
       "1     1  0  1  0  0\n",
       "2     0  0  1  0  0\n",
       "3     1  0  1  0  0\n",
       "4     0  0  1  0  0"
      ]
     },
     "execution_count": 12,
     "metadata": {},
     "output_type": "execute_result"
    }
   ],
   "source": [
    "sex = pd.get_dummies(data[\"sex\"], drop_first=True)\n",
    "embarked = pd.get_dummies(data[\"embarked\"], drop_first=True)\n",
    "pclass = pd.get_dummies(data[\"pclass\"], drop_first=True)\n",
    "\n",
    "titanic_data_new=pd.concat([sex,embarked,pclass],axis=1)\n",
    "titanic_data_new.head(5)"
   ]
  },
  {
   "cell_type": "markdown",
   "metadata": {
    "colab_type": "text",
    "id": "Z9bxOfzDbY-n"
   },
   "source": [
    "\n",
    "\n",
    "---\n",
    "\n",
    "\n",
    "**2. Fill the missing data in Age and Fare columns with the mean value of the respected column then add these columns to titanic_data_new**\n",
    "\n",
    "\n",
    "---\n",
    "\n"
   ]
  },
  {
   "cell_type": "code",
   "execution_count": 13,
   "metadata": {
    "colab": {},
    "colab_type": "code",
    "id": "DNx7Pr0ehhAs"
   },
   "outputs": [
    {
     "data": {
      "text/html": [
       "<div>\n",
       "<style scoped>\n",
       "    .dataframe tbody tr th:only-of-type {\n",
       "        vertical-align: middle;\n",
       "    }\n",
       "\n",
       "    .dataframe tbody tr th {\n",
       "        vertical-align: top;\n",
       "    }\n",
       "\n",
       "    .dataframe thead th {\n",
       "        text-align: right;\n",
       "    }\n",
       "</style>\n",
       "<table border=\"1\" class=\"dataframe\">\n",
       "  <thead>\n",
       "    <tr style=\"text-align: right;\">\n",
       "      <th></th>\n",
       "      <th>male</th>\n",
       "      <th>Q</th>\n",
       "      <th>S</th>\n",
       "      <th>2</th>\n",
       "      <th>3</th>\n",
       "      <th>age</th>\n",
       "      <th>fare</th>\n",
       "    </tr>\n",
       "  </thead>\n",
       "  <tbody>\n",
       "    <tr>\n",
       "      <td>0</td>\n",
       "      <td>0</td>\n",
       "      <td>0</td>\n",
       "      <td>1</td>\n",
       "      <td>0</td>\n",
       "      <td>0</td>\n",
       "      <td>29.00</td>\n",
       "      <td>211.3375</td>\n",
       "    </tr>\n",
       "    <tr>\n",
       "      <td>1</td>\n",
       "      <td>1</td>\n",
       "      <td>0</td>\n",
       "      <td>1</td>\n",
       "      <td>0</td>\n",
       "      <td>0</td>\n",
       "      <td>0.92</td>\n",
       "      <td>151.5500</td>\n",
       "    </tr>\n",
       "    <tr>\n",
       "      <td>2</td>\n",
       "      <td>0</td>\n",
       "      <td>0</td>\n",
       "      <td>1</td>\n",
       "      <td>0</td>\n",
       "      <td>0</td>\n",
       "      <td>2.00</td>\n",
       "      <td>151.5500</td>\n",
       "    </tr>\n",
       "    <tr>\n",
       "      <td>3</td>\n",
       "      <td>1</td>\n",
       "      <td>0</td>\n",
       "      <td>1</td>\n",
       "      <td>0</td>\n",
       "      <td>0</td>\n",
       "      <td>30.00</td>\n",
       "      <td>151.5500</td>\n",
       "    </tr>\n",
       "    <tr>\n",
       "      <td>4</td>\n",
       "      <td>0</td>\n",
       "      <td>0</td>\n",
       "      <td>1</td>\n",
       "      <td>0</td>\n",
       "      <td>0</td>\n",
       "      <td>25.00</td>\n",
       "      <td>151.5500</td>\n",
       "    </tr>\n",
       "  </tbody>\n",
       "</table>\n",
       "</div>"
      ],
      "text/plain": [
       "   male  Q  S  2  3    age      fare\n",
       "0     0  0  1  0  0  29.00  211.3375\n",
       "1     1  0  1  0  0   0.92  151.5500\n",
       "2     0  0  1  0  0   2.00  151.5500\n",
       "3     1  0  1  0  0  30.00  151.5500\n",
       "4     0  0  1  0  0  25.00  151.5500"
      ]
     },
     "execution_count": 13,
     "metadata": {},
     "output_type": "execute_result"
    }
   ],
   "source": [
    "data[\"age\"].fillna(value=data[\"age\"].mean())\n",
    "data[\"fare\"].fillna(value=data[\"fare\"].mean())\n",
    "titanic_data_new=pd.concat([titanic_data_new,data[\"age\"],data[\"fare\"]],axis=1)\n",
    "titanic_data_new.head(5)"
   ]
  },
  {
   "cell_type": "markdown",
   "metadata": {
    "colab_type": "text",
    "id": "SlRzKfhxkd1M"
   },
   "source": [
    "###Normalization\n",
    "\n",
    "\n",
    "---\n",
    "\n",
    "\n",
    "\n",
    "1. Normalize the columns which have numerical data\n",
    "\n",
    "\n",
    "\n",
    "---\n",
    "\n"
   ]
  },
  {
   "cell_type": "code",
   "execution_count": 14,
   "metadata": {
    "colab": {},
    "colab_type": "code",
    "id": "Y3hpu92TlM38"
   },
   "outputs": [
    {
     "data": {
      "text/html": [
       "<div>\n",
       "<style scoped>\n",
       "    .dataframe tbody tr th:only-of-type {\n",
       "        vertical-align: middle;\n",
       "    }\n",
       "\n",
       "    .dataframe tbody tr th {\n",
       "        vertical-align: top;\n",
       "    }\n",
       "\n",
       "    .dataframe thead th {\n",
       "        text-align: right;\n",
       "    }\n",
       "</style>\n",
       "<table border=\"1\" class=\"dataframe\">\n",
       "  <thead>\n",
       "    <tr style=\"text-align: right;\">\n",
       "      <th></th>\n",
       "      <th>fare</th>\n",
       "      <th>age</th>\n",
       "    </tr>\n",
       "  </thead>\n",
       "  <tbody>\n",
       "    <tr>\n",
       "      <td>0</td>\n",
       "      <td>0.412503</td>\n",
       "      <td>0.361142</td>\n",
       "    </tr>\n",
       "    <tr>\n",
       "      <td>1</td>\n",
       "      <td>0.295806</td>\n",
       "      <td>0.009395</td>\n",
       "    </tr>\n",
       "    <tr>\n",
       "      <td>2</td>\n",
       "      <td>0.295806</td>\n",
       "      <td>0.022924</td>\n",
       "    </tr>\n",
       "    <tr>\n",
       "      <td>3</td>\n",
       "      <td>0.295806</td>\n",
       "      <td>0.373669</td>\n",
       "    </tr>\n",
       "    <tr>\n",
       "      <td>4</td>\n",
       "      <td>0.295806</td>\n",
       "      <td>0.311036</td>\n",
       "    </tr>\n",
       "  </tbody>\n",
       "</table>\n",
       "</div>"
      ],
      "text/plain": [
       "       fare       age\n",
       "0  0.412503  0.361142\n",
       "1  0.295806  0.009395\n",
       "2  0.295806  0.022924\n",
       "3  0.295806  0.373669\n",
       "4  0.295806  0.311036"
      ]
     },
     "execution_count": 14,
     "metadata": {},
     "output_type": "execute_result"
    }
   ],
   "source": [
    "normalized_df=pd.concat([data[\"fare\"],data[\"age\"]],axis=1)\n",
    "normalized_df=(normalized_df-normalized_df.min())/(normalized_df.max()-normalized_df.min())\n",
    "normalized_df.head()"
   ]
  },
  {
   "cell_type": "markdown",
   "metadata": {
    "colab_type": "text",
    "id": "wB9-5x83mFAO"
   },
   "source": [
    "\n",
    "\n",
    "---\n",
    "2. Drop the original age, fare columns\n",
    "3. Append the normalized columns to the titanic_data_new DataFrame.\n",
    "\n",
    "\n",
    "\n",
    "---\n",
    "\n"
   ]
  },
  {
   "cell_type": "code",
   "execution_count": 15,
   "metadata": {
    "colab": {},
    "colab_type": "code",
    "id": "Kb00kM0onQJy"
   },
   "outputs": [
    {
     "data": {
      "text/html": [
       "<div>\n",
       "<style scoped>\n",
       "    .dataframe tbody tr th:only-of-type {\n",
       "        vertical-align: middle;\n",
       "    }\n",
       "\n",
       "    .dataframe tbody tr th {\n",
       "        vertical-align: top;\n",
       "    }\n",
       "\n",
       "    .dataframe thead th {\n",
       "        text-align: right;\n",
       "    }\n",
       "</style>\n",
       "<table border=\"1\" class=\"dataframe\">\n",
       "  <thead>\n",
       "    <tr style=\"text-align: right;\">\n",
       "      <th></th>\n",
       "      <th>male</th>\n",
       "      <th>Q</th>\n",
       "      <th>S</th>\n",
       "      <th>2</th>\n",
       "      <th>3</th>\n",
       "      <th>age</th>\n",
       "      <th>fare</th>\n",
       "    </tr>\n",
       "  </thead>\n",
       "  <tbody>\n",
       "    <tr>\n",
       "      <td>0</td>\n",
       "      <td>0</td>\n",
       "      <td>0</td>\n",
       "      <td>1</td>\n",
       "      <td>0</td>\n",
       "      <td>0</td>\n",
       "      <td>0.361142</td>\n",
       "      <td>0.412503</td>\n",
       "    </tr>\n",
       "    <tr>\n",
       "      <td>1</td>\n",
       "      <td>1</td>\n",
       "      <td>0</td>\n",
       "      <td>1</td>\n",
       "      <td>0</td>\n",
       "      <td>0</td>\n",
       "      <td>0.009395</td>\n",
       "      <td>0.295806</td>\n",
       "    </tr>\n",
       "    <tr>\n",
       "      <td>2</td>\n",
       "      <td>0</td>\n",
       "      <td>0</td>\n",
       "      <td>1</td>\n",
       "      <td>0</td>\n",
       "      <td>0</td>\n",
       "      <td>0.022924</td>\n",
       "      <td>0.295806</td>\n",
       "    </tr>\n",
       "    <tr>\n",
       "      <td>3</td>\n",
       "      <td>1</td>\n",
       "      <td>0</td>\n",
       "      <td>1</td>\n",
       "      <td>0</td>\n",
       "      <td>0</td>\n",
       "      <td>0.373669</td>\n",
       "      <td>0.295806</td>\n",
       "    </tr>\n",
       "    <tr>\n",
       "      <td>4</td>\n",
       "      <td>0</td>\n",
       "      <td>0</td>\n",
       "      <td>1</td>\n",
       "      <td>0</td>\n",
       "      <td>0</td>\n",
       "      <td>0.311036</td>\n",
       "      <td>0.295806</td>\n",
       "    </tr>\n",
       "  </tbody>\n",
       "</table>\n",
       "</div>"
      ],
      "text/plain": [
       "   male  Q  S  2  3       age      fare\n",
       "0     0  0  1  0  0  0.361142  0.412503\n",
       "1     1  0  1  0  0  0.009395  0.295806\n",
       "2     0  0  1  0  0  0.022924  0.295806\n",
       "3     1  0  1  0  0  0.373669  0.295806\n",
       "4     0  0  1  0  0  0.311036  0.295806"
      ]
     },
     "execution_count": 15,
     "metadata": {},
     "output_type": "execute_result"
    }
   ],
   "source": [
    "titanic_data_new=titanic_data_new.drop([\"age\",\"fare\"],axis=1)\n",
    "titanic_data_new=pd.concat([titanic_data_new,normalized_df[\"age\"],normalized_df[\"fare\"]],axis=1)\n",
    "titanic_data_new.head(5)"
   ]
  },
  {
   "cell_type": "markdown",
   "metadata": {
    "colab_type": "text",
    "id": "uLxN3PozntKe"
   },
   "source": [
    "###Plotting\n",
    "1. plot the age against the ID(continuous)\n",
    "2. plot the fare against the ID(scatter)"
   ]
  },
  {
   "cell_type": "code",
   "execution_count": 16,
   "metadata": {
    "colab": {},
    "colab_type": "code",
    "id": "LdSfNEKYn_RO"
   },
   "outputs": [
    {
     "data": {
      "text/plain": [
       "<matplotlib.axes._subplots.AxesSubplot at 0x1723590dc08>"
      ]
     },
     "execution_count": 16,
     "metadata": {},
     "output_type": "execute_result"
    },
    {
     "data": {
      "image/png": "[encoded data removed]",
      "text/plain": [
       "<Figure size 432x288 with 1 Axes>"
      ]
     },
     "metadata": {
      "needs_background": "light"
     },
     "output_type": "display_data"
    },
    {
     "data": {
      "image/png": "[encoded data removed]",
      "text/plain": [
       "<Figure size 432x288 with 1 Axes>"
      ]
     },
     "metadata": {
      "needs_background": "light"
     },
     "output_type": "display_data"
    }
   ],
   "source": [
    "titanic_data_new.reset_index().plot(x=\"index\",y=\"age\")\n",
    "titanic_data_new.reset_index().plot(x=\"index\",y=\"fare\",kind='scatter')"
   ]
  },
  {
   "cell_type": "markdown",
   "metadata": {
    "colab_type": "text",
    "id": "LQr7y6eevTvy"
   },
   "source": [
    "## End of Part - 2\n",
    "---"
   ]
  },
  {
   "cell_type": "markdown",
   "metadata": {
    "colab_type": "text",
    "id": "TWhZcKvfvW2B"
   },
   "source": [
    "## Part - 3\n",
    "---"
   ]
  },
  {
   "cell_type": "markdown",
   "metadata": {
    "colab_type": "text",
    "id": "8bY4H9DszQ2S"
   },
   "source": [
    "In this part, you will work with the library ```matplotlib```. Import the ```pyplot``` from ```matplotlib``` with an alias name ```plt```."
   ]
  },
  {
   "cell_type": "code",
   "execution_count": 17,
   "metadata": {
    "colab": {},
    "colab_type": "code",
    "id": "hPN6qctRzknT"
   },
   "outputs": [],
   "source": [
    "import matplotlib.pyplot as plt\n"
   ]
  },
  {
   "cell_type": "markdown",
   "metadata": {
    "colab_type": "text",
    "id": "fQ6KX_Aezlub"
   },
   "source": [
    "Plot the sine function with domain in $[-3\\pi,3\\pi]$. Label the axes appropriately. Add title $\\sin(x)$. Use latex formatting while adding the title. Set the plot size to (10,10)"
   ]
  },
  {
   "cell_type": "code",
   "execution_count": 18,
   "metadata": {
    "colab": {},
    "colab_type": "code",
    "id": "0tA3J5mA1cQ0",
    "scrolled": true
   },
   "outputs": [
    {
     "data": {
      "image/png": "[encoded data removed]",
      "text/plain": [
       "<Figure size 432x288 with 1 Axes>"
      ]
     },
     "metadata": {
      "needs_background": "light"
     },
     "output_type": "display_data"
    }
   ],
   "source": [
    "x = np.arange(-3*np.pi,3*np.pi,0.1)\n",
    "y = np.sin(x)\n",
    "plt.title(\"sin(x)\")\n",
    "plt.plot(x,y)\n",
    "plt.show()"
   ]
  },
  {
   "cell_type": "markdown",
   "metadata": {
    "colab_type": "text",
    "id": "6KV7RqMm1d8P"
   },
   "source": [
    "Plot $\\sin(x)$ and its spectrum, $\\cos(x)$ and its spectrum in a single plot, in the domain $[-2\\pi,2\\pi]$. Label the plot appropriately."
   ]
  },
  {
   "cell_type": "code",
   "execution_count": 19,
   "metadata": {
    "colab": {},
    "colab_type": "code",
    "id": "-OJuY0HO12Oo"
   },
   "outputs": [
    {
     "data": {
      "image/png": "[encoded data removed]",
      "text/plain": [
       "<Figure size 432x288 with 2 Axes>"
      ]
     },
     "metadata": {
      "needs_background": "light"
     },
     "output_type": "display_data"
    }
   ],
   "source": [
    "x = np.arange(-2*np.pi,2*np.pi,0.1)\n",
    "y = np.sin(x)\n",
    "y1= np.cos(x)\n",
    "fig,axes=plt.subplots(nrows=1,ncols=2)\n",
    "axes[0].plot(x,y)\n",
    "axes[0].set_title(\"sin(x)\")\n",
    "axes[1].plot(x,y1)\n",
    "axes[1].set_title(\"cos(x)\")\n",
    "plt.tight_layout()"
   ]
  },
  {
   "cell_type": "markdown",
   "metadata": {
    "colab_type": "text",
    "id": "1S6ZRm6B18ZF"
   },
   "source": [
    "## End of Part - 3\n",
    "---"
   ]
  },
  {
   "cell_type": "markdown",
   "metadata": {
    "colab_type": "text",
    "id": "MUucpzXBl096"
   },
   "source": [
    "Create a Github repository with the name ***SHALA2020*** and save this assignment there."
   ]
  }
 ],
 "metadata": {
  "accelerator": "GPU",
  "colab": {
   "collapsed_sections": [],
   "name": "Assignment -1 - DS.ipynb",
   "provenance": []
  },
  "kernelspec": {
   "display_name": "Python 3",
   "language": "python",
   "name": "python3"
  },
  "language_info": {
   "codemirror_mode": {
    "name": "ipython",
    "version": 3
   },
   "file_extension": ".py",
   "mimetype": "text/x-python",
   "name": "python",
   "nbconvert_exporter": "python",
   "pygments_lexer": "ipython3",
   "version": "3.7.4"
  }
 },
 "nbformat": 4,
 "nbformat_minor": 1
}
