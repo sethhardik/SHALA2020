{
  "nbformat": 4,
  "nbformat_minor": 0,
  "metadata": {
    "colab": {
      "name": "ML_L1_Assignment.ipynb",
      "provenance": [],
      "collapsed_sections": [],
      "include_colab_link": true
    },
    "kernelspec": {
      "name": "python3",
      "display_name": "Python 3"
    },
    "accelerator": "GPU"
  },
  "cells": [
    {
      "cell_type": "markdown",
      "metadata": {
        "id": "view-in-github",
        "colab_type": "text"
      },
      "source": [
        "<a href=\"https://colab.research.google.com/github/sethhardik/SHALA2020/blob/master/ML_L1_Assignment.ipynb\" target=\"_parent\"><img src=\"https://colab.research.google.com/assets/colab-badge.svg\" alt=\"Open In Colab\"/></a>"
      ]
    },
    {
      "cell_type": "markdown",
      "metadata": {
        "id": "_lnS8bdSWnuK",
        "colab_type": "text"
      },
      "source": [
        "# **Assignment 1** (Intro to Machine Learning)"
      ]
    },
    {
      "cell_type": "markdown",
      "metadata": {
        "id": "a0_VaZIOWzut",
        "colab_type": "text"
      },
      "source": [
        "## Note:\n",
        "\n",
        "* The dataset to be used is `attrition.csv`. This dataset reveals whether a particular employee left the company or not.  \n",
        "* In this dataset, the column named `Attrition` is the target variable and the remaining columns are features. Please note that `Attrition = 1` means the employee left the company, whereas `Attrition = 0` means the opposite of this statement. \n",
        "*  This dataset has been loaded in this assignment as shown below. In case, you are not able to load this data, please note that this data is stored separately as well in the assignment folder. "
      ]
    },
    {
      "cell_type": "markdown",
      "metadata": {
        "id": "qVBTJFDN7m8L",
        "colab_type": "text"
      },
      "source": [
        "## Instructions:\n",
        "\n",
        "* You are required to use a classifier, which can predict the `Attrition` for the employees. \n",
        "* Before implementing any model, you will have to apply suitable encoding to the features and implement exploratory data analysis to know your data better. \n",
        "* You can either define your own custom-made classifer or select classifier(s) available in the `scikit-learn`.\n",
        "* You are supposed to implement a minimum of three classifiers (e.g.  `RandomForestClassifier`, `XGBClassifier`, `DecisionTreeClassifier`, `KNeighborsClassifier`, etc.) and evaluate which one is giving the best peformance. \n",
        "* For each of the classifier,  report the accuracy, precision, recall, roc curve, etc. "
      ]
    },
    {
      "cell_type": "code",
      "metadata": {
        "id": "7bF8pLu6VdCg",
        "colab_type": "code",
        "outputId": "5204cce7-f1ab-4923-a84f-b75ca552b1bb",
        "colab": {
          "base_uri": "https://localhost:8080/",
          "height": 70
        }
      },
      "source": [
        "import pandas as pd\n",
        "import matplotlib.pyplot as plt\n",
        "import seaborn as sns\n",
        "import numpy as np\n",
        "from sklearn import preprocessing\n",
        "from sklearn.ensemble import RandomForestClassifier\n",
        "from sklearn.model_selection import train_test_split \n",
        "from sklearn.metrics import confusion_matrix,roc_curve,classification_report,accuracy_score\n",
        "from sklearn.neighbors import KNeighborsClassifier\n",
        "from xgboost import XGBClassifier\n",
        "from sklearn.tree import DecisionTreeClassifier\n",
        "% matplotlib inline"
      ],
      "execution_count": 1,
      "outputs": [
        {
          "output_type": "stream",
          "text": [
            "/usr/local/lib/python3.6/dist-packages/statsmodels/tools/_testing.py:19: FutureWarning: pandas.util.testing is deprecated. Use the functions in the public API at pandas.testing instead.\n",
            "  import pandas.util.testing as tm\n"
          ],
          "name": "stderr"
        }
      ]
    },
    {
      "cell_type": "code",
      "metadata": {
        "id": "5ABlrvQjXFgv",
        "colab_type": "code",
        "colab": {}
      },
      "source": [
        "data_url = \"https://raw.githubusercontent.com/shala2020/shala2020.github.io/master/Lecture_Materials/Assignments/MachineLearning/L1/attrition.csv\"\n",
        "attrition_data = pd.read_csv(data_url)"
      ],
      "execution_count": 0,
      "outputs": []
    },
    {
      "cell_type": "code",
      "metadata": {
        "id": "ljGWG-REXpeg",
        "colab_type": "code",
        "outputId": "e32cba90-b7c1-470d-efb5-f2e60d41d503",
        "colab": {
          "base_uri": "https://localhost:8080/",
          "height": 299
        }
      },
      "source": [
        "attrition_data.head()"
      ],
      "execution_count": 3,
      "outputs": [
        {
          "output_type": "execute_result",
          "data": {
            "text/html": [
              "<div>\n",
              "<style scoped>\n",
              "    .dataframe tbody tr th:only-of-type {\n",
              "        vertical-align: middle;\n",
              "    }\n",
              "\n",
              "    .dataframe tbody tr th {\n",
              "        vertical-align: top;\n",
              "    }\n",
              "\n",
              "    .dataframe thead th {\n",
              "        text-align: right;\n",
              "    }\n",
              "</style>\n",
              "<table border=\"1\" class=\"dataframe\">\n",
              "  <thead>\n",
              "    <tr style=\"text-align: right;\">\n",
              "      <th></th>\n",
              "      <th>Age</th>\n",
              "      <th>Attrition</th>\n",
              "      <th>BusinessTravel</th>\n",
              "      <th>DailyRate</th>\n",
              "      <th>Department</th>\n",
              "      <th>DistanceFromHome</th>\n",
              "      <th>Education</th>\n",
              "      <th>EducationField</th>\n",
              "      <th>EmployeeCount</th>\n",
              "      <th>EmployeeNumber</th>\n",
              "      <th>EnvironmentSatisfaction</th>\n",
              "      <th>Gender</th>\n",
              "      <th>HourlyRate</th>\n",
              "      <th>JobInvolvement</th>\n",
              "      <th>JobLevel</th>\n",
              "      <th>JobRole</th>\n",
              "      <th>JobSatisfaction</th>\n",
              "      <th>MaritalStatus</th>\n",
              "      <th>MonthlyIncome</th>\n",
              "      <th>MonthlyRate</th>\n",
              "      <th>NumCompaniesWorked</th>\n",
              "      <th>OverTime</th>\n",
              "      <th>PercentSalaryHike</th>\n",
              "      <th>PerformanceRating</th>\n",
              "      <th>RelationshipSatisfaction</th>\n",
              "      <th>StockOptionLevel</th>\n",
              "      <th>TotalWorkingYears</th>\n",
              "      <th>TrainingTimesLastYear</th>\n",
              "      <th>WorkLifeBalance</th>\n",
              "      <th>YearsAtCompany</th>\n",
              "      <th>YearsInCurrentRole</th>\n",
              "      <th>YearsSinceLastPromotion</th>\n",
              "      <th>YearsWithCurrManager</th>\n",
              "      <th>ID</th>\n",
              "    </tr>\n",
              "  </thead>\n",
              "  <tbody>\n",
              "    <tr>\n",
              "      <th>0</th>\n",
              "      <td>41</td>\n",
              "      <td>1</td>\n",
              "      <td>Travel_Rarely</td>\n",
              "      <td>1102</td>\n",
              "      <td>Sales</td>\n",
              "      <td>1</td>\n",
              "      <td>2</td>\n",
              "      <td>Life Sciences</td>\n",
              "      <td>1</td>\n",
              "      <td>1</td>\n",
              "      <td>2</td>\n",
              "      <td>Female</td>\n",
              "      <td>94</td>\n",
              "      <td>3</td>\n",
              "      <td>2</td>\n",
              "      <td>Sales Executive</td>\n",
              "      <td>4</td>\n",
              "      <td>Single</td>\n",
              "      <td>5993</td>\n",
              "      <td>19479</td>\n",
              "      <td>8</td>\n",
              "      <td>Yes</td>\n",
              "      <td>11</td>\n",
              "      <td>3</td>\n",
              "      <td>1</td>\n",
              "      <td>0</td>\n",
              "      <td>8</td>\n",
              "      <td>0</td>\n",
              "      <td>1</td>\n",
              "      <td>6</td>\n",
              "      <td>4</td>\n",
              "      <td>0</td>\n",
              "      <td>5</td>\n",
              "      <td>0</td>\n",
              "    </tr>\n",
              "    <tr>\n",
              "      <th>1</th>\n",
              "      <td>49</td>\n",
              "      <td>0</td>\n",
              "      <td>Travel_Frequently</td>\n",
              "      <td>279</td>\n",
              "      <td>Research &amp; Development</td>\n",
              "      <td>8</td>\n",
              "      <td>1</td>\n",
              "      <td>Life Sciences</td>\n",
              "      <td>1</td>\n",
              "      <td>2</td>\n",
              "      <td>3</td>\n",
              "      <td>Male</td>\n",
              "      <td>61</td>\n",
              "      <td>2</td>\n",
              "      <td>2</td>\n",
              "      <td>Research Scientist</td>\n",
              "      <td>2</td>\n",
              "      <td>Married</td>\n",
              "      <td>5130</td>\n",
              "      <td>24907</td>\n",
              "      <td>1</td>\n",
              "      <td>No</td>\n",
              "      <td>23</td>\n",
              "      <td>4</td>\n",
              "      <td>4</td>\n",
              "      <td>1</td>\n",
              "      <td>10</td>\n",
              "      <td>3</td>\n",
              "      <td>3</td>\n",
              "      <td>10</td>\n",
              "      <td>7</td>\n",
              "      <td>1</td>\n",
              "      <td>7</td>\n",
              "      <td>1</td>\n",
              "    </tr>\n",
              "    <tr>\n",
              "      <th>2</th>\n",
              "      <td>37</td>\n",
              "      <td>1</td>\n",
              "      <td>Travel_Rarely</td>\n",
              "      <td>1373</td>\n",
              "      <td>Research &amp; Development</td>\n",
              "      <td>2</td>\n",
              "      <td>2</td>\n",
              "      <td>Other</td>\n",
              "      <td>1</td>\n",
              "      <td>4</td>\n",
              "      <td>4</td>\n",
              "      <td>Male</td>\n",
              "      <td>92</td>\n",
              "      <td>2</td>\n",
              "      <td>1</td>\n",
              "      <td>Laboratory Technician</td>\n",
              "      <td>3</td>\n",
              "      <td>Single</td>\n",
              "      <td>2090</td>\n",
              "      <td>2396</td>\n",
              "      <td>6</td>\n",
              "      <td>Yes</td>\n",
              "      <td>15</td>\n",
              "      <td>3</td>\n",
              "      <td>2</td>\n",
              "      <td>0</td>\n",
              "      <td>7</td>\n",
              "      <td>3</td>\n",
              "      <td>3</td>\n",
              "      <td>0</td>\n",
              "      <td>0</td>\n",
              "      <td>0</td>\n",
              "      <td>0</td>\n",
              "      <td>2</td>\n",
              "    </tr>\n",
              "    <tr>\n",
              "      <th>3</th>\n",
              "      <td>33</td>\n",
              "      <td>0</td>\n",
              "      <td>Travel_Frequently</td>\n",
              "      <td>1392</td>\n",
              "      <td>Research &amp; Development</td>\n",
              "      <td>3</td>\n",
              "      <td>4</td>\n",
              "      <td>Life Sciences</td>\n",
              "      <td>1</td>\n",
              "      <td>5</td>\n",
              "      <td>4</td>\n",
              "      <td>Female</td>\n",
              "      <td>56</td>\n",
              "      <td>3</td>\n",
              "      <td>1</td>\n",
              "      <td>Research Scientist</td>\n",
              "      <td>3</td>\n",
              "      <td>Married</td>\n",
              "      <td>2909</td>\n",
              "      <td>23159</td>\n",
              "      <td>1</td>\n",
              "      <td>Yes</td>\n",
              "      <td>11</td>\n",
              "      <td>3</td>\n",
              "      <td>3</td>\n",
              "      <td>0</td>\n",
              "      <td>8</td>\n",
              "      <td>3</td>\n",
              "      <td>3</td>\n",
              "      <td>8</td>\n",
              "      <td>7</td>\n",
              "      <td>3</td>\n",
              "      <td>0</td>\n",
              "      <td>3</td>\n",
              "    </tr>\n",
              "    <tr>\n",
              "      <th>4</th>\n",
              "      <td>27</td>\n",
              "      <td>0</td>\n",
              "      <td>Travel_Rarely</td>\n",
              "      <td>591</td>\n",
              "      <td>Research &amp; Development</td>\n",
              "      <td>2</td>\n",
              "      <td>1</td>\n",
              "      <td>Medical</td>\n",
              "      <td>1</td>\n",
              "      <td>7</td>\n",
              "      <td>1</td>\n",
              "      <td>Male</td>\n",
              "      <td>40</td>\n",
              "      <td>3</td>\n",
              "      <td>1</td>\n",
              "      <td>Laboratory Technician</td>\n",
              "      <td>2</td>\n",
              "      <td>Married</td>\n",
              "      <td>3468</td>\n",
              "      <td>16632</td>\n",
              "      <td>9</td>\n",
              "      <td>No</td>\n",
              "      <td>12</td>\n",
              "      <td>3</td>\n",
              "      <td>4</td>\n",
              "      <td>1</td>\n",
              "      <td>6</td>\n",
              "      <td>3</td>\n",
              "      <td>3</td>\n",
              "      <td>2</td>\n",
              "      <td>2</td>\n",
              "      <td>2</td>\n",
              "      <td>2</td>\n",
              "      <td>4</td>\n",
              "    </tr>\n",
              "  </tbody>\n",
              "</table>\n",
              "</div>"
            ],
            "text/plain": [
              "   Age  Attrition  ... YearsWithCurrManager  ID\n",
              "0   41          1  ...                    5   0\n",
              "1   49          0  ...                    7   1\n",
              "2   37          1  ...                    0   2\n",
              "3   33          0  ...                    0   3\n",
              "4   27          0  ...                    2   4\n",
              "\n",
              "[5 rows x 34 columns]"
            ]
          },
          "metadata": {
            "tags": []
          },
          "execution_count": 3
        }
      ]
    },
    {
      "cell_type": "code",
      "metadata": {
        "id": "7rM-1QOW3RD2",
        "colab_type": "code",
        "outputId": "ee9ec597-34b0-46e9-fc46-21f37626948e",
        "colab": {
          "base_uri": "https://localhost:8080/",
          "height": 185
        }
      },
      "source": [
        "# checking if get dummies can be applied on a particluar column or not\n",
        "print(attrition_data[\"EmployeeCount\"].unique())\n",
        "print(attrition_data[\"PerformanceRating\"].unique())\n",
        "print(attrition_data[\"JobLevel\"].unique())    # if get dummmies applied values there will be too much columns\n",
        "print(attrition_data[\"EducationField\"].unique())\n",
        "print(attrition_data[\"BusinessTravel\"].unique())\n",
        "print(attrition_data[\"WorkLifeBalance\"].unique())\n",
        "attrition_data[\"Attrition\"].value_counts()"
      ],
      "execution_count": 4,
      "outputs": [
        {
          "output_type": "stream",
          "text": [
            "[1]\n",
            "[3 4]\n",
            "[2 1 3 4 5]\n",
            "['Life Sciences' 'Other' 'Medical' 'Marketing' 'Technical Degree'\n",
            " 'Human Resources']\n",
            "['Travel_Rarely' 'Travel_Frequently' 'Non-Travel']\n",
            "[1 3 2 4]\n"
          ],
          "name": "stdout"
        },
        {
          "output_type": "execute_result",
          "data": {
            "text/plain": [
              "0    856\n",
              "1    172\n",
              "Name: Attrition, dtype: int64"
            ]
          },
          "metadata": {
            "tags": []
          },
          "execution_count": 4
        }
      ]
    },
    {
      "cell_type": "code",
      "metadata": {
        "id": "SJPWfdpkp5hP",
        "colab_type": "code",
        "outputId": "9ef876b1-8d8d-47a2-935c-9d0a910b5f81",
        "colab": {
          "base_uri": "https://localhost:8080/",
          "height": 1000
        }
      },
      "source": [
        "# visualization\n",
        "attrition_data.hist(figsize=(18,18))\n",
        "plt.show()"
      ],
      "execution_count": 5,
      "outputs": [
        {
          "output_type": "display_data",
          "data": {
            "image/png": "[encoded data removed]",
            "text/plain": [
              "<Figure size 1296x1296 with 30 Axes>"
            ]
          },
          "metadata": {
            "tags": [],
            "needs_background": "light"
          }
        }
      ]
    },
    {
      "cell_type": "code",
      "metadata": {
        "id": "NKHU1HsByLxr",
        "colab_type": "code",
        "outputId": "14194c84-9421-4b51-c5ad-e29f728099cd",
        "colab": {
          "base_uri": "https://localhost:8080/",
          "height": 1000
        }
      },
      "source": [
        "sns.countplot(attrition_data[\"Attrition\"])      # count plot of attrition\n",
        "plt.show()\n",
        "plt.bar(attrition_data[\"Attrition\"],attrition_data[\"YearsWithCurrManager\"])\n",
        "plt.show()\n",
        "cross=pd.crosstab(attrition_data[\"Attrition\"],attrition_data[\"OverTime\"])        \n",
        "cross.plot.bar()\n",
        "plt.show()\n",
        "cross2=pd.crosstab(attrition_data[\"Attrition\"],attrition_data[\"Gender\"])  \n",
        "cross2.plot.bar(stacked=True)\n",
        "# sns.pairplot(attrition_data)\n",
        "plt.show()"
      ],
      "execution_count": 6,
      "outputs": [
        {
          "output_type": "display_data",
          "data": {
            "image/png": "[encoded data removed]",
            "text/plain": [
              "<Figure size 432x288 with 1 Axes>"
            ]
          },
          "metadata": {
            "tags": [],
            "needs_background": "light"
          }
        },
        {
          "output_type": "display_data",
          "data": {
            "image/png": "[encoded data removed]",
            "text/plain": [
              "<Figure size 432x288 with 1 Axes>"
            ]
          },
          "metadata": {
            "tags": [],
            "needs_background": "light"
          }
        },
        {
          "output_type": "display_data",
          "data": {
            "image/png": "[encoded data removed]",
            "text/plain": [
              "<Figure size 432x288 with 1 Axes>"
            ]
          },
          "metadata": {
            "tags": [],
            "needs_background": "light"
          }
        },
        {
          "output_type": "display_data",
          "data": {
            "image/png": "[encoded data removed]",
            "text/plain": [
              "<Figure size 432x288 with 1 Axes>"
            ]
          },
          "metadata": {
            "tags": [],
            "needs_background": "light"
          }
        }
      ]
    },
    {
      "cell_type": "code",
      "metadata": {
        "id": "NTM-OtkA0IpQ",
        "colab_type": "code",
        "colab": {}
      },
      "source": [
        "# splitting dataset into X and Y that is i/p data and o/p or prediction we need\n",
        "X= attrition_data.drop([\"ID\",\"Attrition\",\"EmployeeCount\",\"EmployeeNumber\"],axis=1)   # removing the columns from the dataset that has very less importance in prediction\n",
        "y= attrition_data[\"Attrition\"]"
      ],
      "execution_count": 0,
      "outputs": []
    },
    {
      "cell_type": "code",
      "metadata": {
        "id": "d6uVvsqX9YMT",
        "colab_type": "code",
        "outputId": "97edad21-1fd4-4eb3-fe44-81f8168eca79",
        "colab": {
          "base_uri": "https://localhost:8080/",
          "height": 34
        }
      },
      "source": [
        "# checking for any NA in the dataset\n",
        "X.isna().sum().sum()"
      ],
      "execution_count": 8,
      "outputs": [
        {
          "output_type": "execute_result",
          "data": {
            "text/plain": [
              "0"
            ]
          },
          "metadata": {
            "tags": []
          },
          "execution_count": 8
        }
      ]
    },
    {
      "cell_type": "code",
      "metadata": {
        "id": "dtyo-KGr-kIH",
        "colab_type": "code",
        "colab": {}
      },
      "source": [
        "# converting categorical data into right format to use in the ML algos\n",
        "x_gender=pd.get_dummies(X[\"Gender\"],drop_first=True,prefix=\"embarked\")\n",
        "x_PerformanceRating=pd.get_dummies(X[\"PerformanceRating\"],drop_first=True,prefix=\"PerformanceRating\")  # as there are only 2 values (3,4)\n",
        "x_EducationField=pd.get_dummies(X[\"EducationField\"],drop_first=True,prefix=\"EducationField\")\n",
        "x_BusinessTravel=pd.get_dummies(X[\"BusinessTravel\"],drop_first=True,prefix=\"BusinessTravel\")\n",
        "x_Department=pd.get_dummies(X[\"Department\"],drop_first=True,prefix=\"Department\")\n",
        "x_JobRole=pd.get_dummies(X[\"JobRole\"],drop_first=True,prefix=\"JobRole\")\n",
        "x_MaritalStatus=pd.get_dummies([\"MaritalStatus\"],drop_first=True,prefix=\"MaritalStatus\")\n",
        "x_OverTime=pd.get_dummies(X[\"OverTime\"],drop_first=True,prefix=\"OverTime\")\n",
        "\n",
        "X=pd.concat([X,x_gender,x_PerformanceRating,x_EducationField,x_BusinessTravel,x_Department,x_JobRole,x_MaritalStatus,x_MaritalStatus,x_OverTime],axis=1)\n",
        "\n",
        "X=X.drop([\"Gender\",\"PerformanceRating\",\"EducationField\",\"BusinessTravel\",\"Department\",\"JobRole\",\"MaritalStatus\",\"OverTime\"],axis=1)"
      ],
      "execution_count": 0,
      "outputs": []
    },
    {
      "cell_type": "code",
      "metadata": {
        "id": "fFolX7phNbjd",
        "colab_type": "code",
        "colab": {}
      },
      "source": [
        "# now bringing all the values in one scale performing normalization\n",
        "min_max=preprocessing.MinMaxScaler(feature_range=(0,1))\n",
        "age=min_max.fit_transform(X[\"Age\"].values.reshape(-1, 1))\n",
        "X[\"Age\"]=age\n",
        "\n",
        "dailyrate=min_max.fit_transform(X[\"DailyRate\"].values.reshape(-1, 1))\n",
        "X[\"DailyRate\"]=dailyrate\n",
        "\n",
        "monthlyincome=min_max.fit_transform(X[\"MonthlyIncome\"].values.reshape(-1, 1))\n",
        "X[\"MonthlyIncome\"]=monthlyincome\n",
        "\n",
        "monthlyrate=min_max.fit_transform(X[\"MonthlyRate\"].values.reshape(-1, 1))\n",
        "X[\"MonthlyRate\"]=monthlyrate\n",
        "\n",
        "hourlyrate=min_max.fit_transform(X[\"HourlyRate\"].values.reshape(-1, 1))\n",
        "X[\"HourlyRate\"]=hourlyrate\n",
        "\n",
        "# converting percentage to proper range\n",
        "X[\"PercentSalaryHike\"]=X[\"PercentSalaryHike\"]/100"
      ],
      "execution_count": 0,
      "outputs": []
    },
    {
      "cell_type": "code",
      "metadata": {
        "id": "9FCie2oQD4wX",
        "colab_type": "code",
        "outputId": "1b76cab8-db07-45f3-cd95-b7ac7316b4bd",
        "colab": {
          "base_uri": "https://localhost:8080/",
          "height": 232
        }
      },
      "source": [
        "X.head() # dataset after all pre processing "
      ],
      "execution_count": 11,
      "outputs": [
        {
          "output_type": "execute_result",
          "data": {
            "text/html": [
              "<div>\n",
              "<style scoped>\n",
              "    .dataframe tbody tr th:only-of-type {\n",
              "        vertical-align: middle;\n",
              "    }\n",
              "\n",
              "    .dataframe tbody tr th {\n",
              "        vertical-align: top;\n",
              "    }\n",
              "\n",
              "    .dataframe thead th {\n",
              "        text-align: right;\n",
              "    }\n",
              "</style>\n",
              "<table border=\"1\" class=\"dataframe\">\n",
              "  <thead>\n",
              "    <tr style=\"text-align: right;\">\n",
              "      <th></th>\n",
              "      <th>Age</th>\n",
              "      <th>DailyRate</th>\n",
              "      <th>DistanceFromHome</th>\n",
              "      <th>Education</th>\n",
              "      <th>EnvironmentSatisfaction</th>\n",
              "      <th>HourlyRate</th>\n",
              "      <th>JobInvolvement</th>\n",
              "      <th>JobLevel</th>\n",
              "      <th>JobSatisfaction</th>\n",
              "      <th>MonthlyIncome</th>\n",
              "      <th>MonthlyRate</th>\n",
              "      <th>NumCompaniesWorked</th>\n",
              "      <th>PercentSalaryHike</th>\n",
              "      <th>RelationshipSatisfaction</th>\n",
              "      <th>StockOptionLevel</th>\n",
              "      <th>TotalWorkingYears</th>\n",
              "      <th>TrainingTimesLastYear</th>\n",
              "      <th>WorkLifeBalance</th>\n",
              "      <th>YearsAtCompany</th>\n",
              "      <th>YearsInCurrentRole</th>\n",
              "      <th>YearsSinceLastPromotion</th>\n",
              "      <th>YearsWithCurrManager</th>\n",
              "      <th>embarked_Male</th>\n",
              "      <th>PerformanceRating_4</th>\n",
              "      <th>EducationField_Life Sciences</th>\n",
              "      <th>EducationField_Marketing</th>\n",
              "      <th>EducationField_Medical</th>\n",
              "      <th>EducationField_Other</th>\n",
              "      <th>EducationField_Technical Degree</th>\n",
              "      <th>BusinessTravel_Travel_Frequently</th>\n",
              "      <th>BusinessTravel_Travel_Rarely</th>\n",
              "      <th>Department_Research &amp; Development</th>\n",
              "      <th>Department_Sales</th>\n",
              "      <th>JobRole_Human Resources</th>\n",
              "      <th>JobRole_Laboratory Technician</th>\n",
              "      <th>JobRole_Manager</th>\n",
              "      <th>JobRole_Manufacturing Director</th>\n",
              "      <th>JobRole_Research Director</th>\n",
              "      <th>JobRole_Research Scientist</th>\n",
              "      <th>JobRole_Sales Executive</th>\n",
              "      <th>JobRole_Sales Representative</th>\n",
              "      <th>OverTime_Yes</th>\n",
              "    </tr>\n",
              "  </thead>\n",
              "  <tbody>\n",
              "    <tr>\n",
              "      <th>0</th>\n",
              "      <td>0.547619</td>\n",
              "      <td>0.715820</td>\n",
              "      <td>1</td>\n",
              "      <td>2</td>\n",
              "      <td>2</td>\n",
              "      <td>0.914286</td>\n",
              "      <td>3</td>\n",
              "      <td>2</td>\n",
              "      <td>4</td>\n",
              "      <td>0.262454</td>\n",
              "      <td>0.698053</td>\n",
              "      <td>8</td>\n",
              "      <td>0.11</td>\n",
              "      <td>1</td>\n",
              "      <td>0</td>\n",
              "      <td>8</td>\n",
              "      <td>0</td>\n",
              "      <td>1</td>\n",
              "      <td>6</td>\n",
              "      <td>4</td>\n",
              "      <td>0</td>\n",
              "      <td>5</td>\n",
              "      <td>0</td>\n",
              "      <td>0</td>\n",
              "      <td>1</td>\n",
              "      <td>0</td>\n",
              "      <td>0</td>\n",
              "      <td>0</td>\n",
              "      <td>0</td>\n",
              "      <td>0</td>\n",
              "      <td>1</td>\n",
              "      <td>0</td>\n",
              "      <td>1</td>\n",
              "      <td>0</td>\n",
              "      <td>0</td>\n",
              "      <td>0</td>\n",
              "      <td>0</td>\n",
              "      <td>0</td>\n",
              "      <td>0</td>\n",
              "      <td>1</td>\n",
              "      <td>0</td>\n",
              "      <td>1</td>\n",
              "    </tr>\n",
              "    <tr>\n",
              "      <th>1</th>\n",
              "      <td>0.738095</td>\n",
              "      <td>0.126700</td>\n",
              "      <td>8</td>\n",
              "      <td>1</td>\n",
              "      <td>3</td>\n",
              "      <td>0.442857</td>\n",
              "      <td>2</td>\n",
              "      <td>2</td>\n",
              "      <td>2</td>\n",
              "      <td>0.217009</td>\n",
              "      <td>0.916001</td>\n",
              "      <td>1</td>\n",
              "      <td>0.23</td>\n",
              "      <td>4</td>\n",
              "      <td>1</td>\n",
              "      <td>10</td>\n",
              "      <td>3</td>\n",
              "      <td>3</td>\n",
              "      <td>10</td>\n",
              "      <td>7</td>\n",
              "      <td>1</td>\n",
              "      <td>7</td>\n",
              "      <td>1</td>\n",
              "      <td>1</td>\n",
              "      <td>1</td>\n",
              "      <td>0</td>\n",
              "      <td>0</td>\n",
              "      <td>0</td>\n",
              "      <td>0</td>\n",
              "      <td>1</td>\n",
              "      <td>0</td>\n",
              "      <td>1</td>\n",
              "      <td>0</td>\n",
              "      <td>0</td>\n",
              "      <td>0</td>\n",
              "      <td>0</td>\n",
              "      <td>0</td>\n",
              "      <td>0</td>\n",
              "      <td>1</td>\n",
              "      <td>0</td>\n",
              "      <td>0</td>\n",
              "      <td>0</td>\n",
              "    </tr>\n",
              "    <tr>\n",
              "      <th>2</th>\n",
              "      <td>0.452381</td>\n",
              "      <td>0.909807</td>\n",
              "      <td>2</td>\n",
              "      <td>2</td>\n",
              "      <td>4</td>\n",
              "      <td>0.885714</td>\n",
              "      <td>2</td>\n",
              "      <td>1</td>\n",
              "      <td>3</td>\n",
              "      <td>0.056925</td>\n",
              "      <td>0.012126</td>\n",
              "      <td>6</td>\n",
              "      <td>0.15</td>\n",
              "      <td>2</td>\n",
              "      <td>0</td>\n",
              "      <td>7</td>\n",
              "      <td>3</td>\n",
              "      <td>3</td>\n",
              "      <td>0</td>\n",
              "      <td>0</td>\n",
              "      <td>0</td>\n",
              "      <td>0</td>\n",
              "      <td>1</td>\n",
              "      <td>0</td>\n",
              "      <td>0</td>\n",
              "      <td>0</td>\n",
              "      <td>0</td>\n",
              "      <td>1</td>\n",
              "      <td>0</td>\n",
              "      <td>0</td>\n",
              "      <td>1</td>\n",
              "      <td>1</td>\n",
              "      <td>0</td>\n",
              "      <td>0</td>\n",
              "      <td>1</td>\n",
              "      <td>0</td>\n",
              "      <td>0</td>\n",
              "      <td>0</td>\n",
              "      <td>0</td>\n",
              "      <td>0</td>\n",
              "      <td>0</td>\n",
              "      <td>1</td>\n",
              "    </tr>\n",
              "    <tr>\n",
              "      <th>3</th>\n",
              "      <td>0.357143</td>\n",
              "      <td>0.923407</td>\n",
              "      <td>3</td>\n",
              "      <td>4</td>\n",
              "      <td>4</td>\n",
              "      <td>0.371429</td>\n",
              "      <td>3</td>\n",
              "      <td>1</td>\n",
              "      <td>3</td>\n",
              "      <td>0.100053</td>\n",
              "      <td>0.845814</td>\n",
              "      <td>1</td>\n",
              "      <td>0.11</td>\n",
              "      <td>3</td>\n",
              "      <td>0</td>\n",
              "      <td>8</td>\n",
              "      <td>3</td>\n",
              "      <td>3</td>\n",
              "      <td>8</td>\n",
              "      <td>7</td>\n",
              "      <td>3</td>\n",
              "      <td>0</td>\n",
              "      <td>0</td>\n",
              "      <td>0</td>\n",
              "      <td>1</td>\n",
              "      <td>0</td>\n",
              "      <td>0</td>\n",
              "      <td>0</td>\n",
              "      <td>0</td>\n",
              "      <td>1</td>\n",
              "      <td>0</td>\n",
              "      <td>1</td>\n",
              "      <td>0</td>\n",
              "      <td>0</td>\n",
              "      <td>0</td>\n",
              "      <td>0</td>\n",
              "      <td>0</td>\n",
              "      <td>0</td>\n",
              "      <td>1</td>\n",
              "      <td>0</td>\n",
              "      <td>0</td>\n",
              "      <td>1</td>\n",
              "    </tr>\n",
              "    <tr>\n",
              "      <th>4</th>\n",
              "      <td>0.214286</td>\n",
              "      <td>0.350036</td>\n",
              "      <td>2</td>\n",
              "      <td>1</td>\n",
              "      <td>1</td>\n",
              "      <td>0.142857</td>\n",
              "      <td>3</td>\n",
              "      <td>1</td>\n",
              "      <td>2</td>\n",
              "      <td>0.129489</td>\n",
              "      <td>0.583738</td>\n",
              "      <td>9</td>\n",
              "      <td>0.12</td>\n",
              "      <td>4</td>\n",
              "      <td>1</td>\n",
              "      <td>6</td>\n",
              "      <td>3</td>\n",
              "      <td>3</td>\n",
              "      <td>2</td>\n",
              "      <td>2</td>\n",
              "      <td>2</td>\n",
              "      <td>2</td>\n",
              "      <td>1</td>\n",
              "      <td>0</td>\n",
              "      <td>0</td>\n",
              "      <td>0</td>\n",
              "      <td>1</td>\n",
              "      <td>0</td>\n",
              "      <td>0</td>\n",
              "      <td>0</td>\n",
              "      <td>1</td>\n",
              "      <td>1</td>\n",
              "      <td>0</td>\n",
              "      <td>0</td>\n",
              "      <td>1</td>\n",
              "      <td>0</td>\n",
              "      <td>0</td>\n",
              "      <td>0</td>\n",
              "      <td>0</td>\n",
              "      <td>0</td>\n",
              "      <td>0</td>\n",
              "      <td>0</td>\n",
              "    </tr>\n",
              "  </tbody>\n",
              "</table>\n",
              "</div>"
            ],
            "text/plain": [
              "        Age  DailyRate  ...  JobRole_Sales Representative  OverTime_Yes\n",
              "0  0.547619   0.715820  ...                             0             1\n",
              "1  0.738095   0.126700  ...                             0             0\n",
              "2  0.452381   0.909807  ...                             0             1\n",
              "3  0.357143   0.923407  ...                             0             1\n",
              "4  0.214286   0.350036  ...                             0             0\n",
              "\n",
              "[5 rows x 42 columns]"
            ]
          },
          "metadata": {
            "tags": []
          },
          "execution_count": 11
        }
      ]
    },
    {
      "cell_type": "code",
      "metadata": {
        "id": "0LSKe138HsH3",
        "colab_type": "code",
        "colab": {}
      },
      "source": [
        "# now our dataset looks cleaned and now we can apply machine learning algos on it\n",
        "X_train,X_test,Y_train,Y_test=train_test_split(X,y,test_size=0.2,random_state=123)"
      ],
      "execution_count": 0,
      "outputs": []
    },
    {
      "cell_type": "code",
      "metadata": {
        "id": "Kx6ERwXPISyP",
        "colab_type": "code",
        "outputId": "4669b592-12ef-47c5-81ec-ad7cb9b88355",
        "colab": {
          "base_uri": "https://localhost:8080/",
          "height": 269
        }
      },
      "source": [
        "rfc=RandomForestClassifier(n_estimators=80)\n",
        "rfc.fit(X_train,Y_train)\n",
        "pred_test = rfc.predict(X_test)\n",
        "pred_train = rfc.predict(X_train)\n",
        "print(\"Training Data accuracy Score:\",accuracy_score(Y_train,pred_train))\n",
        "print(\"Training Data accuracy Score:\",accuracy_score(Y_test,pred_test))\n",
        "print(\"Confusion Matrix:\\n\",confusion_matrix(Y_test,pred_test))\n",
        "print(\"Classification report:\\n\",classification_report(Y_test,pred_test))"
      ],
      "execution_count": 13,
      "outputs": [
        {
          "output_type": "stream",
          "text": [
            "Training Data accuracy Score: 1.0\n",
            "Training Data accuracy Score: 0.8543689320388349\n",
            "Confusion Matrix:\n",
            " [[171   1]\n",
            " [ 29   5]]\n",
            "Classification report:\n",
            "               precision    recall  f1-score   support\n",
            "\n",
            "           0       0.85      0.99      0.92       172\n",
            "           1       0.83      0.15      0.25        34\n",
            "\n",
            "    accuracy                           0.85       206\n",
            "   macro avg       0.84      0.57      0.58       206\n",
            "weighted avg       0.85      0.85      0.81       206\n",
            "\n"
          ],
          "name": "stdout"
        }
      ]
    },
    {
      "cell_type": "code",
      "metadata": {
        "id": "eoJmu-Inx3rC",
        "colab_type": "code",
        "outputId": "ef82db11-c88d-4c80-f2c3-dd11cfd974b2",
        "colab": {
          "base_uri": "https://localhost:8080/",
          "height": 295
        }
      },
      "source": [
        "probs = rfc.predict_proba(X_test)   # predict_proba only gives the probability of 0 and 1 \n",
        "probs = probs[:, 1]   # selecting probability of 1\n",
        "fper, tper, thresholds = roc_curve(Y_test, probs) \n",
        "plt.plot(fper, tper)\n",
        "plt.plot([0,1], [0,1], 'k--')\n",
        "plt.xlabel('False Positive Rate')\n",
        "plt.ylabel('True Positive Rate')\n",
        "plt.title('RandomForestClassifier ROC curve')\n",
        "plt.show()"
      ],
      "execution_count": 14,
      "outputs": [
        {
          "output_type": "display_data",
          "data": {
            "image/png": "[encoded data removed]",
            "text/plain": [
              "<Figure size 432x288 with 1 Axes>"
            ]
          },
          "metadata": {
            "tags": [],
            "needs_background": "light"
          }
        }
      ]
    },
    {
      "cell_type": "code",
      "metadata": {
        "id": "fTxLR_nty7bH",
        "colab_type": "code",
        "outputId": "4eb7bef5-29df-4858-99df-f28be970ee5f",
        "colab": {
          "base_uri": "https://localhost:8080/",
          "height": 269
        }
      },
      "source": [
        "xgb_class=XGBClassifier(learning_rate=0.05)\n",
        "xgb_class.fit(X_train,Y_train)\n",
        "pred_test = xgb_class.predict(X_test)\n",
        "pred_train = xgb_class.predict(X_train)\n",
        "print(\"Training Data accuracy Score:\",accuracy_score(Y_train,pred_train))\n",
        "print(\"Training Data accuracy Score:\",accuracy_score(Y_test,pred_test))\n",
        "print(\"Confusion Matrix:\\n\",confusion_matrix(Y_test,pred_test))\n",
        "print(\"Classification report:\\n\",classification_report(Y_test,pred_test))"
      ],
      "execution_count": 15,
      "outputs": [
        {
          "output_type": "stream",
          "text": [
            "Training Data accuracy Score: 0.9063260340632603\n",
            "Training Data accuracy Score: 0.8543689320388349\n",
            "Confusion Matrix:\n",
            " [[169   3]\n",
            " [ 27   7]]\n",
            "Classification report:\n",
            "               precision    recall  f1-score   support\n",
            "\n",
            "           0       0.86      0.98      0.92       172\n",
            "           1       0.70      0.21      0.32        34\n",
            "\n",
            "    accuracy                           0.85       206\n",
            "   macro avg       0.78      0.59      0.62       206\n",
            "weighted avg       0.84      0.85      0.82       206\n",
            "\n"
          ],
          "name": "stdout"
        }
      ]
    },
    {
      "cell_type": "code",
      "metadata": {
        "id": "xKTBTgkU1wG4",
        "colab_type": "code",
        "outputId": "fb97f982-0f8f-4c84-a809-a07a980e4bc7",
        "colab": {
          "base_uri": "https://localhost:8080/",
          "height": 295
        }
      },
      "source": [
        "probs = xgb_class.predict_proba(X_test)   # predict_proba only gives the probability of 0 and 1 \n",
        "probs = probs[:, 1]   # selecting probability of 1\n",
        "fper, tper, thresholds = roc_curve(Y_test, probs) \n",
        "plt.plot(fper, tper)\n",
        "plt.plot([0,1], [0,1], 'k--')\n",
        "plt.xlabel('False Positive Rate')\n",
        "plt.ylabel('True Positive Rate')\n",
        "plt.title('XGB Classifier ROC curve')\n",
        "plt.show()"
      ],
      "execution_count": 16,
      "outputs": [
        {
          "output_type": "display_data",
          "data": {
            "image/png": "[encoded data removed]",
            "text/plain": [
              "<Figure size 432x288 with 1 Axes>"
            ]
          },
          "metadata": {
            "tags": [],
            "needs_background": "light"
          }
        }
      ]
    },
    {
      "cell_type": "code",
      "metadata": {
        "id": "YNkBABIH0LS7",
        "colab_type": "code",
        "outputId": "af62f65e-c4b2-4e24-d4cb-c706e7e1e5c6",
        "colab": {
          "base_uri": "https://localhost:8080/",
          "height": 269
        }
      },
      "source": [
        "dec_tree=DecisionTreeClassifier()\n",
        "dec_tree.fit(X_train,Y_train)\n",
        "pred_test = dec_tree.predict(X_test)\n",
        "pred_train = dec_tree.predict(X_train)\n",
        "print(\"Training Data accuracy Score:\",accuracy_score(Y_train,pred_train))\n",
        "print(\"Training Data accuracy Score:\",accuracy_score(Y_test,pred_test))\n",
        "print(\"Confusion Matrix:\\n\",confusion_matrix(Y_test,pred_test))\n",
        "print(\"Classification report:\\n\",classification_report(Y_test,pred_test))"
      ],
      "execution_count": 17,
      "outputs": [
        {
          "output_type": "stream",
          "text": [
            "Training Data accuracy Score: 1.0\n",
            "Training Data accuracy Score: 0.7961165048543689\n",
            "Confusion Matrix:\n",
            " [[146  26]\n",
            " [ 16  18]]\n",
            "Classification report:\n",
            "               precision    recall  f1-score   support\n",
            "\n",
            "           0       0.90      0.85      0.87       172\n",
            "           1       0.41      0.53      0.46        34\n",
            "\n",
            "    accuracy                           0.80       206\n",
            "   macro avg       0.66      0.69      0.67       206\n",
            "weighted avg       0.82      0.80      0.81       206\n",
            "\n"
          ],
          "name": "stdout"
        }
      ]
    },
    {
      "cell_type": "code",
      "metadata": {
        "id": "GXQwu8mH16t-",
        "colab_type": "code",
        "outputId": "242df646-2fc2-4819-e456-05cd2f9cb76c",
        "colab": {
          "base_uri": "https://localhost:8080/",
          "height": 295
        }
      },
      "source": [
        "probs = dec_tree.predict_proba(X_test)   # predict_proba only gives the probability of 0 and 1 \n",
        "probs = probs[:, 1]   # selecting probability of 1\n",
        "fper, tper, thresholds = roc_curve(Y_test, probs) \n",
        "plt.plot(fper, tper)\n",
        "plt.plot([0,1], [0,1], 'k--')\n",
        "plt.xlabel('False Positive Rate')\n",
        "plt.ylabel('True Positive Rate')\n",
        "plt.title('DecisionTreeClassifier ROC curve')\n",
        "plt.show()"
      ],
      "execution_count": 18,
      "outputs": [
        {
          "output_type": "display_data",
          "data": {
            "image/png": "[encoded data removed]",
            "text/plain": [
              "<Figure size 432x288 with 1 Axes>"
            ]
          },
          "metadata": {
            "tags": [],
            "needs_background": "light"
          }
        }
      ]
    },
    {
      "cell_type": "code",
      "metadata": {
        "id": "zMpoA17Q00bt",
        "colab_type": "code",
        "outputId": "9b69ea6c-6f94-4a61-ab68-25f99ab823d9",
        "colab": {
          "base_uri": "https://localhost:8080/",
          "height": 269
        }
      },
      "source": [
        "knn=KNeighborsClassifier(n_neighbors=10)\n",
        "knn.fit(X_train,Y_train)\n",
        "pred_test = knn.predict(X_test)\n",
        "pred_train = knn.predict(X_train)\n",
        "print(\"Training Data accuracy Score:\",accuracy_score(Y_train,pred_train))\n",
        "print(\"Training Data accuracy Score:\",accuracy_score(Y_test,pred_test))\n",
        "print(\"Confusion Matrix:\\n\",confusion_matrix(Y_test,pred_test))\n",
        "print(\"Classification report:\\n\",classification_report(Y_test,pred_test))"
      ],
      "execution_count": 19,
      "outputs": [
        {
          "output_type": "stream",
          "text": [
            "Training Data accuracy Score: 0.8357664233576643\n",
            "Training Data accuracy Score: 0.8398058252427184\n",
            "Confusion Matrix:\n",
            " [[172   0]\n",
            " [ 33   1]]\n",
            "Classification report:\n",
            "               precision    recall  f1-score   support\n",
            "\n",
            "           0       0.84      1.00      0.91       172\n",
            "           1       1.00      0.03      0.06        34\n",
            "\n",
            "    accuracy                           0.84       206\n",
            "   macro avg       0.92      0.51      0.48       206\n",
            "weighted avg       0.87      0.84      0.77       206\n",
            "\n"
          ],
          "name": "stdout"
        }
      ]
    },
    {
      "cell_type": "code",
      "metadata": {
        "id": "coP8tW8M2EzL",
        "colab_type": "code",
        "outputId": "e37a7f26-08e6-4283-dbc8-070a7d184c3c",
        "colab": {
          "base_uri": "https://localhost:8080/",
          "height": 295
        }
      },
      "source": [
        "probs = knn.predict_proba(X_test)   # predict_proba only gives the probability of 0 and 1 \n",
        "probs = probs[:, 1]   # selecting probability of 1\n",
        "fper, tper, thresholds = roc_curve(Y_test, probs) \n",
        "plt.plot(fper, tper)\n",
        "plt.plot([0,1], [0,1], 'k--')\n",
        "plt.xlabel('False Positive Rate')\n",
        "plt.ylabel('True Positive Rate')\n",
        "plt.title('knnClassifier ROC curve')\n",
        "plt.show()"
      ],
      "execution_count": 20,
      "outputs": [
        {
          "output_type": "display_data",
          "data": {
            "image/png": "[encoded data removed]",
            "text/plain": [
              "<Figure size 432x288 with 1 Axes>"
            ]
          },
          "metadata": {
            "tags": [],
            "needs_background": "light"
          }
        }
      ]
    },
    {
      "cell_type": "code",
      "metadata": {
        "id": "NxDG1sotLhWh",
        "colab_type": "code",
        "outputId": "286ba8ed-1f59-48d1-9b29-cc94d5b08e09",
        "colab": {
          "base_uri": "https://localhost:8080/",
          "height": 437
        }
      },
      "source": [
        "# xgbboost technique using gridsearch algo on it to find best values of hyperparameter\n",
        "parameter={\n",
        "    \"max_depth\": range(2,10,1),\n",
        "    \"learning_rate\":[0.1,0.01,0.5],\n",
        "    \"n_estimators\": range(60,440,60)\n",
        "}\n",
        "xgb_class_new=XGBClassifier()\n",
        "from sklearn.model_selection import GridSearchCV\n",
        "grid_search=GridSearchCV(\n",
        "    estimator=xgb_class_new,\n",
        "    param_grid=parameter,\n",
        "    scoring=\"roc_auc\",\n",
        "    n_jobs=10,\n",
        "    cv=10,\n",
        "    verbose=True\n",
        ")\n",
        "grid_search.fit(X_train,Y_train)"
      ],
      "execution_count": 21,
      "outputs": [
        {
          "output_type": "stream",
          "text": [
            "Fitting 10 folds for each of 168 candidates, totalling 1680 fits\n"
          ],
          "name": "stdout"
        },
        {
          "output_type": "stream",
          "text": [
            "[Parallel(n_jobs=10)]: Using backend LokyBackend with 10 concurrent workers.\n",
            "[Parallel(n_jobs=10)]: Done  30 tasks      | elapsed:   10.1s\n",
            "[Parallel(n_jobs=10)]: Done 180 tasks      | elapsed:   43.1s\n",
            "[Parallel(n_jobs=10)]: Done 430 tasks      | elapsed:  2.3min\n",
            "[Parallel(n_jobs=10)]: Done 780 tasks      | elapsed:  4.1min\n",
            "[Parallel(n_jobs=10)]: Done 1230 tasks      | elapsed:  7.2min\n",
            "[Parallel(n_jobs=10)]: Done 1680 out of 1680 | elapsed:  9.2min finished\n"
          ],
          "name": "stderr"
        },
        {
          "output_type": "execute_result",
          "data": {
            "text/plain": [
              "GridSearchCV(cv=10, error_score=nan,\n",
              "             estimator=XGBClassifier(base_score=0.5, booster='gbtree',\n",
              "                                     colsample_bylevel=1, colsample_bynode=1,\n",
              "                                     colsample_bytree=1, gamma=0,\n",
              "                                     learning_rate=0.1, max_delta_step=0,\n",
              "                                     max_depth=3, min_child_weight=1,\n",
              "                                     missing=None, n_estimators=100, n_jobs=1,\n",
              "                                     nthread=None, objective='binary:logistic',\n",
              "                                     random_state=0, reg_alpha=0, reg_lambda=1,\n",
              "                                     scale_pos_weight=1, seed=None, silent=None,\n",
              "                                     subsample=1, verbosity=1),\n",
              "             iid='deprecated', n_jobs=10,\n",
              "             param_grid={'learning_rate': [0.1, 0.01, 0.5],\n",
              "                         'max_depth': range(2, 10),\n",
              "                         'n_estimators': range(60, 440, 60)},\n",
              "             pre_dispatch='2*n_jobs', refit=True, return_train_score=False,\n",
              "             scoring='roc_auc', verbose=True)"
            ]
          },
          "metadata": {
            "tags": []
          },
          "execution_count": 21
        }
      ]
    },
    {
      "cell_type": "code",
      "metadata": {
        "id": "rTbjp_k3TEsG",
        "colab_type": "code",
        "outputId": "bbb6bdb7-91d1-4ea7-973f-fb7c2d9a840b",
        "colab": {
          "base_uri": "https://localhost:8080/",
          "height": 34
        }
      },
      "source": [
        "best_params = grid_search.best_params_\n",
        "best_params"
      ],
      "execution_count": 22,
      "outputs": [
        {
          "output_type": "execute_result",
          "data": {
            "text/plain": [
              "{'learning_rate': 0.1, 'max_depth': 2, 'n_estimators': 360}"
            ]
          },
          "metadata": {
            "tags": []
          },
          "execution_count": 22
        }
      ]
    },
    {
      "cell_type": "code",
      "metadata": {
        "id": "xNaczka7Topd",
        "colab_type": "code",
        "outputId": "dd44077d-9fb0-46b7-8b2b-d7466222930f",
        "colab": {
          "base_uri": "https://localhost:8080/",
          "height": 269
        }
      },
      "source": [
        "xgb_class_new1=XGBClassifier(learning_rate=0.1,max_depth=2,n_estimators=360)\n",
        "xgb_class_new1.fit(X_train,Y_train)\n",
        "pred_test = xgb_class_new1.predict(X_test)\n",
        "pred_train = xgb_class_new1.predict(X_train)\n",
        "print(\"Training Data accuracy Score:\",accuracy_score(Y_train,pred_train))\n",
        "print(\"Training Data accuracy Score:\",accuracy_score(Y_test,pred_test))\n",
        "print(\"Confusion Matrix:\\n\",confusion_matrix(Y_test,pred_test))\n",
        "print(\"Classification report:\\n\",classification_report(Y_test,pred_test))"
      ],
      "execution_count": 23,
      "outputs": [
        {
          "output_type": "stream",
          "text": [
            "Training Data accuracy Score: 0.9635036496350365\n",
            "Training Data accuracy Score: 0.8786407766990292\n",
            "Confusion Matrix:\n",
            " [[167   5]\n",
            " [ 20  14]]\n",
            "Classification report:\n",
            "               precision    recall  f1-score   support\n",
            "\n",
            "           0       0.89      0.97      0.93       172\n",
            "           1       0.74      0.41      0.53        34\n",
            "\n",
            "    accuracy                           0.88       206\n",
            "   macro avg       0.81      0.69      0.73       206\n",
            "weighted avg       0.87      0.88      0.86       206\n",
            "\n"
          ],
          "name": "stdout"
        }
      ]
    },
    {
      "cell_type": "code",
      "metadata": {
        "id": "TVu7gJB-UAAY",
        "colab_type": "code",
        "outputId": "9b0e62c9-1a5a-49e0-cd66-31f5746bd4c3",
        "colab": {
          "base_uri": "https://localhost:8080/",
          "height": 295
        }
      },
      "source": [
        "probs = xgb_class.predict_proba(X_test)   # predict_proba only gives the probability of 0 and 1 \n",
        "probs = probs[:, 1]   # selecting probability of 1\n",
        "fper, tper, thresholds = roc_curve(Y_test, probs) \n",
        "plt.plot(fper, tper)\n",
        "plt.plot([0,1], [0,1], 'k--')\n",
        "plt.xlabel('False Positive Rate')\n",
        "plt.ylabel('True Positive Rate')\n",
        "plt.title('XGB Classifier ROC curve after gridsearch')\n",
        "plt.show()"
      ],
      "execution_count": 24,
      "outputs": [
        {
          "output_type": "display_data",
          "data": {
            "image/png": "[encoded data removed]",
            "text/plain": [
              "<Figure size 432x288 with 1 Axes>"
            ]
          },
          "metadata": {
            "tags": [],
            "needs_background": "light"
          }
        }
      ]
    },
    {
      "cell_type": "code",
      "metadata": {
        "id": "91bXW3WZLkXb",
        "colab_type": "code",
        "colab": {
          "base_uri": "https://localhost:8080/",
          "height": 67
        },
        "outputId": "d23d88b1-1fc1-4e00-e356-95035606969c"
      },
      "source": [
        "# k fold \n",
        "from sklearn.model_selection import KFold\n",
        "# initializing kflod with no. of splits \n",
        "kf = KFold(n_splits = 5,shuffle=True)\n",
        "# classifier object created \n",
        "rf_class=RandomForestClassifier(n_estimators=80)\n",
        "scores = []\n",
        "for i in range(5):     # loop till all 5 splits used as validation data\n",
        "    result = next(kf.split(X), None)      # contains 2 array 1. for training data 2. for testing validation data \n",
        "    x_train = X.iloc[result[0]]         # saving rows of index result in variables \n",
        "    x_test = X.iloc[result[1]]\n",
        "    y_train = y.iloc[result[0]]\n",
        "    y_test = y.iloc[result[1]]\n",
        "\n",
        "    rf_class.fit(x_train,y_train)  # fitting 5 times on each fold we have created \n",
        "    predictions = rf_class.predict(x_test)  \n",
        "    scores.append(accuracy_score(y_test,predictions)) #accuracy score of each fold we have created \n",
        "# print(result)\n",
        "print('each Iteration: ', scores)\n",
        "print('Average K-Fold Score :' , np.mean(scores))              # total accuracy of the kfold cross validation technique\n",
        "y_test.shape\n"
      ],
      "execution_count": 59,
      "outputs": [
        {
          "output_type": "stream",
          "text": [
            "each Iteration:  [0.8300970873786407, 0.8592233009708737, 0.8543689320388349, 0.8543689320388349, 0.8446601941747572]\n",
            "Average K-Fold Score : 0.8485436893203883\n"
          ],
          "name": "stdout"
        },
        {
          "output_type": "execute_result",
          "data": {
            "text/plain": [
              "(206,)"
            ]
          },
          "metadata": {
            "tags": []
          },
          "execution_count": 59
        }
      ]
    },
    {
      "cell_type": "code",
      "metadata": {
        "id": "GYrNXhp6Xtt4",
        "colab_type": "code",
        "colab": {
          "base_uri": "https://localhost:8080/",
          "height": 34
        },
        "outputId": "6ce6184d-4195-4ca2-97c2-23d01340bb68"
      },
      "source": [
        ""
      ],
      "execution_count": 55,
      "outputs": [
        {
          "output_type": "execute_result",
          "data": {
            "text/plain": [
              "(206,)"
            ]
          },
          "metadata": {
            "tags": []
          },
          "execution_count": 55
        }
      ]
    },
    {
      "cell_type": "markdown",
      "metadata": {
        "id": "Z6Z7spcObKvd",
        "colab_type": "text"
      },
      "source": [
        "## Resources:\n",
        "\n",
        "* You might want to refer to the [lecture notebook](https://github.com/shala2020/shala2020.github.io/tree/master/Lecture_Materials/Google_Colab_Notebooks/MachineLearning/L1) for revising the concepts.\n",
        "* You can also refer to the pre-work material for the first lecture on ML.  "
      ]
    }
  ]
}