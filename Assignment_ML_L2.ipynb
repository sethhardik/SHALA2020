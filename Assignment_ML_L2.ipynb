{
  "nbformat": 4,
  "nbformat_minor": 0,
  "metadata": {
    "colab": {
      "name": "Assignment_ML_L2.ipynb",
      "provenance": [],
      "collapsed_sections": [],
      "include_colab_link": true
    },
    "kernelspec": {
      "name": "python3",
      "display_name": "Python 3"
    }
  },
  "cells": [
    {
      "cell_type": "markdown",
      "metadata": {
        "id": "view-in-github",
        "colab_type": "text"
      },
      "source": [
        "<a href=\"https://colab.research.google.com/github/sethhardik/SHALA2020/blob/master/Assignment_ML_L2.ipynb\" target=\"_parent\"><img src=\"https://colab.research.google.com/assets/colab-badge.svg\" alt=\"Open In Colab\"/></a>"
      ]
    },
    {
      "cell_type": "markdown",
      "metadata": {
        "id": "RNGCt-t9hq7H",
        "colab_type": "text"
      },
      "source": [
        "# Assignment 2: **Machine learning with tree based models** "
      ]
    },
    {
      "cell_type": "markdown",
      "metadata": {
        "id": "AlmhCLRrfoG4",
        "colab_type": "text"
      },
      "source": [
        "In this assignment, you will work on the **Titanic** dataset and use machine learning to create a model that predicts which passengers survived the **Titanic** shipwreck. "
      ]
    },
    {
      "cell_type": "markdown",
      "metadata": {
        "id": "ysVvT5atiUCf",
        "colab_type": "text"
      },
      "source": [
        "---\n",
        "## About the dataset:\n",
        "---\n",
        "* The column named  `Survived` is the label and the remaining columns are features. \n",
        "* The features can be described as given below:\n",
        "  <table>\n",
        "  <thead>\n",
        "    <tr>\n",
        "      <th>Variable</th>\n",
        "      <th>Definition </th>\n",
        "    </tr>\n",
        "  </thead>\n",
        "  <tbody>\n",
        "    <tr>\n",
        "      <td>pclass</td>\n",
        "      <td>Ticket class\t</td>\n",
        "    </tr>\n",
        "    <tr>\n",
        "      <td>SibSp</td>\n",
        "      <td>Number of siblings / spouses aboard the Titanic</td>\n",
        "    </tr>\n",
        "    <tr>\n",
        "      <td>Parch</td>\n",
        "      <td>Number of parents / children aboard the Titanic</td>\n",
        "    </tr>\n",
        "    <tr>\n",
        "      <td>Ticket</td>\n",
        "      <td>Ticket number</td>\n",
        "    </tr>\n",
        "    <tr>\n",
        "      <td>Embarked</td>\n",
        "      <td>Port of Embarkation: C = Cherbourg, Q = Queenstown, S = Southampton</td>\n",
        "    </tr>\n",
        "  </tbody>\n",
        "</table> \t"
      ]
    },
    {
      "cell_type": "markdown",
      "metadata": {
        "id": "2XYBBIcKkXtu",
        "colab_type": "text"
      },
      "source": [
        "---\n",
        "## Instructions\n",
        "---\n",
        "* Apply suitable data pre-processing techniques, if needed. \n",
        "* Implement a few classifiers to create your model and compare the performance metrics by plotting the curves like roc_auc, confusion matrix, etc. "
      ]
    },
    {
      "cell_type": "markdown",
      "metadata": {
        "id": "kLqhS4qKx6IW",
        "colab_type": "text"
      },
      "source": [
        "### NOTE TO SELF :\n",
        "In Grid Search, we try every combination of a preset list of values of the hyper-parameters and choose the best combination based on the cross validation score.\n",
        "\n",
        "Random search tries random combinations of a range of values (we have to define the number iterations). It is good in testing a wide range of values and normally it reaches a very good combination very fast, but the problem that it doesn’t guarantee to give the best parameters combination.\n",
        "\n",
        "On the other hand, Grid search will give the best combination but it can take a lot of time."
      ]
    },
    {
      "cell_type": "code",
      "metadata": {
        "id": "KE79bLl6iCx2",
        "colab_type": "code",
        "outputId": "1b9c51dd-2f33-49dd-e423-e60798608e11",
        "colab": {
          "base_uri": "https://localhost:8080/",
          "height": 70
        }
      },
      "source": [
        "import pandas as pd \n",
        "import numpy as np\n",
        "import seaborn as sns\n",
        "import matplotlib.pyplot as plt\n",
        "from sklearn.ensemble import RandomForestClassifier,AdaBoostClassifier,GradientBoostingClassifier,BaggingClassifier\n",
        "from sklearn.tree import DecisionTreeClassifier\n",
        "from xgboost import XGBClassifier\n",
        "from sklearn.model_selection import train_test_split,GridSearchCV,cross_val_score\n",
        "from sklearn.metrics import accuracy_score,classification_report,roc_curve,confusion_matrix,roc_auc_score"
      ],
      "execution_count": 1,
      "outputs": [
        {
          "output_type": "stream",
          "text": [
            "/usr/local/lib/python3.6/dist-packages/statsmodels/tools/_testing.py:19: FutureWarning: pandas.util.testing is deprecated. Use the functions in the public API at pandas.testing instead.\n",
            "  import pandas.util.testing as tm\n"
          ],
          "name": "stderr"
        }
      ]
    },
    {
      "cell_type": "code",
      "metadata": {
        "id": "eoqpA6qmZ_JT",
        "colab_type": "code",
        "outputId": "e6fac095-b742-4ad6-8701-8bd727c163bb",
        "colab": {
          "base_uri": "https://localhost:8080/",
          "height": 195
        }
      },
      "source": [
        "titanic_data = pd.read_csv('https://raw.githubusercontent.com/shala2020/shala2020.github.io/master/Lecture_Materials/Assignments/MachineLearning/L2/titanic.csv')\n",
        "titanic_data.head()"
      ],
      "execution_count": 2,
      "outputs": [
        {
          "output_type": "execute_result",
          "data": {
            "text/html": [
              "<div>\n",
              "<style scoped>\n",
              "    .dataframe tbody tr th:only-of-type {\n",
              "        vertical-align: middle;\n",
              "    }\n",
              "\n",
              "    .dataframe tbody tr th {\n",
              "        vertical-align: top;\n",
              "    }\n",
              "\n",
              "    .dataframe thead th {\n",
              "        text-align: right;\n",
              "    }\n",
              "</style>\n",
              "<table border=\"1\" class=\"dataframe\">\n",
              "  <thead>\n",
              "    <tr style=\"text-align: right;\">\n",
              "      <th></th>\n",
              "      <th>PassengerId</th>\n",
              "      <th>Survived</th>\n",
              "      <th>Pclass</th>\n",
              "      <th>Name</th>\n",
              "      <th>Sex</th>\n",
              "      <th>Age</th>\n",
              "      <th>SibSp</th>\n",
              "      <th>Parch</th>\n",
              "      <th>Ticket</th>\n",
              "      <th>Fare</th>\n",
              "      <th>Cabin</th>\n",
              "      <th>Embarked</th>\n",
              "    </tr>\n",
              "  </thead>\n",
              "  <tbody>\n",
              "    <tr>\n",
              "      <th>0</th>\n",
              "      <td>1</td>\n",
              "      <td>0</td>\n",
              "      <td>3</td>\n",
              "      <td>Braund, Mr. Owen Harris</td>\n",
              "      <td>male</td>\n",
              "      <td>22.0</td>\n",
              "      <td>1</td>\n",
              "      <td>0</td>\n",
              "      <td>A/5 21171</td>\n",
              "      <td>7.2500</td>\n",
              "      <td>NaN</td>\n",
              "      <td>S</td>\n",
              "    </tr>\n",
              "    <tr>\n",
              "      <th>1</th>\n",
              "      <td>2</td>\n",
              "      <td>1</td>\n",
              "      <td>1</td>\n",
              "      <td>Cumings, Mrs. John Bradley (Florence Briggs Th...</td>\n",
              "      <td>female</td>\n",
              "      <td>38.0</td>\n",
              "      <td>1</td>\n",
              "      <td>0</td>\n",
              "      <td>PC 17599</td>\n",
              "      <td>71.2833</td>\n",
              "      <td>C85</td>\n",
              "      <td>C</td>\n",
              "    </tr>\n",
              "    <tr>\n",
              "      <th>2</th>\n",
              "      <td>3</td>\n",
              "      <td>1</td>\n",
              "      <td>3</td>\n",
              "      <td>Heikkinen, Miss. Laina</td>\n",
              "      <td>female</td>\n",
              "      <td>26.0</td>\n",
              "      <td>0</td>\n",
              "      <td>0</td>\n",
              "      <td>STON/O2. 3101282</td>\n",
              "      <td>7.9250</td>\n",
              "      <td>NaN</td>\n",
              "      <td>S</td>\n",
              "    </tr>\n",
              "    <tr>\n",
              "      <th>3</th>\n",
              "      <td>4</td>\n",
              "      <td>1</td>\n",
              "      <td>1</td>\n",
              "      <td>Futrelle, Mrs. Jacques Heath (Lily May Peel)</td>\n",
              "      <td>female</td>\n",
              "      <td>35.0</td>\n",
              "      <td>1</td>\n",
              "      <td>0</td>\n",
              "      <td>113803</td>\n",
              "      <td>53.1000</td>\n",
              "      <td>C123</td>\n",
              "      <td>S</td>\n",
              "    </tr>\n",
              "    <tr>\n",
              "      <th>4</th>\n",
              "      <td>5</td>\n",
              "      <td>0</td>\n",
              "      <td>3</td>\n",
              "      <td>Allen, Mr. William Henry</td>\n",
              "      <td>male</td>\n",
              "      <td>35.0</td>\n",
              "      <td>0</td>\n",
              "      <td>0</td>\n",
              "      <td>373450</td>\n",
              "      <td>8.0500</td>\n",
              "      <td>NaN</td>\n",
              "      <td>S</td>\n",
              "    </tr>\n",
              "  </tbody>\n",
              "</table>\n",
              "</div>"
            ],
            "text/plain": [
              "   PassengerId  Survived  Pclass  ...     Fare Cabin  Embarked\n",
              "0            1         0       3  ...   7.2500   NaN         S\n",
              "1            2         1       1  ...  71.2833   C85         C\n",
              "2            3         1       3  ...   7.9250   NaN         S\n",
              "3            4         1       1  ...  53.1000  C123         S\n",
              "4            5         0       3  ...   8.0500   NaN         S\n",
              "\n",
              "[5 rows x 12 columns]"
            ]
          },
          "metadata": {
            "tags": []
          },
          "execution_count": 2
        }
      ]
    },
    {
      "cell_type": "code",
      "metadata": {
        "id": "WzDpMsWdiJUs",
        "colab_type": "code",
        "outputId": "9a5c7e6e-f667-409c-c6ce-8c714aba5f05",
        "colab": {
          "base_uri": "https://localhost:8080/",
          "height": 34
        }
      },
      "source": [
        "titanic_data.shape"
      ],
      "execution_count": 3,
      "outputs": [
        {
          "output_type": "execute_result",
          "data": {
            "text/plain": [
              "(891, 12)"
            ]
          },
          "metadata": {
            "tags": []
          },
          "execution_count": 3
        }
      ]
    },
    {
      "cell_type": "markdown",
      "metadata": {
        "id": "eS9pXaLycTQf",
        "colab_type": "text"
      },
      "source": [
        "## `nan management` "
      ]
    },
    {
      "cell_type": "code",
      "metadata": {
        "id": "pRFbX2tyeZqP",
        "colab_type": "code",
        "outputId": "342a2cba-e82f-4e91-a160-d0a0bcd0862a",
        "colab": {
          "base_uri": "https://localhost:8080/",
          "height": 235
        }
      },
      "source": [
        "print(titanic_data.isna().sum())"
      ],
      "execution_count": 4,
      "outputs": [
        {
          "output_type": "stream",
          "text": [
            "PassengerId      0\n",
            "Survived         0\n",
            "Pclass           0\n",
            "Name             0\n",
            "Sex              0\n",
            "Age            177\n",
            "SibSp            0\n",
            "Parch            0\n",
            "Ticket           0\n",
            "Fare             0\n",
            "Cabin          687\n",
            "Embarked         2\n",
            "dtype: int64\n"
          ],
          "name": "stdout"
        }
      ]
    },
    {
      "cell_type": "code",
      "metadata": {
        "id": "PsDAl89fk56N",
        "colab_type": "code",
        "outputId": "edfce19e-1ebc-4a3d-a5ce-ebb06957c6e1",
        "colab": {
          "base_uri": "https://localhost:8080/",
          "height": 414
        }
      },
      "source": [
        "titanic_data=titanic_data.drop([\"Cabin\"],axis=1)\n",
        "titanic_data[\"Age\"]=titanic_data[\"Age\"].fillna(titanic_data[\"Age\"].mean())\n",
        "titanic_data=titanic_data.dropna()  # dropping the last 2 nan in the data\n",
        "print(titanic_data.isna().sum())\n",
        "print(titanic_data.shape)\n",
        "titanic_data.head()"
      ],
      "execution_count": 5,
      "outputs": [
        {
          "output_type": "stream",
          "text": [
            "PassengerId    0\n",
            "Survived       0\n",
            "Pclass         0\n",
            "Name           0\n",
            "Sex            0\n",
            "Age            0\n",
            "SibSp          0\n",
            "Parch          0\n",
            "Ticket         0\n",
            "Fare           0\n",
            "Embarked       0\n",
            "dtype: int64\n",
            "(889, 11)\n"
          ],
          "name": "stdout"
        },
        {
          "output_type": "execute_result",
          "data": {
            "text/html": [
              "<div>\n",
              "<style scoped>\n",
              "    .dataframe tbody tr th:only-of-type {\n",
              "        vertical-align: middle;\n",
              "    }\n",
              "\n",
              "    .dataframe tbody tr th {\n",
              "        vertical-align: top;\n",
              "    }\n",
              "\n",
              "    .dataframe thead th {\n",
              "        text-align: right;\n",
              "    }\n",
              "</style>\n",
              "<table border=\"1\" class=\"dataframe\">\n",
              "  <thead>\n",
              "    <tr style=\"text-align: right;\">\n",
              "      <th></th>\n",
              "      <th>PassengerId</th>\n",
              "      <th>Survived</th>\n",
              "      <th>Pclass</th>\n",
              "      <th>Name</th>\n",
              "      <th>Sex</th>\n",
              "      <th>Age</th>\n",
              "      <th>SibSp</th>\n",
              "      <th>Parch</th>\n",
              "      <th>Ticket</th>\n",
              "      <th>Fare</th>\n",
              "      <th>Embarked</th>\n",
              "    </tr>\n",
              "  </thead>\n",
              "  <tbody>\n",
              "    <tr>\n",
              "      <th>0</th>\n",
              "      <td>1</td>\n",
              "      <td>0</td>\n",
              "      <td>3</td>\n",
              "      <td>Braund, Mr. Owen Harris</td>\n",
              "      <td>male</td>\n",
              "      <td>22.0</td>\n",
              "      <td>1</td>\n",
              "      <td>0</td>\n",
              "      <td>A/5 21171</td>\n",
              "      <td>7.2500</td>\n",
              "      <td>S</td>\n",
              "    </tr>\n",
              "    <tr>\n",
              "      <th>1</th>\n",
              "      <td>2</td>\n",
              "      <td>1</td>\n",
              "      <td>1</td>\n",
              "      <td>Cumings, Mrs. John Bradley (Florence Briggs Th...</td>\n",
              "      <td>female</td>\n",
              "      <td>38.0</td>\n",
              "      <td>1</td>\n",
              "      <td>0</td>\n",
              "      <td>PC 17599</td>\n",
              "      <td>71.2833</td>\n",
              "      <td>C</td>\n",
              "    </tr>\n",
              "    <tr>\n",
              "      <th>2</th>\n",
              "      <td>3</td>\n",
              "      <td>1</td>\n",
              "      <td>3</td>\n",
              "      <td>Heikkinen, Miss. Laina</td>\n",
              "      <td>female</td>\n",
              "      <td>26.0</td>\n",
              "      <td>0</td>\n",
              "      <td>0</td>\n",
              "      <td>STON/O2. 3101282</td>\n",
              "      <td>7.9250</td>\n",
              "      <td>S</td>\n",
              "    </tr>\n",
              "    <tr>\n",
              "      <th>3</th>\n",
              "      <td>4</td>\n",
              "      <td>1</td>\n",
              "      <td>1</td>\n",
              "      <td>Futrelle, Mrs. Jacques Heath (Lily May Peel)</td>\n",
              "      <td>female</td>\n",
              "      <td>35.0</td>\n",
              "      <td>1</td>\n",
              "      <td>0</td>\n",
              "      <td>113803</td>\n",
              "      <td>53.1000</td>\n",
              "      <td>S</td>\n",
              "    </tr>\n",
              "    <tr>\n",
              "      <th>4</th>\n",
              "      <td>5</td>\n",
              "      <td>0</td>\n",
              "      <td>3</td>\n",
              "      <td>Allen, Mr. William Henry</td>\n",
              "      <td>male</td>\n",
              "      <td>35.0</td>\n",
              "      <td>0</td>\n",
              "      <td>0</td>\n",
              "      <td>373450</td>\n",
              "      <td>8.0500</td>\n",
              "      <td>S</td>\n",
              "    </tr>\n",
              "  </tbody>\n",
              "</table>\n",
              "</div>"
            ],
            "text/plain": [
              "   PassengerId  Survived  Pclass  ...            Ticket     Fare  Embarked\n",
              "0            1         0       3  ...         A/5 21171   7.2500         S\n",
              "1            2         1       1  ...          PC 17599  71.2833         C\n",
              "2            3         1       3  ...  STON/O2. 3101282   7.9250         S\n",
              "3            4         1       1  ...            113803  53.1000         S\n",
              "4            5         0       3  ...            373450   8.0500         S\n",
              "\n",
              "[5 rows x 11 columns]"
            ]
          },
          "metadata": {
            "tags": []
          },
          "execution_count": 5
        }
      ]
    },
    {
      "cell_type": "markdown",
      "metadata": {
        "id": "MR0fOkw8Z0FX",
        "colab_type": "text"
      },
      "source": [
        "## `X` and `Y` split"
      ]
    },
    {
      "cell_type": "code",
      "metadata": {
        "id": "rLy7qPUDZy15",
        "colab_type": "code",
        "outputId": "b1be3835-4673-4e65-a8ed-0e2e7ecc0ef6",
        "colab": {
          "base_uri": "https://localhost:8080/",
          "height": 50
        }
      },
      "source": [
        "X=titanic_data.drop(\"Survived\",axis=1)\n",
        "Y=titanic_data.Survived\n",
        "print(X.shape)\n",
        "print(Y.shape)"
      ],
      "execution_count": 6,
      "outputs": [
        {
          "output_type": "stream",
          "text": [
            "(889, 10)\n",
            "(889,)\n"
          ],
          "name": "stdout"
        }
      ]
    },
    {
      "cell_type": "code",
      "metadata": {
        "id": "Ms_MvtQONM-O",
        "colab_type": "code",
        "outputId": "67869e8d-359d-477a-8a8b-38c3b376a887",
        "colab": {
          "base_uri": "https://localhost:8080/",
          "height": 195
        }
      },
      "source": [
        "X=X.drop([\"Ticket\",\"Name\",\"PassengerId\"],axis=1)     # removing not important columns\n",
        "titanic_data=titanic_data.drop([\"Ticket\",\"Name\",\"PassengerId\"],axis=1)\n",
        "X.head()"
      ],
      "execution_count": 7,
      "outputs": [
        {
          "output_type": "execute_result",
          "data": {
            "text/html": [
              "<div>\n",
              "<style scoped>\n",
              "    .dataframe tbody tr th:only-of-type {\n",
              "        vertical-align: middle;\n",
              "    }\n",
              "\n",
              "    .dataframe tbody tr th {\n",
              "        vertical-align: top;\n",
              "    }\n",
              "\n",
              "    .dataframe thead th {\n",
              "        text-align: right;\n",
              "    }\n",
              "</style>\n",
              "<table border=\"1\" class=\"dataframe\">\n",
              "  <thead>\n",
              "    <tr style=\"text-align: right;\">\n",
              "      <th></th>\n",
              "      <th>Pclass</th>\n",
              "      <th>Sex</th>\n",
              "      <th>Age</th>\n",
              "      <th>SibSp</th>\n",
              "      <th>Parch</th>\n",
              "      <th>Fare</th>\n",
              "      <th>Embarked</th>\n",
              "    </tr>\n",
              "  </thead>\n",
              "  <tbody>\n",
              "    <tr>\n",
              "      <th>0</th>\n",
              "      <td>3</td>\n",
              "      <td>male</td>\n",
              "      <td>22.0</td>\n",
              "      <td>1</td>\n",
              "      <td>0</td>\n",
              "      <td>7.2500</td>\n",
              "      <td>S</td>\n",
              "    </tr>\n",
              "    <tr>\n",
              "      <th>1</th>\n",
              "      <td>1</td>\n",
              "      <td>female</td>\n",
              "      <td>38.0</td>\n",
              "      <td>1</td>\n",
              "      <td>0</td>\n",
              "      <td>71.2833</td>\n",
              "      <td>C</td>\n",
              "    </tr>\n",
              "    <tr>\n",
              "      <th>2</th>\n",
              "      <td>3</td>\n",
              "      <td>female</td>\n",
              "      <td>26.0</td>\n",
              "      <td>0</td>\n",
              "      <td>0</td>\n",
              "      <td>7.9250</td>\n",
              "      <td>S</td>\n",
              "    </tr>\n",
              "    <tr>\n",
              "      <th>3</th>\n",
              "      <td>1</td>\n",
              "      <td>female</td>\n",
              "      <td>35.0</td>\n",
              "      <td>1</td>\n",
              "      <td>0</td>\n",
              "      <td>53.1000</td>\n",
              "      <td>S</td>\n",
              "    </tr>\n",
              "    <tr>\n",
              "      <th>4</th>\n",
              "      <td>3</td>\n",
              "      <td>male</td>\n",
              "      <td>35.0</td>\n",
              "      <td>0</td>\n",
              "      <td>0</td>\n",
              "      <td>8.0500</td>\n",
              "      <td>S</td>\n",
              "    </tr>\n",
              "  </tbody>\n",
              "</table>\n",
              "</div>"
            ],
            "text/plain": [
              "   Pclass     Sex   Age  SibSp  Parch     Fare Embarked\n",
              "0       3    male  22.0      1      0   7.2500        S\n",
              "1       1  female  38.0      1      0  71.2833        C\n",
              "2       3  female  26.0      0      0   7.9250        S\n",
              "3       1  female  35.0      1      0  53.1000        S\n",
              "4       3    male  35.0      0      0   8.0500        S"
            ]
          },
          "metadata": {
            "tags": []
          },
          "execution_count": 7
        }
      ]
    },
    {
      "cell_type": "markdown",
      "metadata": {
        "id": "um5m5B6zYf8J",
        "colab_type": "text"
      },
      "source": [
        "## feature selection using heatmap\n"
      ]
    },
    {
      "cell_type": "code",
      "metadata": {
        "id": "0Vk9kqakO5jD",
        "colab_type": "code",
        "outputId": "667c862b-c067-4734-fa9b-c76a720fb21f",
        "colab": {
          "base_uri": "https://localhost:8080/",
          "height": 298
        }
      },
      "source": [
        "data_corr=titanic_data.corr()\n",
        "sns.heatmap(data_corr.iloc[0:].head(1),annot=True)\n",
        "plt.title(\"Heatmap for Survived\")\n",
        "plt.plot()"
      ],
      "execution_count": 8,
      "outputs": [
        {
          "output_type": "execute_result",
          "data": {
            "text/plain": [
              "[]"
            ]
          },
          "metadata": {
            "tags": []
          },
          "execution_count": 8
        },
        {
          "output_type": "display_data",
          "data": {
            "image/png": "[encoded data removed]",
            "text/plain": [
              "<Figure size 432x288 with 2 Axes>"
            ]
          },
          "metadata": {
            "tags": [],
            "needs_background": "light"
          }
        }
      ]
    },
    {
      "cell_type": "markdown",
      "metadata": {
        "id": "SxkxAdH3YlND",
        "colab_type": "text"
      },
      "source": [
        "## feature selection for categorical data\n"
      ]
    },
    {
      "cell_type": "code",
      "metadata": {
        "id": "QypVdOPFVr2A",
        "colab_type": "code",
        "outputId": "1740307d-9b8c-4461-8361-92081dac0181",
        "colab": {
          "base_uri": "https://localhost:8080/",
          "height": 797
        }
      },
      "source": [
        "sns.countplot(Y)\n",
        "plt.show()\n",
        "cross=pd.crosstab(titanic_data[\"Survived\"],titanic_data[\"Embarked\"])        \n",
        "cross.plot.bar()\n",
        "plt.show()\n",
        "cross1=pd.crosstab(titanic_data[\"Survived\"],titanic_data[\"Sex\"])        \n",
        "cross1.plot.bar(stacked=True)\n",
        "plt.show()"
      ],
      "execution_count": 9,
      "outputs": [
        {
          "output_type": "display_data",
          "data": {
            "image/png": "[encoded data removed]",
            "text/plain": [
              "<Figure size 432x288 with 1 Axes>"
            ]
          },
          "metadata": {
            "tags": [],
            "needs_background": "light"
          }
        },
        {
          "output_type": "display_data",
          "data": {
            "image/png": "[encoded data removed]",
            "text/plain": [
              "<Figure size 432x288 with 1 Axes>"
            ]
          },
          "metadata": {
            "tags": [],
            "needs_background": "light"
          }
        },
        {
          "output_type": "display_data",
          "data": {
            "image/png": "[encoded data removed]",
            "text/plain": [
              "<Figure size 432x288 with 1 Axes>"
            ]
          },
          "metadata": {
            "tags": [],
            "needs_background": "light"
          }
        }
      ]
    },
    {
      "cell_type": "markdown",
      "metadata": {
        "id": "TSBH5f6vYZ0P",
        "colab_type": "text"
      },
      "source": [
        ""
      ]
    },
    {
      "cell_type": "markdown",
      "metadata": {
        "id": "SoDix1LRYSeE",
        "colab_type": "text"
      },
      "source": [
        "#` handling categorical dataset `"
      ]
    },
    {
      "cell_type": "code",
      "metadata": {
        "id": "pM_w_XrZRSKt",
        "colab_type": "code",
        "outputId": "1f08b956-9b28-41a1-d3a5-41b80e7f948f",
        "colab": {
          "base_uri": "https://localhost:8080/",
          "height": 195
        }
      },
      "source": [
        "sex = pd.get_dummies(X.Sex,drop_first=True,prefix=\"Sex\")\n",
        "embarked = pd.get_dummies(X.Embarked,drop_first=True,prefix=\"Embarked\")\n",
        "X=pd.concat([X,sex,embarked],axis=1)\n",
        "X=X.drop([\"Sex\",\"Embarked\"],axis=1)\n",
        "X.head()"
      ],
      "execution_count": 10,
      "outputs": [
        {
          "output_type": "execute_result",
          "data": {
            "text/html": [
              "<div>\n",
              "<style scoped>\n",
              "    .dataframe tbody tr th:only-of-type {\n",
              "        vertical-align: middle;\n",
              "    }\n",
              "\n",
              "    .dataframe tbody tr th {\n",
              "        vertical-align: top;\n",
              "    }\n",
              "\n",
              "    .dataframe thead th {\n",
              "        text-align: right;\n",
              "    }\n",
              "</style>\n",
              "<table border=\"1\" class=\"dataframe\">\n",
              "  <thead>\n",
              "    <tr style=\"text-align: right;\">\n",
              "      <th></th>\n",
              "      <th>Pclass</th>\n",
              "      <th>Age</th>\n",
              "      <th>SibSp</th>\n",
              "      <th>Parch</th>\n",
              "      <th>Fare</th>\n",
              "      <th>Sex_male</th>\n",
              "      <th>Embarked_Q</th>\n",
              "      <th>Embarked_S</th>\n",
              "    </tr>\n",
              "  </thead>\n",
              "  <tbody>\n",
              "    <tr>\n",
              "      <th>0</th>\n",
              "      <td>3</td>\n",
              "      <td>22.0</td>\n",
              "      <td>1</td>\n",
              "      <td>0</td>\n",
              "      <td>7.2500</td>\n",
              "      <td>1</td>\n",
              "      <td>0</td>\n",
              "      <td>1</td>\n",
              "    </tr>\n",
              "    <tr>\n",
              "      <th>1</th>\n",
              "      <td>1</td>\n",
              "      <td>38.0</td>\n",
              "      <td>1</td>\n",
              "      <td>0</td>\n",
              "      <td>71.2833</td>\n",
              "      <td>0</td>\n",
              "      <td>0</td>\n",
              "      <td>0</td>\n",
              "    </tr>\n",
              "    <tr>\n",
              "      <th>2</th>\n",
              "      <td>3</td>\n",
              "      <td>26.0</td>\n",
              "      <td>0</td>\n",
              "      <td>0</td>\n",
              "      <td>7.9250</td>\n",
              "      <td>0</td>\n",
              "      <td>0</td>\n",
              "      <td>1</td>\n",
              "    </tr>\n",
              "    <tr>\n",
              "      <th>3</th>\n",
              "      <td>1</td>\n",
              "      <td>35.0</td>\n",
              "      <td>1</td>\n",
              "      <td>0</td>\n",
              "      <td>53.1000</td>\n",
              "      <td>0</td>\n",
              "      <td>0</td>\n",
              "      <td>1</td>\n",
              "    </tr>\n",
              "    <tr>\n",
              "      <th>4</th>\n",
              "      <td>3</td>\n",
              "      <td>35.0</td>\n",
              "      <td>0</td>\n",
              "      <td>0</td>\n",
              "      <td>8.0500</td>\n",
              "      <td>1</td>\n",
              "      <td>0</td>\n",
              "      <td>1</td>\n",
              "    </tr>\n",
              "  </tbody>\n",
              "</table>\n",
              "</div>"
            ],
            "text/plain": [
              "   Pclass   Age  SibSp  Parch     Fare  Sex_male  Embarked_Q  Embarked_S\n",
              "0       3  22.0      1      0   7.2500         1           0           1\n",
              "1       1  38.0      1      0  71.2833         0           0           0\n",
              "2       3  26.0      0      0   7.9250         0           0           1\n",
              "3       1  35.0      1      0  53.1000         0           0           1\n",
              "4       3  35.0      0      0   8.0500         1           0           1"
            ]
          },
          "metadata": {
            "tags": []
          },
          "execution_count": 10
        }
      ]
    },
    {
      "cell_type": "code",
      "metadata": {
        "id": "MZ-LixQXfZAD",
        "colab_type": "code",
        "outputId": "5eb04e97-c351-43e1-bf39-ab6dacc02bf8",
        "colab": {
          "base_uri": "https://localhost:8080/",
          "height": 34
        }
      },
      "source": [
        "X.shape"
      ],
      "execution_count": 11,
      "outputs": [
        {
          "output_type": "execute_result",
          "data": {
            "text/plain": [
              "(889, 8)"
            ]
          },
          "metadata": {
            "tags": []
          },
          "execution_count": 11
        }
      ]
    },
    {
      "cell_type": "markdown",
      "metadata": {
        "id": "2w2poQv0Xv3A",
        "colab_type": "text"
      },
      "source": [
        "As we are asked to use tree based models on our dataset it's not necessary to `normalize` the data. `Hence skipping it`."
      ]
    },
    {
      "cell_type": "markdown",
      "metadata": {
        "id": "0moEAbXkw_1H",
        "colab_type": "text"
      },
      "source": [
        "\n",
        "### `function for multiple repeteted plots and score calculation`"
      ]
    },
    {
      "cell_type": "code",
      "metadata": {
        "id": "ArqKPEs_qk0Q",
        "colab_type": "code",
        "colab": {}
      },
      "source": [
        "def roc_curve_do(c_name,classifier):\n",
        "  probs = classifier.predict_proba(x_test)  \n",
        "  probs = probs[:, 1]  \n",
        "  fper, tper, thresholds = roc_curve(y_test, probs) \n",
        "  plt.plot(fper, tper)\n",
        "  plt.plot([0,1], [0,1], 'k--')\n",
        "  plt.xlabel('False Positive Rate')\n",
        "  plt.ylabel('True Positive Rate')\n",
        "  plt.title('{} ROC curve'.format(c_name))\n",
        "  # show the plot\n",
        "  plt.show()\n",
        "\n",
        "def kfold(classifier,cv):\n",
        "  score=cross_val_score(classifier,X,Y,cv=cv)\n",
        "  print(\"Individual Score:\",score)\n",
        "  print(\"Mean Score:\",score.mean()*100,\"%\")\n",
        "  # plot\n",
        "  plt.plot(np.arange(cv), score, 'o-', linewidth=1)\n",
        "  plt.title(\"Accuracy: %f%% and Deviation (%f%%)\" % (score.mean()*100, score.std()*100))\n",
        "  plt.xlabel('number of Folds')\n",
        "  plt.ylabel('Accuracy score')\n",
        "  plt.show()\n",
        "\n",
        "def all_score(classifier):\n",
        "  predict=classifier.predict(x_test)\n",
        "  print(\"testing accuracy:\",accuracy_score(y_test,predict))\n",
        "  print(\"training accuracy:\",accuracy_score(y_train,classifier.predict(x_train)))\n",
        "  print(confusion_matrix(y_test,predict))\n",
        "  print(\"Classification report:\\n\",classification_report(y_test,predict))\n"
      ],
      "execution_count": 0,
      "outputs": []
    },
    {
      "cell_type": "markdown",
      "metadata": {
        "id": "OPA8gpiyY2lG",
        "colab_type": "text"
      },
      "source": [
        "##`Machine Learning`"
      ]
    },
    {
      "cell_type": "code",
      "metadata": {
        "id": "CCLSzMuLfLwZ",
        "colab_type": "code",
        "outputId": "3250490b-ca0d-4008-bbe2-24e1fd610d0a",
        "colab": {
          "base_uri": "https://localhost:8080/",
          "height": 84
        }
      },
      "source": [
        "# splitting data\n",
        "x_train,x_test,y_train,y_test = train_test_split(X,Y,test_size=0.2,random_state=125,stratify=Y)\n",
        "print(x_train.shape)\n",
        "print(x_test.shape)\n",
        "print(y_train.shape)\n",
        "print(y_test.shape)"
      ],
      "execution_count": 13,
      "outputs": [
        {
          "output_type": "stream",
          "text": [
            "(711, 8)\n",
            "(178, 8)\n",
            "(711,)\n",
            "(178,)\n"
          ],
          "name": "stdout"
        }
      ]
    },
    {
      "cell_type": "markdown",
      "metadata": {
        "id": "13bfSrQDm_lK",
        "colab_type": "text"
      },
      "source": [
        "## `random forest classifier`"
      ]
    },
    {
      "cell_type": "code",
      "metadata": {
        "id": "eRh0MI_hgIDN",
        "colab_type": "code",
        "outputId": "c76ca023-379d-48fb-ea90-dee0e88a5fcc",
        "colab": {
          "base_uri": "https://localhost:8080/",
          "height": 530
        }
      },
      "source": [
        "rfc=RandomForestClassifier(n_estimators=100)\n",
        "rfc.fit(x_train,y_train)\n",
        "all_score(rfc)\n",
        "# roc curve \n",
        "roc_curve_do(\"RandomForestClassidier\",rfc)"
      ],
      "execution_count": 33,
      "outputs": [
        {
          "output_type": "stream",
          "text": [
            "testing accuracy: 0.8258426966292135\n",
            "training accuracy: 0.980309423347398\n",
            "[[93 17]\n",
            " [14 54]]\n",
            "Classification report:\n",
            "               precision    recall  f1-score   support\n",
            "\n",
            "           0       0.87      0.85      0.86       110\n",
            "           1       0.76      0.79      0.78        68\n",
            "\n",
            "    accuracy                           0.83       178\n",
            "   macro avg       0.81      0.82      0.82       178\n",
            "weighted avg       0.83      0.83      0.83       178\n",
            "\n"
          ],
          "name": "stdout"
        },
        {
          "output_type": "display_data",
          "data": {
            "image/png": "[encoded data removed]",
            "text/plain": [
              "<Figure size 432x288 with 1 Axes>"
            ]
          },
          "metadata": {
            "tags": [],
            "needs_background": "light"
          }
        }
      ]
    },
    {
      "cell_type": "markdown",
      "metadata": {
        "id": "jymK16eNnH2H",
        "colab_type": "text"
      },
      "source": [
        "###  k fold method \n"
      ]
    },
    {
      "cell_type": "code",
      "metadata": {
        "id": "ATOcJjoLhWZb",
        "colab_type": "code",
        "outputId": "2630e73a-4338-46ed-c910-ae9a65cf5c0c",
        "colab": {
          "base_uri": "https://localhost:8080/",
          "height": 346
        }
      },
      "source": [
        "kfold(rfc,10)"
      ],
      "execution_count": 15,
      "outputs": [
        {
          "output_type": "stream",
          "text": [
            "Individual Score: [0.71910112 0.78651685 0.75280899 0.83146067 0.86516854 0.82022472\n",
            " 0.80898876 0.76404494 0.83146067 0.84090909]\n",
            "Mean Score: 80.20684371807967 %\n"
          ],
          "name": "stdout"
        },
        {
          "output_type": "display_data",
          "data": {
            "image/png": "[encoded data removed]",
            "text/plain": [
              "<Figure size 432x288 with 1 Axes>"
            ]
          },
          "metadata": {
            "tags": [],
            "needs_background": "light"
          }
        }
      ]
    },
    {
      "cell_type": "markdown",
      "metadata": {
        "id": "isJmhFG4yJua",
        "colab_type": "text"
      },
      "source": [
        "### `grid search for hyperparameters`\n"
      ]
    },
    {
      "cell_type": "code",
      "metadata": {
        "id": "u6dlgS2NyJP4",
        "colab_type": "code",
        "colab": {}
      },
      "source": [
        "# parameters={\n",
        "#     'n_estimators'      : [100,200,320,330,340,50],\n",
        "#     'max_depth'         : [8, 9, 10, 11, 12,15],\n",
        "#     'random_state'      : [0,1,5,100],\n",
        "#     'bootstrap'         : [True,False]\n",
        "# }\n",
        "# rfc_new=RandomForestClassifier()\n",
        "# grid_search=GridSearchCV(\n",
        "#     estimator=rfc_new,\n",
        "#     param_grid=parameters,\n",
        "#     scoring=\"roc_auc\",\n",
        "#     n_jobs=-1,\n",
        "#     cv=10,\n",
        "#     verbose=True\n",
        "# )\n",
        "# grid_search.fit(x_train,y_train)\n",
        "\n",
        "# best_params = grid_search.best_params_\n",
        "# best_params"
      ],
      "execution_count": 0,
      "outputs": []
    },
    {
      "cell_type": "markdown",
      "metadata": {
        "id": "h2zSeaFU0eTD",
        "colab_type": "text"
      },
      "source": [
        "#### after gridsearch "
      ]
    },
    {
      "cell_type": "code",
      "metadata": {
        "id": "1KMfbfYk0TQ4",
        "colab_type": "code",
        "outputId": "620776c2-7fe2-4ac1-cc60-dc727ad3a90b",
        "colab": {
          "base_uri": "https://localhost:8080/",
          "height": 530
        }
      },
      "source": [
        "rfc_hyper=RandomForestClassifier(max_depth= 8, n_estimators= 330, random_state= 1)\n",
        "rfc_hyper.fit(x_train,y_train)\n",
        "all_score(rfc_hyper)\n",
        "\n",
        "# roc curve \n",
        "roc_curve_do(\"RandomForestClassidier after hyperparmas\",rfc_hyper)"
      ],
      "execution_count": 34,
      "outputs": [
        {
          "output_type": "stream",
          "text": [
            "testing accuracy: 0.8370786516853933\n",
            "training accuracy: 0.909985935302391\n",
            "[[101   9]\n",
            " [ 20  48]]\n",
            "Classification report:\n",
            "               precision    recall  f1-score   support\n",
            "\n",
            "           0       0.83      0.92      0.87       110\n",
            "           1       0.84      0.71      0.77        68\n",
            "\n",
            "    accuracy                           0.84       178\n",
            "   macro avg       0.84      0.81      0.82       178\n",
            "weighted avg       0.84      0.84      0.83       178\n",
            "\n"
          ],
          "name": "stdout"
        },
        {
          "output_type": "display_data",
          "data": {
            "image/png": "[encoded data removed]",
            "text/plain": [
              "<Figure size 432x288 with 1 Axes>"
            ]
          },
          "metadata": {
            "tags": [],
            "needs_background": "light"
          }
        }
      ]
    },
    {
      "cell_type": "markdown",
      "metadata": {
        "id": "wXHBKBGJm4_u",
        "colab_type": "text"
      },
      "source": [
        "## `Decision Tree`"
      ]
    },
    {
      "cell_type": "code",
      "metadata": {
        "id": "TI9iQm1cjJo1",
        "colab_type": "code",
        "outputId": "6284f4d7-6c73-4ee9-801d-1ed8387b1d0c",
        "colab": {
          "base_uri": "https://localhost:8080/",
          "height": 530
        }
      },
      "source": [
        "# Decision tree classifier\n",
        "dectree=DecisionTreeClassifier()\n",
        "dectree.fit(x_train,y_train)\n",
        "all_score(dectree)\n",
        "# roc curve \n",
        "roc_curve_do(\"Decision Tree\",dectree)"
      ],
      "execution_count": 35,
      "outputs": [
        {
          "output_type": "stream",
          "text": [
            "testing accuracy: 0.7921348314606742\n",
            "training accuracy: 0.980309423347398\n",
            "[[93 17]\n",
            " [20 48]]\n",
            "Classification report:\n",
            "               precision    recall  f1-score   support\n",
            "\n",
            "           0       0.82      0.85      0.83       110\n",
            "           1       0.74      0.71      0.72        68\n",
            "\n",
            "    accuracy                           0.79       178\n",
            "   macro avg       0.78      0.78      0.78       178\n",
            "weighted avg       0.79      0.79      0.79       178\n",
            "\n"
          ],
          "name": "stdout"
        },
        {
          "output_type": "display_data",
          "data": {
            "image/png": "[encoded data removed]",
            "text/plain": [
              "<Figure size 432x288 with 1 Axes>"
            ]
          },
          "metadata": {
            "tags": [],
            "needs_background": "light"
          }
        }
      ]
    },
    {
      "cell_type": "markdown",
      "metadata": {
        "id": "HOi_kQpZmsGi",
        "colab_type": "text"
      },
      "source": [
        "## `XGB Classifier `"
      ]
    },
    {
      "cell_type": "code",
      "metadata": {
        "id": "y3GSEkIzkmnC",
        "colab_type": "code",
        "outputId": "427292ba-2ec1-453d-abe0-ce451eb55ee4",
        "colab": {
          "base_uri": "https://localhost:8080/",
          "height": 530
        }
      },
      "source": [
        "# xgbboost classifier\n",
        "xgb=XGBClassifier(learning_rate=0.1,max_depth=2,n_estimators=360) # using previously calculated hyperparameter\n",
        "xgb.fit(x_train,y_train)\n",
        "all_score(xgb)\n",
        "\n",
        "# roc curve \n",
        "\n",
        "roc_curve_do(\"Xgbboost classifier\",xgb)"
      ],
      "execution_count": 37,
      "outputs": [
        {
          "output_type": "stream",
          "text": [
            "testing accuracy: 0.8651685393258427\n",
            "training accuracy: 0.890295358649789\n",
            "[[104   6]\n",
            " [ 18  50]]\n",
            "Classification report:\n",
            "               precision    recall  f1-score   support\n",
            "\n",
            "           0       0.85      0.95      0.90       110\n",
            "           1       0.89      0.74      0.81        68\n",
            "\n",
            "    accuracy                           0.87       178\n",
            "   macro avg       0.87      0.84      0.85       178\n",
            "weighted avg       0.87      0.87      0.86       178\n",
            "\n"
          ],
          "name": "stdout"
        },
        {
          "output_type": "display_data",
          "data": {
            "image/png": "[encoded data removed]",
            "text/plain": [
              "<Figure size 432x288 with 1 Axes>"
            ]
          },
          "metadata": {
            "tags": [],
            "needs_background": "light"
          }
        }
      ]
    },
    {
      "cell_type": "markdown",
      "metadata": {
        "id": "qgixDy5ynNWq",
        "colab_type": "text"
      },
      "source": [
        "###  k fold method \n"
      ]
    },
    {
      "cell_type": "code",
      "metadata": {
        "id": "mJngeor7lEyW",
        "colab_type": "code",
        "colab": {}
      },
      "source": [
        "kfold(rfc,5)"
      ],
      "execution_count": 0,
      "outputs": []
    },
    {
      "cell_type": "markdown",
      "metadata": {
        "id": "dNR28vgE4dI7",
        "colab_type": "text"
      },
      "source": [
        "### `grid search for hyperparameters`"
      ]
    },
    {
      "cell_type": "code",
      "metadata": {
        "id": "RXQELJYy4cxy",
        "colab_type": "code",
        "colab": {}
      },
      "source": [
        "# parameter={\n",
        "#     \"max_depth\": range(2,10,1),\n",
        "#     \"learning_rate\":[0.1,0.01,0.5],\n",
        "#     \"n_estimators\": range(60,440,60)\n",
        "# }\n",
        "# xgb_class_new=XGBClassifier()\n",
        "# grid_search=GridSearchCV(\n",
        "#     estimator=xgb_class_new,\n",
        "#     param_grid=parameter,\n",
        "#     scoring=\"roc_auc\",\n",
        "#     n_jobs=-1,\n",
        "#     cv=10,\n",
        "#     verbose=True\n",
        "# )\n",
        "# grid_search.fit(x_train,y_train)\n",
        "# best_params = grid_search.best_params_\n",
        "# best_params"
      ],
      "execution_count": 0,
      "outputs": []
    },
    {
      "cell_type": "markdown",
      "metadata": {
        "id": "2N_0T78e4xcQ",
        "colab_type": "text"
      },
      "source": [
        "### after grid search"
      ]
    },
    {
      "cell_type": "code",
      "metadata": {
        "id": "N4CubonT40fp",
        "colab_type": "code",
        "outputId": "7c378015-6030-489b-a673-9b0b277726b9",
        "colab": {
          "base_uri": "https://localhost:8080/",
          "height": 530
        }
      },
      "source": [
        "xgb=XGBClassifier(learning_rate=0.01,max_depth=3,n_estimators=240) # using previously calculated hyperparameter\n",
        "xgb.fit(x_train,y_train)\n",
        "all_score(xgb)\n",
        "\n",
        "# roc curve \n",
        "\n",
        "roc_curve_do(\"RandomForestClassifier after hyper param\",xgb)"
      ],
      "execution_count": 38,
      "outputs": [
        {
          "output_type": "stream",
          "text": [
            "testing accuracy: 0.8146067415730337\n",
            "training accuracy: 0.8340365682137834\n",
            "[[99 11]\n",
            " [22 46]]\n",
            "Classification report:\n",
            "               precision    recall  f1-score   support\n",
            "\n",
            "           0       0.82      0.90      0.86       110\n",
            "           1       0.81      0.68      0.74        68\n",
            "\n",
            "    accuracy                           0.81       178\n",
            "   macro avg       0.81      0.79      0.80       178\n",
            "weighted avg       0.81      0.81      0.81       178\n",
            "\n"
          ],
          "name": "stdout"
        },
        {
          "output_type": "display_data",
          "data": {
            "image/png": "[encoded data removed]",
            "text/plain": [
              "<Figure size 432x288 with 1 Axes>"
            ]
          },
          "metadata": {
            "tags": [],
            "needs_background": "light"
          }
        }
      ]
    },
    {
      "cell_type": "markdown",
      "metadata": {
        "id": "BclYfjyqme1F",
        "colab_type": "text"
      },
      "source": [
        "## `Adaboost Classifier`"
      ]
    },
    {
      "cell_type": "code",
      "metadata": {
        "id": "ceXRTnQzmL2A",
        "colab_type": "code",
        "outputId": "3583264f-efec-4866-da71-1c2a21de4539",
        "colab": {
          "base_uri": "https://localhost:8080/",
          "height": 547
        }
      },
      "source": [
        "dt = DecisionTreeClassifier( random_state=1)\n",
        "adb_clf = AdaBoostClassifier(base_estimator=dt, n_estimators=100)\n",
        "\n",
        "adb_clf.fit(x_train, y_train)\n",
        "# Predict the test set probabilities of positive class\n",
        "y_pred_proba = adb_clf.predict_proba(x_test)[:,1]\n",
        "# Evaluate test-set roc_auc_score\n",
        "adb_clf_roc_auc_score = roc_auc_score(y_test, y_pred_proba)\n",
        "print('ROC AUC score: {:.2f}'.format(adb_clf_roc_auc_score))\n",
        "all_score(adb_clf)\n",
        "\n",
        "# plot\n",
        "roc_curve_do(\"Adaboost classifier\",adb_clf)"
      ],
      "execution_count": 40,
      "outputs": [
        {
          "output_type": "stream",
          "text": [
            "ROC AUC score: 0.83\n",
            "testing accuracy: 0.797752808988764\n",
            "training accuracy: 0.980309423347398\n",
            "[[89 21]\n",
            " [15 53]]\n",
            "Classification report:\n",
            "               precision    recall  f1-score   support\n",
            "\n",
            "           0       0.86      0.81      0.83       110\n",
            "           1       0.72      0.78      0.75        68\n",
            "\n",
            "    accuracy                           0.80       178\n",
            "   macro avg       0.79      0.79      0.79       178\n",
            "weighted avg       0.80      0.80      0.80       178\n",
            "\n"
          ],
          "name": "stdout"
        },
        {
          "output_type": "display_data",
          "data": {
            "image/png": "[encoded data removed]",
            "text/plain": [
              "<Figure size 432x288 with 1 Axes>"
            ]
          },
          "metadata": {
            "tags": [],
            "needs_background": "light"
          }
        }
      ]
    },
    {
      "cell_type": "markdown",
      "metadata": {
        "id": "b_A3UfZrp6ib",
        "colab_type": "text"
      },
      "source": [
        "### `GradientBoostingClassifier `"
      ]
    },
    {
      "cell_type": "code",
      "metadata": {
        "id": "2a2Kjgdnoc74",
        "colab_type": "code",
        "outputId": "cc070e63-d6d5-4afe-8296-38dea170e617",
        "colab": {
          "base_uri": "https://localhost:8080/",
          "height": 547
        }
      },
      "source": [
        "gbc=GradientBoostingClassifier(n_estimators=300)\n",
        "gbc.fit(x_train,y_train)\n",
        "y_pred_proba = gbc.predict_proba(x_test)[:,1]\n",
        "gbc_roc_auc_score = roc_auc_score(y_test, y_pred_proba)\n",
        "\n",
        "all_score(gbc)\n",
        "print('ROC AUC score: {:.2f}'.format(gbc_roc_auc_score))\n",
        "# plot\n",
        "roc_curve_do(\"GradientBoosting\",gbc)"
      ],
      "execution_count": 41,
      "outputs": [
        {
          "output_type": "stream",
          "text": [
            "testing accuracy: 0.8370786516853933\n",
            "training accuracy: 0.9437412095639943\n",
            "[[103   7]\n",
            " [ 22  46]]\n",
            "Classification report:\n",
            "               precision    recall  f1-score   support\n",
            "\n",
            "           0       0.82      0.94      0.88       110\n",
            "           1       0.87      0.68      0.76        68\n",
            "\n",
            "    accuracy                           0.84       178\n",
            "   macro avg       0.85      0.81      0.82       178\n",
            "weighted avg       0.84      0.84      0.83       178\n",
            "\n",
            "ROC AUC score: 0.91\n"
          ],
          "name": "stdout"
        },
        {
          "output_type": "display_data",
          "data": {
            "image/png": "[encoded data removed]",
            "text/plain": [
              "<Figure size 432x288 with 1 Axes>"
            ]
          },
          "metadata": {
            "tags": [],
            "needs_background": "light"
          }
        }
      ]
    },
    {
      "cell_type": "markdown",
      "metadata": {
        "id": "Y_umC6BKrKPW",
        "colab_type": "text"
      },
      "source": [
        "### `BaggingClassifier`"
      ]
    },
    {
      "cell_type": "code",
      "metadata": {
        "id": "GuCI_Xl_qaNB",
        "colab_type": "code",
        "outputId": "62ee5799-56f0-4cac-f1d3-def99433eb73",
        "colab": {
          "base_uri": "https://localhost:8080/",
          "height": 547
        }
      },
      "source": [
        "dt=DecisionTreeClassifier()\n",
        "\n",
        "# Instantiate a BaggingClassifier 'bc'\n",
        "bc = BaggingClassifier(base_estimator=dt, n_estimators=100, n_jobs=-1) # n_jobs=-1 means that all the CPU cores are used in computation. \n",
        "bc.fit(x_train, y_train)\n",
        "y_pred_proba = bc.predict_proba(x_test)[:,1]\n",
        "bc_roc_auc_score = roc_auc_score(y_test, y_pred_proba)\n",
        "all_score(bc)\n",
        "print('ROC AUC score: {:.2f}'.format(bc_roc_auc_score))\n",
        "# plot\n",
        "roc_curve_do(\"Bagging Classifier\",bc)"
      ],
      "execution_count": 42,
      "outputs": [
        {
          "output_type": "stream",
          "text": [
            "testing accuracy: 0.8595505617977528\n",
            "training accuracy: 0.9789029535864979\n",
            "[[101   9]\n",
            " [ 16  52]]\n",
            "Classification report:\n",
            "               precision    recall  f1-score   support\n",
            "\n",
            "           0       0.86      0.92      0.89       110\n",
            "           1       0.85      0.76      0.81        68\n",
            "\n",
            "    accuracy                           0.86       178\n",
            "   macro avg       0.86      0.84      0.85       178\n",
            "weighted avg       0.86      0.86      0.86       178\n",
            "\n",
            "ROC AUC score: 0.91\n"
          ],
          "name": "stdout"
        },
        {
          "output_type": "display_data",
          "data": {
            "image/png": "[encoded data removed]",
            "text/plain": [
              "<Figure size 432x288 with 1 Axes>"
            ]
          },
          "metadata": {
            "tags": [],
            "needs_background": "light"
          }
        }
      ]
    },
    {
      "cell_type": "markdown",
      "metadata": {
        "id": "AiqMQ34mt3oj",
        "colab_type": "text"
      },
      "source": [
        "### K fold"
      ]
    },
    {
      "cell_type": "code",
      "metadata": {
        "id": "44NuIDzLsztm",
        "colab_type": "code",
        "outputId": "8f2ce7ef-8f80-4a61-a050-e228997e3135",
        "colab": {
          "base_uri": "https://localhost:8080/",
          "height": 346
        }
      },
      "source": [
        "kfold(bc,10)"
      ],
      "execution_count": 25,
      "outputs": [
        {
          "output_type": "stream",
          "text": [
            "Individual Score: [0.7752809  0.82022472 0.75280899 0.85393258 0.87640449 0.83146067\n",
            " 0.80898876 0.76404494 0.85393258 0.84090909]\n",
            "Mean Score: 81.77987742594486 %\n"
          ],
          "name": "stdout"
        },
        {
          "output_type": "display_data",
          "data": {
            "image/png": "[encoded data removed]",
            "text/plain": [
              "<Figure size 432x288 with 1 Axes>"
            ]
          },
          "metadata": {
            "tags": [],
            "needs_background": "light"
          }
        }
      ]
    },
    {
      "cell_type": "markdown",
      "metadata": {
        "id": "InN5etKYvS0z",
        "colab_type": "text"
      },
      "source": [
        "## feature importance using random *forest*\n"
      ]
    },
    {
      "cell_type": "code",
      "metadata": {
        "id": "k8XFDivvt-NV",
        "colab_type": "code",
        "outputId": "93d92dc7-6d24-420e-f5ba-f51bcef48fb3",
        "colab": {
          "base_uri": "https://localhost:8080/",
          "height": 389
        }
      },
      "source": [
        "rfc1=RandomForestClassifier(n_estimators=300)\n",
        "model=rfc1.fit(x_train,y_train)\n",
        "# calculated by out of bag data while baaging in randomforest.\n",
        "importances = model.feature_importances_\n",
        "indices = np.argsort(importances)[::-1]\n",
        "# Rearrange feature names so they match the sorted feature importances\n",
        "names = [X.columns[i] for i in indices]\n",
        "\n",
        "plt.figure(figsize=(20,5))\n",
        "plt.title(\"Feature Importance\")\n",
        "plt.bar(range(X.shape[1]), importances[indices])\n",
        "plt.xticks(range(X.shape[1]), names, rotation=90)\n",
        "plt.show()"
      ],
      "execution_count": 26,
      "outputs": [
        {
          "output_type": "display_data",
          "data": {
            "image/png": "[encoded data removed]",
            "text/plain": [
              "<Figure size 1440x360 with 1 Axes>"
            ]
          },
          "metadata": {
            "tags": [],
            "needs_background": "light"
          }
        }
      ]
    },
    {
      "cell_type": "markdown",
      "metadata": {
        "id": "kMKQ-2IZ7Ne8",
        "colab_type": "text"
      },
      "source": [
        "# max accuracy without overfitting is given by Xgboost classifier"
      ]
    },
    {
      "cell_type": "code",
      "metadata": {
        "id": "FqGbLRv57Voq",
        "colab_type": "code",
        "colab": {}
      },
      "source": [
        ""
      ],
      "execution_count": 0,
      "outputs": []
    }
  ]
}