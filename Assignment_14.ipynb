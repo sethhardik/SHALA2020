{
 "cells": [
  {
   "cell_type": "code",
   "execution_count": 1,
   "metadata": {},
   "outputs": [],
   "source": [
    "import numpy as np\n",
    "import matplotlib.pyplot as plt\n",
    "import tensorflow as tf\n",
    "from IPython.display import clear_output\n",
    "import time"
   ]
  },
  {
   "cell_type": "code",
   "execution_count": 2,
   "metadata": {},
   "outputs": [],
   "source": [
    "mnist = tf.keras.datasets.mnist\n",
    "(xtrain, y_train), (xtest, y_test) = mnist.load_data()\n",
    "xtrain, xtest = xtrain / 255.0, xtest / 255.0"
   ]
  },
  {
   "cell_type": "code",
   "execution_count": 3,
   "metadata": {},
   "outputs": [
    {
     "data": {
      "text/plain": [
       "(60000, 28, 28)"
      ]
     },
     "execution_count": 3,
     "metadata": {},
     "output_type": "execute_result"
    }
   ],
   "source": [
    "xtrain.shape"
   ]
  },
  {
   "cell_type": "code",
   "execution_count": 4,
   "metadata": {},
   "outputs": [
    {
     "data": {
      "image/png": "[encoded data removed]",
      "text/plain": [
       "<Figure size 432x288 with 1 Axes>"
      ]
     },
     "metadata": {
      "needs_background": "light"
     },
     "output_type": "display_data"
    },
    {
     "data": {
      "image/png": "[encoded data removed]",
      "text/plain": [
       "<Figure size 432x288 with 1 Axes>"
      ]
     },
     "metadata": {
      "needs_background": "light"
     },
     "output_type": "display_data"
    },
    {
     "data": {
      "image/png": "[encoded data removed]",
      "text/plain": [
       "<Figure size 432x288 with 1 Axes>"
      ]
     },
     "metadata": {
      "needs_background": "light"
     },
     "output_type": "display_data"
    }
   ],
   "source": [
    "for i in range(3):\n",
    "    plt.imshow(xtrain[i],cmap='gray')\n",
    "    plt.title(\"Actual Label:{}\".format(y_train[i]))\n",
    "    plt.axis('off')\n",
    "    plt.show()"
   ]
  },
  {
   "cell_type": "code",
   "execution_count": 5,
   "metadata": {},
   "outputs": [],
   "source": [
    "# reshaping image to 4d of size (60000, 28, 28, 1)  60000 is the no. of training sample\n",
    "x_train = xtrain.reshape(-1,28,28,1)\n",
    "x_test = xtest.reshape(-1,28,28,1)"
   ]
  },
  {
   "cell_type": "code",
   "execution_count": 6,
   "metadata": {},
   "outputs": [
    {
     "data": {
      "text/plain": [
       "(60000, 28, 28, 1)"
      ]
     },
     "execution_count": 6,
     "metadata": {},
     "output_type": "execute_result"
    }
   ],
   "source": [
    "x_train.shape"
   ]
  },
  {
   "cell_type": "code",
   "execution_count": 7,
   "metadata": {},
   "outputs": [],
   "source": [
    "y_train = tf.keras.utils.to_categorical(y_train,10)\n",
    "y_test = tf.keras.utils.to_categorical(y_test,10)"
   ]
  },
  {
   "cell_type": "code",
   "execution_count": 8,
   "metadata": {},
   "outputs": [
    {
     "name": "stdout",
     "output_type": "stream",
     "text": [
      "Model: \"sequential\"\n",
      "_________________________________________________________________\n",
      "Layer (type)                 Output Shape              Param #   \n",
      "=================================================================\n",
      "conv2d (Conv2D)              (None, 24, 24, 6)         156       \n",
      "_________________________________________________________________\n",
      "average_pooling2d (AveragePo (None, 12, 12, 6)         0         \n",
      "_________________________________________________________________\n",
      "conv2d_1 (Conv2D)            (None, 8, 8, 16)          2416      \n",
      "_________________________________________________________________\n",
      "average_pooling2d_1 (Average (None, 4, 4, 16)          0         \n",
      "_________________________________________________________________\n",
      "flatten (Flatten)            (None, 256)               0         \n",
      "_________________________________________________________________\n",
      "dense (Dense)                (None, 256)               65792     \n",
      "_________________________________________________________________\n",
      "dense_1 (Dense)              (None, 84)                21588     \n",
      "_________________________________________________________________\n",
      "dense_2 (Dense)              (None, 10)                850       \n",
      "=================================================================\n",
      "Total params: 90,802\n",
      "Trainable params: 90,802\n",
      "Non-trainable params: 0\n",
      "_________________________________________________________________\n"
     ]
    }
   ],
   "source": [
    "#  LeNet 5 implementation\n",
    "def LeNet():\n",
    "    model = tf.keras.models.Sequential()\n",
    "    model.add(tf.keras.layers.Conv2D(6,kernel_size=(5,5),input_shape = (28,28,1),activation=\"tanh\"))\n",
    "    model.add(tf.keras.layers.AvgPool2D(strides=(2,2)))\n",
    "    model.add(tf.keras.layers.Conv2D(16,kernel_size=(5,5),activation=\"tanh\"))\n",
    "    model.add(tf.keras.layers.AvgPool2D(strides=(2,2)))\n",
    "    model.add(tf.keras.layers.Flatten())\n",
    "    model.add(tf.keras.layers.Dense(256,activation=\"tanh\"))\n",
    "    model.add(tf.keras.layers.Dense(84,activation=\"tanh\"))\n",
    "    model.add(tf.keras.layers.Dense(10,activation=\"softmax\"))\n",
    "    model.summary()\n",
    "    return model\n",
    "model = LeNet()"
   ]
  },
  {
   "cell_type": "code",
   "execution_count": 9,
   "metadata": {},
   "outputs": [],
   "source": [
    "model.compile(optimizer=\"RMSprop\",loss=\"categorical_crossentropy\",metrics=[\"accuracy\"])"
   ]
  },
  {
   "cell_type": "code",
   "execution_count": 10,
   "metadata": {},
   "outputs": [
    {
     "name": "stdout",
     "output_type": "stream",
     "text": [
      "Train on 60000 samples, validate on 10000 samples\n",
      "Epoch 1/10\n",
      "60000/60000 [==============================] - 6s 96us/sample - loss: 0.2888 - accuracy: 0.9153 - val_loss: 0.1374 - val_accuracy: 0.9599\n",
      "Epoch 2/10\n",
      "60000/60000 [==============================] - 2s 41us/sample - loss: 0.1134 - accuracy: 0.9658 - val_loss: 0.0975 - val_accuracy: 0.9694\n",
      "Epoch 3/10\n",
      "60000/60000 [==============================] - 2s 40us/sample - loss: 0.0743 - accuracy: 0.9772 - val_loss: 0.0646 - val_accuracy: 0.9795\n",
      "Epoch 4/10\n",
      "60000/60000 [==============================] - 2s 36us/sample - loss: 0.0552 - accuracy: 0.9834 - val_loss: 0.0578 - val_accuracy: 0.9804\n",
      "Epoch 5/10\n",
      "60000/60000 [==============================] - 2s 35us/sample - loss: 0.0431 - accuracy: 0.9865 - val_loss: 0.0482 - val_accuracy: 0.9832\n",
      "Epoch 6/10\n",
      "60000/60000 [==============================] - 2s 35us/sample - loss: 0.0340 - accuracy: 0.9894 - val_loss: 0.0465 - val_accuracy: 0.9835\n",
      "Epoch 7/10\n",
      "60000/60000 [==============================] - 2s 35us/sample - loss: 0.0291 - accuracy: 0.9909 - val_loss: 0.0558 - val_accuracy: 0.9831\n",
      "Epoch 8/10\n",
      "60000/60000 [==============================] - 2s 35us/sample - loss: 0.0231 - accuracy: 0.9927 - val_loss: 0.0555 - val_accuracy: 0.9820\n",
      "Epoch 9/10\n",
      "60000/60000 [==============================] - 2s 35us/sample - loss: 0.0188 - accuracy: 0.9944 - val_loss: 0.0413 - val_accuracy: 0.9870\n",
      "Epoch 10/10\n",
      "60000/60000 [==============================] - 2s 35us/sample - loss: 0.0158 - accuracy: 0.9951 - val_loss: 0.0467 - val_accuracy: 0.9846\n"
     ]
    }
   ],
   "source": [
    "history = model.fit(x_train, y_train, epochs=10,batch_size=128,validation_data = (x_test,y_test))"
   ]
  },
  {
   "cell_type": "code",
   "execution_count": 11,
   "metadata": {},
   "outputs": [
    {
     "data": {
      "image/png": "[encoded data removed]",
      "text/plain": [
       "<Figure size 432x288 with 1 Axes>"
      ]
     },
     "metadata": {
      "needs_background": "light"
     },
     "output_type": "display_data"
    },
    {
     "data": {
      "image/png": "[encoded data removed]",
      "text/plain": [
       "<Figure size 432x288 with 1 Axes>"
      ]
     },
     "metadata": {
      "needs_background": "light"
     },
     "output_type": "display_data"
    }
   ],
   "source": [
    "# Plots visualize the models we have trained above \n",
    "ep = range(1,len(history.history['accuracy'])+1)\n",
    "plt.plot(ep, history.history['accuracy'], label = 'Training')\n",
    "plt.plot(ep, history.history['val_accuracy'], label='Validation')\n",
    "plt.title('Accuracy Plot')\n",
    "plt.legend()\n",
    "plt.show()\n",
    "ep = range(1,len(history.history['accuracy'])+1)\n",
    "plt.plot(ep, history.history['loss'], label = 'Training')\n",
    "plt.plot(ep, history.history['val_loss'], label='Validation')\n",
    "plt.title('Accuracy Plot')\n",
    "plt.legend()\n",
    "plt.show()"
   ]
  },
  {
   "cell_type": "code",
   "execution_count": 12,
   "metadata": {},
   "outputs": [
    {
     "name": "stdout",
     "output_type": "stream",
     "text": [
      "10000/10000 - 1s - loss: 0.0467 - accuracy: 0.9846\n"
     ]
    }
   ],
   "source": [
    "loss, accuracy = model.evaluate(x_test,  y_test, verbose=2)"
   ]
  },
  {
   "cell_type": "code",
   "execution_count": 13,
   "metadata": {},
   "outputs": [
    {
     "data": {
      "image/png": "[encoded data removed]",
      "text/plain": [
       "<Figure size 432x288 with 1 Axes>"
      ]
     },
     "metadata": {
      "needs_background": "light"
     },
     "output_type": "display_data"
    }
   ],
   "source": [
    "y_pred = np.argmax(model.predict(x_test),axis=1)\n",
    "for i in range(10):\n",
    "    plt.imshow(xtest[i],cmap='gray')\n",
    "    plt.title(\"Predicted label:{} and Actual Label:{}\".format(y_pred[i],np.argmax(y_test[i])))\n",
    "    plt.axis('off')\n",
    "    plt.show()\n",
    "    time.sleep(1.0)\n",
    "    clear_output(wait=True)"
   ]
  },
  {
   "cell_type": "markdown",
   "metadata": {},
   "source": [
    "## training accuracy of the network is 99.59% and testing accuracy of the model is coming out to be 98.07% \n",
    "\n",
    "Clearly the model performs very well on the dataset and gives perfect accuracy."
   ]
  },
  {
   "cell_type": "markdown",
   "metadata": {},
   "source": [
    "# now using same model for fashion_mnist dataset\n",
    "\n",
    "            0 - T-shirt/top\n",
    "            1 - Trouser/pants\n",
    "            2 - Pullover shirt\n",
    "            3 - Dress\n",
    "            4 - Coat\n",
    "            5 - Sandal\n",
    "            6 - Shirt\n",
    "            7 - Sneaker\n",
    "            8 - Bag\n",
    "            9 - Ankle boot"
   ]
  },
  {
   "cell_type": "code",
   "execution_count": 14,
   "metadata": {},
   "outputs": [],
   "source": [
    "mnist_fashion = tf.keras.datasets.fashion_mnist\n",
    "(xtrain, y_train), (xtest, y_test) = mnist_fashion.load_data()\n",
    "xtrain, xtest = xtrain / 255.0, xtest / 255.0"
   ]
  },
  {
   "cell_type": "code",
   "execution_count": 15,
   "metadata": {},
   "outputs": [],
   "source": [
    "dic_fashion = {0 : 'T-shirt/top',1 : 'Trouser/pants',2 : 'Pullover shirt',3 : 'Dress',4 : 'Coat',5 : 'Sandal',6 : 'Shirt',\n",
    "                7 : 'Sneaker',8 : 'Bag',9 : 'Ankle boot'}"
   ]
  },
  {
   "cell_type": "code",
   "execution_count": 16,
   "metadata": {},
   "outputs": [
    {
     "data": {
      "image/png": "[encoded data removed]",
      "text/plain": [
       "<Figure size 432x288 with 1 Axes>"
      ]
     },
     "metadata": {
      "needs_background": "light"
     },
     "output_type": "display_data"
    },
    {
     "data": {
      "image/png": "[encoded data removed]",
      "text/plain": [
       "<Figure size 432x288 with 1 Axes>"
      ]
     },
     "metadata": {
      "needs_background": "light"
     },
     "output_type": "display_data"
    },
    {
     "data": {
      "image/png": "[encoded data removed]",
      "text/plain": [
       "<Figure size 432x288 with 1 Axes>"
      ]
     },
     "metadata": {
      "needs_background": "light"
     },
     "output_type": "display_data"
    }
   ],
   "source": [
    "for i in range(3):\n",
    "    plt.imshow(xtrain[i],cmap='gray')\n",
    "    plt.title(\"{}\".format(dic_fashion[y_train[i]]))\n",
    "    plt.axis('off')\n",
    "    plt.show()"
   ]
  },
  {
   "cell_type": "code",
   "execution_count": 17,
   "metadata": {},
   "outputs": [],
   "source": [
    "x_train = xtrain.reshape(-1,28,28,1)\n",
    "x_test = xtest.reshape(-1,28,28,1)"
   ]
  },
  {
   "cell_type": "code",
   "execution_count": 18,
   "metadata": {},
   "outputs": [
    {
     "data": {
      "text/plain": [
       "(60000, 28, 28, 1)"
      ]
     },
     "execution_count": 18,
     "metadata": {},
     "output_type": "execute_result"
    }
   ],
   "source": [
    "x_train.shape"
   ]
  },
  {
   "cell_type": "code",
   "execution_count": 19,
   "metadata": {},
   "outputs": [],
   "source": [
    "y_train = tf.keras.utils.to_categorical(y_train,10)\n",
    "y_test = tf.keras.utils.to_categorical(y_test,10)"
   ]
  },
  {
   "cell_type": "code",
   "execution_count": 20,
   "metadata": {},
   "outputs": [
    {
     "name": "stdout",
     "output_type": "stream",
     "text": [
      "Model: \"sequential_1\"\n",
      "_________________________________________________________________\n",
      "Layer (type)                 Output Shape              Param #   \n",
      "=================================================================\n",
      "conv2d_2 (Conv2D)            (None, 24, 24, 6)         156       \n",
      "_________________________________________________________________\n",
      "average_pooling2d_2 (Average (None, 12, 12, 6)         0         \n",
      "_________________________________________________________________\n",
      "conv2d_3 (Conv2D)            (None, 8, 8, 16)          2416      \n",
      "_________________________________________________________________\n",
      "average_pooling2d_3 (Average (None, 4, 4, 16)          0         \n",
      "_________________________________________________________________\n",
      "flatten_1 (Flatten)          (None, 256)               0         \n",
      "_________________________________________________________________\n",
      "dense_3 (Dense)              (None, 256)               65792     \n",
      "_________________________________________________________________\n",
      "dense_4 (Dense)              (None, 84)                21588     \n",
      "_________________________________________________________________\n",
      "dense_5 (Dense)              (None, 10)                850       \n",
      "=================================================================\n",
      "Total params: 90,802\n",
      "Trainable params: 90,802\n",
      "Non-trainable params: 0\n",
      "_________________________________________________________________\n"
     ]
    }
   ],
   "source": [
    "model_fashion = LeNet()"
   ]
  },
  {
   "cell_type": "code",
   "execution_count": 21,
   "metadata": {},
   "outputs": [],
   "source": [
    "model_fashion.compile(optimizer=\"RMSprop\",loss=\"categorical_crossentropy\",metrics=[\"accuracy\"])"
   ]
  },
  {
   "cell_type": "code",
   "execution_count": 22,
   "metadata": {},
   "outputs": [
    {
     "name": "stdout",
     "output_type": "stream",
     "text": [
      "Train on 60000 samples, validate on 10000 samples\n",
      "Epoch 1/20\n",
      "60000/60000 [==============================] - 3s 53us/sample - loss: 0.6340 - accuracy: 0.7654 - val_loss: 0.5026 - val_accuracy: 0.8228\n",
      "Epoch 2/20\n",
      "60000/60000 [==============================] - 2s 38us/sample - loss: 0.4470 - accuracy: 0.8374 - val_loss: 0.4343 - val_accuracy: 0.8428\n",
      "Epoch 3/20\n",
      "60000/60000 [==============================] - 2s 35us/sample - loss: 0.3937 - accuracy: 0.8573 - val_loss: 0.4051 - val_accuracy: 0.8546\n",
      "Epoch 4/20\n",
      "60000/60000 [==============================] - 2s 35us/sample - loss: 0.3624 - accuracy: 0.8670 - val_loss: 0.3908 - val_accuracy: 0.8568\n",
      "Epoch 5/20\n",
      "60000/60000 [==============================] - 2s 35us/sample - loss: 0.3388 - accuracy: 0.8771 - val_loss: 0.3678 - val_accuracy: 0.8637\n",
      "Epoch 6/20\n",
      "60000/60000 [==============================] - 2s 37us/sample - loss: 0.3212 - accuracy: 0.8813 - val_loss: 0.3625 - val_accuracy: 0.8681\n",
      "Epoch 7/20\n",
      "60000/60000 [==============================] - 2s 35us/sample - loss: 0.3055 - accuracy: 0.8878 - val_loss: 0.3578 - val_accuracy: 0.8708\n",
      "Epoch 8/20\n",
      "60000/60000 [==============================] - 2s 35us/sample - loss: 0.2919 - accuracy: 0.8922 - val_loss: 0.3467 - val_accuracy: 0.8724\n",
      "Epoch 9/20\n",
      "60000/60000 [==============================] - 2s 35us/sample - loss: 0.2793 - accuracy: 0.8968 - val_loss: 0.3443 - val_accuracy: 0.8736\n",
      "Epoch 10/20\n",
      "60000/60000 [==============================] - 2s 35us/sample - loss: 0.2681 - accuracy: 0.9007 - val_loss: 0.3307 - val_accuracy: 0.8811\n",
      "Epoch 11/20\n",
      "60000/60000 [==============================] - 2s 35us/sample - loss: 0.2565 - accuracy: 0.9062 - val_loss: 0.3288 - val_accuracy: 0.8804\n",
      "Epoch 12/20\n",
      "60000/60000 [==============================] - 2s 35us/sample - loss: 0.2471 - accuracy: 0.9083 - val_loss: 0.3298 - val_accuracy: 0.8785\n",
      "Epoch 13/20\n",
      "60000/60000 [==============================] - 2s 35us/sample - loss: 0.2374 - accuracy: 0.9132 - val_loss: 0.3264 - val_accuracy: 0.8819\n",
      "Epoch 14/20\n",
      "60000/60000 [==============================] - 2s 35us/sample - loss: 0.2278 - accuracy: 0.9158 - val_loss: 0.3233 - val_accuracy: 0.8849\n",
      "Epoch 15/20\n",
      "60000/60000 [==============================] - 2s 36us/sample - loss: 0.2173 - accuracy: 0.9208 - val_loss: 0.3327 - val_accuracy: 0.8810\n",
      "Epoch 16/20\n",
      "60000/60000 [==============================] - 2s 35us/sample - loss: 0.2096 - accuracy: 0.9238 - val_loss: 0.3235 - val_accuracy: 0.8859\n",
      "Epoch 17/20\n",
      "60000/60000 [==============================] - 2s 35us/sample - loss: 0.2002 - accuracy: 0.9273 - val_loss: 0.3200 - val_accuracy: 0.8892\n",
      "Epoch 18/20\n",
      "60000/60000 [==============================] - 2s 35us/sample - loss: 0.1920 - accuracy: 0.9285 - val_loss: 0.3196 - val_accuracy: 0.8931\n",
      "Epoch 19/20\n",
      "60000/60000 [==============================] - 2s 37us/sample - loss: 0.1836 - accuracy: 0.9332 - val_loss: 0.3283 - val_accuracy: 0.8866\n",
      "Epoch 20/20\n",
      "60000/60000 [==============================] - 2s 35us/sample - loss: 0.1756 - accuracy: 0.9360 - val_loss: 0.3197 - val_accuracy: 0.8901\n"
     ]
    }
   ],
   "source": [
    "history_fashion = model_fashion.fit(x_train, y_train, epochs=20,batch_size=128,validation_data = (x_test,y_test))"
   ]
  },
  {
   "cell_type": "code",
   "execution_count": 23,
   "metadata": {},
   "outputs": [
    {
     "data": {
      "image/png": "[encoded data removed]",
      "text/plain": [
       "<Figure size 432x288 with 1 Axes>"
      ]
     },
     "metadata": {
      "needs_background": "light"
     },
     "output_type": "display_data"
    },
    {
     "data": {
      "image/png": "[encoded data removed]",
      "text/plain": [
       "<Figure size 432x288 with 1 Axes>"
      ]
     },
     "metadata": {
      "needs_background": "light"
     },
     "output_type": "display_data"
    }
   ],
   "source": [
    "ep = range(1,len(history_fashion.history['accuracy'])+1)\n",
    "plt.plot(ep, history_fashion.history['accuracy'], label = 'Training')\n",
    "plt.plot(ep, history_fashion.history['val_accuracy'], label='Validation')\n",
    "plt.title('Accuracy Plot')\n",
    "plt.legend()\n",
    "plt.show()\n",
    "ep = range(1,len(history_fashion.history['accuracy'])+1)\n",
    "plt.plot(ep, history_fashion.history['loss'], label = 'Training')\n",
    "plt.plot(ep, history_fashion.history['val_loss'], label='Validation')\n",
    "plt.title('Accuracy Plot')\n",
    "plt.legend()\n",
    "plt.show()"
   ]
  },
  {
   "cell_type": "code",
   "execution_count": 24,
   "metadata": {},
   "outputs": [
    {
     "name": "stdout",
     "output_type": "stream",
     "text": [
      "10000/10000 - 1s - loss: 0.3197 - accuracy: 0.8901\n"
     ]
    }
   ],
   "source": [
    "loss, accuracy = model_fashion.evaluate(x_test,  y_test, verbose=2)"
   ]
  },
  {
   "cell_type": "code",
   "execution_count": 25,
   "metadata": {},
   "outputs": [
    {
     "data": {
      "image/png": "[encoded data removed]",
      "text/plain": [
       "<Figure size 432x288 with 1 Axes>"
      ]
     },
     "metadata": {
      "needs_background": "light"
     },
     "output_type": "display_data"
    }
   ],
   "source": [
    "y_pred = np.argmax(model_fashion.predict(x_test),axis=1)\n",
    "for i in range(10,20):\n",
    "    plt.imshow(xtest[i],cmap='gray')\n",
    "    plt.title(\"Predicted:{} and Actual:{}\".format(dic_fashion[y_pred[i]],dic_fashion[np.argmax(y_test[i])]))\n",
    "    plt.axis('off')\n",
    "    plt.show()\n",
    "    time.sleep(2.0)\n",
    "    clear_output(wait=True)"
   ]
  },
  {
   "cell_type": "markdown",
   "metadata": {},
   "source": [
    "## training accuracy of the network is 93.43% and testing accuracy of the model is coming out to be 89.01% \n",
    "\n",
    "Clearly performing descent and is overfitting a little performance can be improved by using data augmentation."
   ]
  },
  {
   "cell_type": "code",
   "execution_count": null,
   "metadata": {},
   "outputs": [],
   "source": []
  }
 ],
 "metadata": {
  "kernelspec": {
   "display_name": "Python 3",
   "language": "python",
   "name": "python3"
  },
  "language_info": {
   "codemirror_mode": {
    "name": "ipython",
    "version": 3
   },
   "file_extension": ".py",
   "mimetype": "text/x-python",
   "name": "python",
   "nbconvert_exporter": "python",
   "pygments_lexer": "ipython3",
   "version": "3.7.7"
  }
 },
 "nbformat": 4,
 "nbformat_minor": 4
}
