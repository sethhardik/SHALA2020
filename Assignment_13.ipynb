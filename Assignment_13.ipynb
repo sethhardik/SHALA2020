{
  "nbformat": 4,
  "nbformat_minor": 0,
  "metadata": {
    "colab": {
      "name": "Assignment 13.ipynb",
      "provenance": [],
      "authorship_tag": "ABX9TyOzrnv/lojV+GMaM2b3RBxj",
      "include_colab_link": true
    },
    "kernelspec": {
      "name": "python3",
      "display_name": "Python 3"
    }
  },
  "cells": [
    {
      "cell_type": "markdown",
      "metadata": {
        "id": "view-in-github",
        "colab_type": "text"
      },
      "source": [
        "<a href=\"https://colab.research.google.com/github/sethhardik/SHALA2020/blob/master/Assignment_13.ipynb\" target=\"_parent\"><img src=\"https://colab.research.google.com/assets/colab-badge.svg\" alt=\"Open In Colab\"/></a>"
      ]
    },
    {
      "cell_type": "code",
      "metadata": {
        "id": "VavqqN4VRUsa",
        "colab_type": "code",
        "colab": {}
      },
      "source": [
        "import numpy as np \n",
        "import pandas as pd\n",
        "import seaborn as sns\n",
        "import matplotlib.pyplot as plt\n",
        "from sklearn.model_selection import train_test_split\n",
        "from sklearn.cluster import KMeans\n",
        "%matplotlib inline"
      ],
      "execution_count": 0,
      "outputs": []
    },
    {
      "cell_type": "code",
      "metadata": {
        "id": "kH2_glfnRqBS",
        "colab_type": "code",
        "colab": {}
      },
      "source": [
        "df = pd.read_csv(\"https://raw.githubusercontent.com/shala2020/shala2020.github.io/master/Lecture_Materials/Assignments/MachineLearning/L9/assignment_shala_clustering.csv\")"
      ],
      "execution_count": 0,
      "outputs": []
    },
    {
      "cell_type": "code",
      "metadata": {
        "id": "spM0CHt4SMRz",
        "colab_type": "code",
        "outputId": "a54d31f2-752e-484a-85d8-9d7cc5cde180",
        "colab": {
          "base_uri": "https://localhost:8080/",
          "height": 195
        }
      },
      "source": [
        "df.head()"
      ],
      "execution_count": 38,
      "outputs": [
        {
          "output_type": "execute_result",
          "data": {
            "text/html": [
              "<div>\n",
              "<style scoped>\n",
              "    .dataframe tbody tr th:only-of-type {\n",
              "        vertical-align: middle;\n",
              "    }\n",
              "\n",
              "    .dataframe tbody tr th {\n",
              "        vertical-align: top;\n",
              "    }\n",
              "\n",
              "    .dataframe thead th {\n",
              "        text-align: right;\n",
              "    }\n",
              "</style>\n",
              "<table border=\"1\" class=\"dataframe\">\n",
              "  <thead>\n",
              "    <tr style=\"text-align: right;\">\n",
              "      <th></th>\n",
              "      <th>CustomerID</th>\n",
              "      <th>Gender</th>\n",
              "      <th>Age</th>\n",
              "      <th>Annual Income (k$)</th>\n",
              "      <th>Spending Score (1-100)</th>\n",
              "    </tr>\n",
              "  </thead>\n",
              "  <tbody>\n",
              "    <tr>\n",
              "      <th>0</th>\n",
              "      <td>1</td>\n",
              "      <td>Male</td>\n",
              "      <td>19</td>\n",
              "      <td>15</td>\n",
              "      <td>39</td>\n",
              "    </tr>\n",
              "    <tr>\n",
              "      <th>1</th>\n",
              "      <td>2</td>\n",
              "      <td>Male</td>\n",
              "      <td>21</td>\n",
              "      <td>15</td>\n",
              "      <td>81</td>\n",
              "    </tr>\n",
              "    <tr>\n",
              "      <th>2</th>\n",
              "      <td>3</td>\n",
              "      <td>Female</td>\n",
              "      <td>20</td>\n",
              "      <td>16</td>\n",
              "      <td>6</td>\n",
              "    </tr>\n",
              "    <tr>\n",
              "      <th>3</th>\n",
              "      <td>4</td>\n",
              "      <td>Female</td>\n",
              "      <td>23</td>\n",
              "      <td>16</td>\n",
              "      <td>77</td>\n",
              "    </tr>\n",
              "    <tr>\n",
              "      <th>4</th>\n",
              "      <td>5</td>\n",
              "      <td>Female</td>\n",
              "      <td>31</td>\n",
              "      <td>17</td>\n",
              "      <td>40</td>\n",
              "    </tr>\n",
              "  </tbody>\n",
              "</table>\n",
              "</div>"
            ],
            "text/plain": [
              "   CustomerID  Gender  Age  Annual Income (k$)  Spending Score (1-100)\n",
              "0           1    Male   19                  15                      39\n",
              "1           2    Male   21                  15                      81\n",
              "2           3  Female   20                  16                       6\n",
              "3           4  Female   23                  16                      77\n",
              "4           5  Female   31                  17                      40"
            ]
          },
          "metadata": {
            "tags": []
          },
          "execution_count": 38
        }
      ]
    },
    {
      "cell_type": "code",
      "metadata": {
        "id": "C344eSgsSNYa",
        "colab_type": "code",
        "colab": {
          "base_uri": "https://localhost:8080/",
          "height": 284
        },
        "outputId": "c25de095-493b-4e8d-c5b0-70b32aaed0b0"
      },
      "source": [
        "df.describe()"
      ],
      "execution_count": 39,
      "outputs": [
        {
          "output_type": "execute_result",
          "data": {
            "text/html": [
              "<div>\n",
              "<style scoped>\n",
              "    .dataframe tbody tr th:only-of-type {\n",
              "        vertical-align: middle;\n",
              "    }\n",
              "\n",
              "    .dataframe tbody tr th {\n",
              "        vertical-align: top;\n",
              "    }\n",
              "\n",
              "    .dataframe thead th {\n",
              "        text-align: right;\n",
              "    }\n",
              "</style>\n",
              "<table border=\"1\" class=\"dataframe\">\n",
              "  <thead>\n",
              "    <tr style=\"text-align: right;\">\n",
              "      <th></th>\n",
              "      <th>CustomerID</th>\n",
              "      <th>Age</th>\n",
              "      <th>Annual Income (k$)</th>\n",
              "      <th>Spending Score (1-100)</th>\n",
              "    </tr>\n",
              "  </thead>\n",
              "  <tbody>\n",
              "    <tr>\n",
              "      <th>count</th>\n",
              "      <td>200.000000</td>\n",
              "      <td>200.000000</td>\n",
              "      <td>200.000000</td>\n",
              "      <td>200.000000</td>\n",
              "    </tr>\n",
              "    <tr>\n",
              "      <th>mean</th>\n",
              "      <td>100.500000</td>\n",
              "      <td>38.850000</td>\n",
              "      <td>60.560000</td>\n",
              "      <td>50.200000</td>\n",
              "    </tr>\n",
              "    <tr>\n",
              "      <th>std</th>\n",
              "      <td>57.879185</td>\n",
              "      <td>13.969007</td>\n",
              "      <td>26.264721</td>\n",
              "      <td>25.823522</td>\n",
              "    </tr>\n",
              "    <tr>\n",
              "      <th>min</th>\n",
              "      <td>1.000000</td>\n",
              "      <td>18.000000</td>\n",
              "      <td>15.000000</td>\n",
              "      <td>1.000000</td>\n",
              "    </tr>\n",
              "    <tr>\n",
              "      <th>25%</th>\n",
              "      <td>50.750000</td>\n",
              "      <td>28.750000</td>\n",
              "      <td>41.500000</td>\n",
              "      <td>34.750000</td>\n",
              "    </tr>\n",
              "    <tr>\n",
              "      <th>50%</th>\n",
              "      <td>100.500000</td>\n",
              "      <td>36.000000</td>\n",
              "      <td>61.500000</td>\n",
              "      <td>50.000000</td>\n",
              "    </tr>\n",
              "    <tr>\n",
              "      <th>75%</th>\n",
              "      <td>150.250000</td>\n",
              "      <td>49.000000</td>\n",
              "      <td>78.000000</td>\n",
              "      <td>73.000000</td>\n",
              "    </tr>\n",
              "    <tr>\n",
              "      <th>max</th>\n",
              "      <td>200.000000</td>\n",
              "      <td>70.000000</td>\n",
              "      <td>137.000000</td>\n",
              "      <td>99.000000</td>\n",
              "    </tr>\n",
              "  </tbody>\n",
              "</table>\n",
              "</div>"
            ],
            "text/plain": [
              "       CustomerID         Age  Annual Income (k$)  Spending Score (1-100)\n",
              "count  200.000000  200.000000          200.000000              200.000000\n",
              "mean   100.500000   38.850000           60.560000               50.200000\n",
              "std     57.879185   13.969007           26.264721               25.823522\n",
              "min      1.000000   18.000000           15.000000                1.000000\n",
              "25%     50.750000   28.750000           41.500000               34.750000\n",
              "50%    100.500000   36.000000           61.500000               50.000000\n",
              "75%    150.250000   49.000000           78.000000               73.000000\n",
              "max    200.000000   70.000000          137.000000               99.000000"
            ]
          },
          "metadata": {
            "tags": []
          },
          "execution_count": 39
        }
      ]
    },
    {
      "cell_type": "code",
      "metadata": {
        "id": "AzYrJTiT3Fsa",
        "colab_type": "code",
        "colab": {
          "base_uri": "https://localhost:8080/",
          "height": 369
        },
        "outputId": "b6ab9157-509a-459f-e714-487f5fc38cd3"
      },
      "source": [
        "df.hist(figsize=(10,5),grid=False)\n",
        "plt.tight_layout()\n",
        "plt.show()"
      ],
      "execution_count": 40,
      "outputs": [
        {
          "output_type": "display_data",
          "data": {
            "image/png": "[encoded data removed]",
            "text/plain": [
              "<Figure size 720x360 with 4 Axes>"
            ]
          },
          "metadata": {
            "tags": [],
            "needs_background": "light"
          }
        }
      ]
    },
    {
      "cell_type": "code",
      "metadata": {
        "id": "9LrzDhHD3N-G",
        "colab_type": "code",
        "colab": {
          "base_uri": "https://localhost:8080/",
          "height": 279
        },
        "outputId": "79f9ecd0-0386-4326-df88-d6c9d5ac8781"
      },
      "source": [
        "sns.countplot(x=\"Gender\", data=df)\n",
        "plt.show()"
      ],
      "execution_count": 41,
      "outputs": [
        {
          "output_type": "display_data",
          "data": {
            "image/png": "[encoded data removed]",
            "text/plain": [
              "<Figure size 432x288 with 1 Axes>"
            ]
          },
          "metadata": {
            "tags": [],
            "needs_background": "light"
          }
        }
      ]
    },
    {
      "cell_type": "code",
      "metadata": {
        "id": "AZ_d-SYl3wQL",
        "colab_type": "code",
        "colab": {
          "base_uri": "https://localhost:8080/",
          "height": 265
        },
        "outputId": "66d685d9-4e77-42e5-8e77-9aed51e439c3"
      },
      "source": [
        "df[[\"Age\",\"Annual Income (k$)\",\"Spending Score (1-100)\"\t]].boxplot()\n",
        "plt.show()"
      ],
      "execution_count": 42,
      "outputs": [
        {
          "output_type": "display_data",
          "data": {
            "image/png": "[encoded data removed]",
            "text/plain": [
              "<Figure size 432x288 with 1 Axes>"
            ]
          },
          "metadata": {
            "tags": [],
            "needs_background": "light"
          }
        }
      ]
    },
    {
      "cell_type": "code",
      "metadata": {
        "id": "kN4pQ1EB4J3O",
        "colab_type": "code",
        "colab": {
          "base_uri": "https://localhost:8080/",
          "height": 279
        },
        "outputId": "8191080c-534f-4118-b52c-161987adab6b"
      },
      "source": [
        "sns.boxplot(x=df['Gender'],y=df['Spending Score (1-100)'])\n",
        "plt.show()"
      ],
      "execution_count": 43,
      "outputs": [
        {
          "output_type": "display_data",
          "data": {
            "image/png": "[encoded data removed]",
            "text/plain": [
              "<Figure size 432x288 with 1 Axes>"
            ]
          },
          "metadata": {
            "tags": [],
            "needs_background": "light"
          }
        }
      ]
    },
    {
      "cell_type": "code",
      "metadata": {
        "id": "YcoFvh9I5Az_",
        "colab_type": "code",
        "colab": {
          "base_uri": "https://localhost:8080/",
          "height": 279
        },
        "outputId": "13bcda06-1804-4fff-ce97-dc1363825bb8"
      },
      "source": [
        "sns.boxplot(x=df['Gender'],y=df['Annual Income (k$)'])\n",
        "plt.show()"
      ],
      "execution_count": 44,
      "outputs": [
        {
          "output_type": "display_data",
          "data": {
            "image/png": "[encoded data removed]",
            "text/plain": [
              "<Figure size 432x288 with 1 Axes>"
            ]
          },
          "metadata": {
            "tags": [],
            "needs_background": "light"
          }
        }
      ]
    },
    {
      "cell_type": "code",
      "metadata": {
        "id": "vkOSZbuP5JDC",
        "colab_type": "code",
        "colab": {
          "base_uri": "https://localhost:8080/",
          "height": 279
        },
        "outputId": "e2b769d0-0b6d-443b-ddfd-c98a57d09495"
      },
      "source": [
        "plt.scatter(x=df['Age'],y=df['Spending Score (1-100)'])\n",
        "plt.xlabel('Age')\n",
        "plt.ylabel('Spending score')\n",
        "\n",
        "plt.show()"
      ],
      "execution_count": 45,
      "outputs": [
        {
          "output_type": "display_data",
          "data": {
            "image/png": "[encoded data removed]",
            "text/plain": [
              "<Figure size 432x288 with 1 Axes>"
            ]
          },
          "metadata": {
            "tags": [],
            "needs_background": "light"
          }
        }
      ]
    },
    {
      "cell_type": "code",
      "metadata": {
        "id": "JIIEFpMc5UbN",
        "colab_type": "code",
        "colab": {
          "base_uri": "https://localhost:8080/",
          "height": 279
        },
        "outputId": "e1447c69-c44d-4792-b38c-099a92cfc53d"
      },
      "source": [
        "plt.scatter(x=df['Age'],y=df['Annual Income (k$)'])\n",
        "plt.xlabel('Age')\n",
        "plt.ylabel('Annual Income (k$)')\n",
        "plt.show()"
      ],
      "execution_count": 46,
      "outputs": [
        {
          "output_type": "display_data",
          "data": {
            "image/png": "[encoded data removed]",
            "text/plain": [
              "<Figure size 432x288 with 1 Axes>"
            ]
          },
          "metadata": {
            "tags": [],
            "needs_background": "light"
          }
        }
      ]
    },
    {
      "cell_type": "code",
      "metadata": {
        "id": "KKyiQmU45jP8",
        "colab_type": "code",
        "colab": {
          "base_uri": "https://localhost:8080/",
          "height": 279
        },
        "outputId": "7878e1d1-75f5-4c15-ff5f-ae071ab70a84"
      },
      "source": [
        "plt.scatter(x=df['Spending Score (1-100)'],y=df['Annual Income (k$)'])\n",
        "plt.xlabel('Spending Score (1-100)')\n",
        "plt.ylabel('Annual Income (k$)')\n",
        "plt.show()"
      ],
      "execution_count": 47,
      "outputs": [
        {
          "output_type": "display_data",
          "data": {
            "image/png": "[encoded data removed]",
            "text/plain": [
              "<Figure size 432x288 with 1 Axes>"
            ]
          },
          "metadata": {
            "tags": [],
            "needs_background": "light"
          }
        }
      ]
    },
    {
      "cell_type": "code",
      "metadata": {
        "id": "ZfAizSrG5tev",
        "colab_type": "code",
        "colab": {}
      },
      "source": [
        "df['Gender'] = df['Gender'].apply(lambda x: 0 if x==\"Female\" else 1)\n",
        "# labelled gender "
      ],
      "execution_count": 0,
      "outputs": []
    },
    {
      "cell_type": "code",
      "metadata": {
        "id": "hm8OIiXA6Ba7",
        "colab_type": "code",
        "colab": {
          "base_uri": "https://localhost:8080/",
          "height": 195
        },
        "outputId": "e6aea23d-1de7-4568-a00c-7896f2b050af"
      },
      "source": [
        "df.head()"
      ],
      "execution_count": 49,
      "outputs": [
        {
          "output_type": "execute_result",
          "data": {
            "text/html": [
              "<div>\n",
              "<style scoped>\n",
              "    .dataframe tbody tr th:only-of-type {\n",
              "        vertical-align: middle;\n",
              "    }\n",
              "\n",
              "    .dataframe tbody tr th {\n",
              "        vertical-align: top;\n",
              "    }\n",
              "\n",
              "    .dataframe thead th {\n",
              "        text-align: right;\n",
              "    }\n",
              "</style>\n",
              "<table border=\"1\" class=\"dataframe\">\n",
              "  <thead>\n",
              "    <tr style=\"text-align: right;\">\n",
              "      <th></th>\n",
              "      <th>CustomerID</th>\n",
              "      <th>Gender</th>\n",
              "      <th>Age</th>\n",
              "      <th>Annual Income (k$)</th>\n",
              "      <th>Spending Score (1-100)</th>\n",
              "    </tr>\n",
              "  </thead>\n",
              "  <tbody>\n",
              "    <tr>\n",
              "      <th>0</th>\n",
              "      <td>1</td>\n",
              "      <td>1</td>\n",
              "      <td>19</td>\n",
              "      <td>15</td>\n",
              "      <td>39</td>\n",
              "    </tr>\n",
              "    <tr>\n",
              "      <th>1</th>\n",
              "      <td>2</td>\n",
              "      <td>1</td>\n",
              "      <td>21</td>\n",
              "      <td>15</td>\n",
              "      <td>81</td>\n",
              "    </tr>\n",
              "    <tr>\n",
              "      <th>2</th>\n",
              "      <td>3</td>\n",
              "      <td>0</td>\n",
              "      <td>20</td>\n",
              "      <td>16</td>\n",
              "      <td>6</td>\n",
              "    </tr>\n",
              "    <tr>\n",
              "      <th>3</th>\n",
              "      <td>4</td>\n",
              "      <td>0</td>\n",
              "      <td>23</td>\n",
              "      <td>16</td>\n",
              "      <td>77</td>\n",
              "    </tr>\n",
              "    <tr>\n",
              "      <th>4</th>\n",
              "      <td>5</td>\n",
              "      <td>0</td>\n",
              "      <td>31</td>\n",
              "      <td>17</td>\n",
              "      <td>40</td>\n",
              "    </tr>\n",
              "  </tbody>\n",
              "</table>\n",
              "</div>"
            ],
            "text/plain": [
              "   CustomerID  Gender  Age  Annual Income (k$)  Spending Score (1-100)\n",
              "0           1       1   19                  15                      39\n",
              "1           2       1   21                  15                      81\n",
              "2           3       0   20                  16                       6\n",
              "3           4       0   23                  16                      77\n",
              "4           5       0   31                  17                      40"
            ]
          },
          "metadata": {
            "tags": []
          },
          "execution_count": 49
        }
      ]
    },
    {
      "cell_type": "code",
      "metadata": {
        "id": "RoZr9r5l6Clu",
        "colab_type": "code",
        "colab": {
          "base_uri": "https://localhost:8080/",
          "height": 195
        },
        "outputId": "cb3eb8e8-52d0-4443-86f2-b16a86c7c398"
      },
      "source": [
        "# removing customer id \n",
        "data = df.iloc[:,1:5]\n",
        "data.head()"
      ],
      "execution_count": 51,
      "outputs": [
        {
          "output_type": "execute_result",
          "data": {
            "text/html": [
              "<div>\n",
              "<style scoped>\n",
              "    .dataframe tbody tr th:only-of-type {\n",
              "        vertical-align: middle;\n",
              "    }\n",
              "\n",
              "    .dataframe tbody tr th {\n",
              "        vertical-align: top;\n",
              "    }\n",
              "\n",
              "    .dataframe thead th {\n",
              "        text-align: right;\n",
              "    }\n",
              "</style>\n",
              "<table border=\"1\" class=\"dataframe\">\n",
              "  <thead>\n",
              "    <tr style=\"text-align: right;\">\n",
              "      <th></th>\n",
              "      <th>Gender</th>\n",
              "      <th>Age</th>\n",
              "      <th>Annual Income (k$)</th>\n",
              "      <th>Spending Score (1-100)</th>\n",
              "    </tr>\n",
              "  </thead>\n",
              "  <tbody>\n",
              "    <tr>\n",
              "      <th>0</th>\n",
              "      <td>1</td>\n",
              "      <td>19</td>\n",
              "      <td>15</td>\n",
              "      <td>39</td>\n",
              "    </tr>\n",
              "    <tr>\n",
              "      <th>1</th>\n",
              "      <td>1</td>\n",
              "      <td>21</td>\n",
              "      <td>15</td>\n",
              "      <td>81</td>\n",
              "    </tr>\n",
              "    <tr>\n",
              "      <th>2</th>\n",
              "      <td>0</td>\n",
              "      <td>20</td>\n",
              "      <td>16</td>\n",
              "      <td>6</td>\n",
              "    </tr>\n",
              "    <tr>\n",
              "      <th>3</th>\n",
              "      <td>0</td>\n",
              "      <td>23</td>\n",
              "      <td>16</td>\n",
              "      <td>77</td>\n",
              "    </tr>\n",
              "    <tr>\n",
              "      <th>4</th>\n",
              "      <td>0</td>\n",
              "      <td>31</td>\n",
              "      <td>17</td>\n",
              "      <td>40</td>\n",
              "    </tr>\n",
              "  </tbody>\n",
              "</table>\n",
              "</div>"
            ],
            "text/plain": [
              "   Gender  Age  Annual Income (k$)  Spending Score (1-100)\n",
              "0       1   19                  15                      39\n",
              "1       1   21                  15                      81\n",
              "2       0   20                  16                       6\n",
              "3       0   23                  16                      77\n",
              "4       0   31                  17                      40"
            ]
          },
          "metadata": {
            "tags": []
          },
          "execution_count": 51
        }
      ]
    },
    {
      "cell_type": "code",
      "metadata": {
        "id": "o5_AE1AO6HPb",
        "colab_type": "code",
        "colab": {
          "base_uri": "https://localhost:8080/",
          "height": 34
        },
        "outputId": "2fa58aa0-691e-4036-b61e-65a3f2b75571"
      },
      "source": [
        "X,y = train_test_split(data, test_size=.2)\n",
        "X.shape"
      ],
      "execution_count": 59,
      "outputs": [
        {
          "output_type": "execute_result",
          "data": {
            "text/plain": [
              "(160, 4)"
            ]
          },
          "metadata": {
            "tags": []
          },
          "execution_count": 59
        }
      ]
    },
    {
      "cell_type": "code",
      "metadata": {
        "id": "b-i_2CjVCz13",
        "colab_type": "code",
        "colab": {}
      },
      "source": [
        "clusters = 4\n",
        "kmeans = KMeans(n_clusters=clusters)\n",
        "y_pred = kmeans.fit_predict(X)"
      ],
      "execution_count": 0,
      "outputs": []
    },
    {
      "cell_type": "code",
      "metadata": {
        "id": "6Chifzw-DNvl",
        "colab_type": "code",
        "colab": {
          "base_uri": "https://localhost:8080/",
          "height": 34
        },
        "outputId": "5a091407-4d4f-40c3-faf4-4f5d8746236b"
      },
      "source": [
        "# Checking within-cluster sum of squares\n",
        "kmeans.inertia_"
      ],
      "execution_count": 61,
      "outputs": [
        {
          "output_type": "execute_result",
          "data": {
            "text/plain": [
              "83445.65920166578"
            ]
          },
          "metadata": {
            "tags": []
          },
          "execution_count": 61
        }
      ]
    },
    {
      "cell_type": "code",
      "metadata": {
        "id": "oeaXygDdDQ84",
        "colab_type": "code",
        "colab": {
          "base_uri": "https://localhost:8080/",
          "height": 84
        },
        "outputId": "4969c015-b435-4d46-d48e-ac94f3814c0f"
      },
      "source": [
        "kmeans.cluster_centers_\n"
      ],
      "execution_count": 62,
      "outputs": [
        {
          "output_type": "execute_result",
          "data": {
            "text/plain": [
              "array([[ 0.39473684, 45.60526316, 48.18421053, 41.57894737],\n",
              "       [ 0.45454545, 32.90909091, 86.84848485, 81.27272727],\n",
              "       [ 0.54166667, 24.41666667, 30.41666667, 73.        ],\n",
              "       [ 0.48148148, 40.48148148, 85.92592593, 20.51851852]])"
            ]
          },
          "metadata": {
            "tags": []
          },
          "execution_count": 62
        }
      ]
    },
    {
      "cell_type": "code",
      "metadata": {
        "id": "8j2EH5NVD2Rq",
        "colab_type": "code",
        "colab": {
          "base_uri": "https://localhost:8080/",
          "height": 689
        },
        "outputId": "1400895e-cbe3-4b4b-bbc3-e349fee52e0c"
      },
      "source": [
        "# distance from each centroid\n",
        "\n",
        "kmeans.transform(y)"
      ],
      "execution_count": 64,
      "outputs": [
        {
          "output_type": "execute_result",
          "data": {
            "text/plain": [
              "array([[ 54.03455727,  21.22698613,  45.0061917 ,  72.50234375],\n",
              "       [ 29.95692892,  62.27998925,  16.1881837 ,  70.8835576 ],\n",
              "       [ 11.63464475,  48.66935537,  46.31026479,  38.98714219],\n",
              "       [ 24.23887071,  53.36503879,  59.87465205,  38.08709606],\n",
              "       [ 70.58736066,  16.86784913,  74.47689099,  66.85582219],\n",
              "       [ 64.3550735 ,  11.17803993,  60.80343158,  71.6317553 ],\n",
              "       [ 59.02583476,  13.15790237,  50.27067361,  70.24610861],\n",
              "       [ 23.3665688 ,  55.2833755 ,  39.03277202,  61.19335655],\n",
              "       [ 50.48706672,  50.47570764,  79.20210829,  16.3343831 ],\n",
              "       [ 35.19414889,  91.8357069 ,  66.04776523,  59.84050589],\n",
              "       [ 22.87602078,  74.54778883,  56.11423431,  55.74941485],\n",
              "       [ 28.2628026 ,  51.93623801,  55.14351541,  51.68634963],\n",
              "       [ 44.62471242,  68.82021   ,  12.54554204,  81.87613181],\n",
              "       [ 24.45289156,  35.10775751,  44.68378481,  44.62640222],\n",
              "       [ 28.87444163,  84.6984496 ,  52.46005425,  64.53334651],\n",
              "       [ 13.08058869,  45.76266277,  45.40345756,  37.63170744],\n",
              "       [ 13.17879918,  49.74702763,  46.98198901,  32.43679091],\n",
              "       [ 26.5448322 ,  49.5556935 ,  56.1238864 ,  46.02291133],\n",
              "       [ 14.16989806,  44.61393417,  44.80577297,  39.24468632],\n",
              "       [ 81.67294669,  33.29814948,  90.40726718,  67.90732408],\n",
              "       [ 42.56322493,  54.36278335,  73.83861202,   7.96735452],\n",
              "       [ 28.42898281,  60.69054717,  51.08708863,  61.02972133],\n",
              "       [ 85.39257154,  39.83538211,  95.88999231,  67.36768264],\n",
              "       [  7.61900052,  59.41974548,  39.96424183,  50.32705109],\n",
              "       [ 23.83046945,  60.05989511,  50.29553285,  56.65487653],\n",
              "       [ 65.28034048,  70.15876002,  30.30908486, 103.28940391],\n",
              "       [ 10.33627799,  47.29350748,  37.73889185,  42.13071631],\n",
              "       [ 44.95373892,  68.54246705,  12.75959606,  85.08534407],\n",
              "       [ 47.84950872, 102.0327195 ,  68.95994459,  69.67781036],\n",
              "       [ 21.45243724,  74.49634993,  48.85496179,  49.43792439],\n",
              "       [  6.32428157,  51.37954523,  43.16604327,  40.01662892],\n",
              "       [ 50.15918566,  67.57628754,  11.17917521,  88.36433962],\n",
              "       [ 39.8027599 ,  75.32179511,  79.07732898,  19.95543732],\n",
              "       [ 45.50184161, 101.44715045,  73.65385682,  72.28465488],\n",
              "       [ 15.89924561,  50.75559471,  45.84819835,  47.13295848],\n",
              "       [ 54.23289651,   8.94817237,  49.81606794,  63.90586999],\n",
              "       [ 19.62937408,  46.75736955,  54.27068538,  31.216642  ],\n",
              "       [ 26.89642337,  57.14211498,  62.14008871,  42.2912853 ],\n",
              "       [ 23.59742873,  41.64070817,  37.56515174,  41.51257102],\n",
              "       [ 31.27125316,  44.27164871,  43.43259864,  39.89705546]])"
            ]
          },
          "metadata": {
            "tags": []
          },
          "execution_count": 64
        }
      ]
    },
    {
      "cell_type": "markdown",
      "metadata": {
        "id": "_KYFsR5kEeft",
        "colab_type": "text"
      },
      "source": [
        "Finding the optimal number of clusters in kmeans. One might be thinking that the model with lower within-cluster sum-of-squares score will be the best to decide how many cluster to pick to club the similar information together but this technique has some flaws and one of them is that as you increase the number of cluster the within-cluster-sum-of-squares score decrease. Obviously more the number of clusters, the closer each instance will be to its closest centroid. So a more precise approach to select the number of cluster is silhouette score which is the mean silhouette cofficient) over all the instances."
      ]
    },
    {
      "cell_type": "code",
      "metadata": {
        "id": "PDIdQo9QEICk",
        "colab_type": "code",
        "colab": {
          "base_uri": "https://localhost:8080/",
          "height": 230
        },
        "outputId": "39f66be4-1424-4e3b-c9e3-963066978467"
      },
      "source": [
        "from sklearn.metrics import silhouette_score\n",
        "kmeans_models = [KMeans(n_clusters=k, random_state=42).fit(X)\n",
        "                for k in range(1, 10)]\n",
        "silhouette_scores = [silhouette_score(X, model.labels_)\n",
        "                     for model in kmeans_models[1:]]\n",
        "plt.figure(figsize=(8, 3))\n",
        "plt.plot(range(2, 10), silhouette_scores, \"bo-\")\n",
        "plt.xlabel(\"$k$\", fontsize=14)\n",
        "plt.ylabel(\"Silhouette score\", fontsize=14)\n",
        "plt.show()"
      ],
      "execution_count": 65,
      "outputs": [
        {
          "output_type": "display_data",
          "data": {
            "image/png": "[encoded data removed]",
            "text/plain": [
              "<Figure size 576x216 with 1 Axes>"
            ]
          },
          "metadata": {
            "tags": [],
            "needs_background": "light"
          }
        }
      ]
    },
    {
      "cell_type": "code",
      "metadata": {
        "id": "x8xVBCJyElRw",
        "colab_type": "code",
        "colab": {}
      },
      "source": [
        "# we can see that k =6 gives more score hence using it\n",
        "clusters = 6\n",
        "kmeans = KMeans(n_clusters=clusters)\n",
        "y_pred = kmeans.fit_predict(X)"
      ],
      "execution_count": 0,
      "outputs": []
    },
    {
      "cell_type": "code",
      "metadata": {
        "id": "PlLBbyYnEtt8",
        "colab_type": "code",
        "colab": {
          "base_uri": "https://localhost:8080/",
          "height": 34
        },
        "outputId": "e90d5940-e375-4099-b0dd-37f74a51ba4a"
      },
      "source": [
        "kmeans.inertia_\n"
      ],
      "execution_count": 68,
      "outputs": [
        {
          "output_type": "execute_result",
          "data": {
            "text/plain": [
              "46797.48633326245"
            ]
          },
          "metadata": {
            "tags": []
          },
          "execution_count": 68
        }
      ]
    },
    {
      "cell_type": "code",
      "metadata": {
        "id": "RAz_qF3IE0Sq",
        "colab_type": "code",
        "colab": {
          "base_uri": "https://localhost:8080/",
          "height": 118
        },
        "outputId": "45b6c2a5-feb9-477f-8c63-f16228e794e9"
      },
      "source": [
        "kmeans.cluster_centers_\n"
      ],
      "execution_count": 69,
      "outputs": [
        {
          "output_type": "execute_result",
          "data": {
            "text/plain": [
              "array([[ 0.34285714, 26.94285714, 56.74285714, 49.08571429],\n",
              "       [ 0.46875   , 32.53125   , 84.78125   , 81.5625    ],\n",
              "       [ 0.41176471, 24.23529412, 27.        , 80.64705882],\n",
              "       [ 0.375     , 42.6875    , 25.1875    , 20.0625    ],\n",
              "       [ 0.58064516, 41.80645161, 89.09677419, 16.19354839],\n",
              "       [ 0.48275862, 55.31034483, 52.31034483, 49.27586207]])"
            ]
          },
          "metadata": {
            "tags": []
          },
          "execution_count": 69
        }
      ]
    },
    {
      "cell_type": "markdown",
      "metadata": {
        "id": "WZKBMsgKI6xR",
        "colab_type": "text"
      },
      "source": [
        "Agglomerative Clustering"
      ]
    },
    {
      "cell_type": "code",
      "metadata": {
        "id": "5foMrph6E2Py",
        "colab_type": "code",
        "colab": {}
      },
      "source": [
        "from sklearn.cluster import AgglomerativeClustering\n",
        "import scipy.cluster.hierarchy as sch\n"
      ],
      "execution_count": 0,
      "outputs": []
    },
    {
      "cell_type": "code",
      "metadata": {
        "id": "9pM0PYhjFSGA",
        "colab_type": "code",
        "colab": {
          "base_uri": "https://localhost:8080/",
          "height": 444
        },
        "outputId": "8547b1f2-946f-4a5d-f6c7-1afd1d1550c3"
      },
      "source": [
        "plt.figure(figsize=(20, 7))\n",
        "dendrogram = sch.dendrogram(sch.linkage(X, method='ward'))\n",
        "plt.title(\"Dendograms\")\n",
        "plt.show()"
      ],
      "execution_count": 72,
      "outputs": [
        {
          "output_type": "display_data",
          "data": {
            "image/png": "[encoded data removed]",
            "text/plain": [
              "<Figure size 1440x504 with 1 Axes>"
            ]
          },
          "metadata": {
            "tags": [],
            "needs_background": "light"
          }
        }
      ]
    },
    {
      "cell_type": "markdown",
      "metadata": {
        "id": "kxxn_UmHGFVl",
        "colab_type": "text"
      },
      "source": [
        "from dendogram it can be seen that 6 clusters can give good o/p for our model"
      ]
    },
    {
      "cell_type": "code",
      "metadata": {
        "id": "bc-xygaZFU9-",
        "colab_type": "code",
        "colab": {}
      },
      "source": [
        "agglo_clus = AgglomerativeClustering(n_clusters=6, affinity=\"euclidean\",linkage=\"ward\")"
      ],
      "execution_count": 0,
      "outputs": []
    },
    {
      "cell_type": "code",
      "metadata": {
        "id": "B8qJMDvxFuS_",
        "colab_type": "code",
        "colab": {
          "base_uri": "https://localhost:8080/",
          "height": 34
        },
        "outputId": "333ceaf9-a860-4b2a-8913-84b7757f12f9"
      },
      "source": [
        "agglo_clus.fit(X)\n",
        "labels = agglo_clus.labels_\n",
        "labels[:10]"
      ],
      "execution_count": 77,
      "outputs": [
        {
          "output_type": "execute_result",
          "data": {
            "text/plain": [
              "array([3, 1, 0, 0, 5, 2, 0, 2, 1, 0])"
            ]
          },
          "metadata": {
            "tags": []
          },
          "execution_count": 77
        }
      ]
    },
    {
      "cell_type": "code",
      "metadata": {
        "id": "YDvzN5zuF283",
        "colab_type": "code",
        "colab": {
          "base_uri": "https://localhost:8080/",
          "height": 50
        },
        "outputId": "a118b06a-6cf4-47ee-ac31-b0a3c504e8e2"
      },
      "source": [
        "agglo_clus.fit_predict(y)"
      ],
      "execution_count": 79,
      "outputs": [
        {
          "output_type": "execute_result",
          "data": {
            "text/plain": [
              "array([0, 2, 1, 5, 0, 0, 0, 5, 4, 3, 5, 5, 2, 1, 3, 1, 1, 5, 1, 0, 4, 5,\n",
              "       0, 5, 5, 2, 1, 2, 3, 3, 1, 2, 4, 3, 5, 0, 1, 5, 1, 1])"
            ]
          },
          "metadata": {
            "tags": []
          },
          "execution_count": 79
        }
      ]
    },
    {
      "cell_type": "code",
      "metadata": {
        "id": "w18nfUD2HUu2",
        "colab_type": "code",
        "colab": {}
      },
      "source": [
        ""
      ],
      "execution_count": 0,
      "outputs": []
    },
    {
      "cell_type": "code",
      "metadata": {
        "id": "eFTUGV5zJQE2",
        "colab_type": "code",
        "colab": {}
      },
      "source": [
        ""
      ],
      "execution_count": 0,
      "outputs": []
    },
    {
      "cell_type": "code",
      "metadata": {
        "id": "L5aQlapEJVwd",
        "colab_type": "code",
        "colab": {}
      },
      "source": [
        ""
      ],
      "execution_count": 0,
      "outputs": []
    },
    {
      "cell_type": "code",
      "metadata": {
        "id": "vFqN93X4JYP1",
        "colab_type": "code",
        "colab": {}
      },
      "source": [
        ""
      ],
      "execution_count": 0,
      "outputs": []
    },
    {
      "cell_type": "code",
      "metadata": {
        "id": "z2aNU-BIJdJw",
        "colab_type": "code",
        "colab": {}
      },
      "source": [
        ""
      ],
      "execution_count": 0,
      "outputs": []
    }
  ]
}