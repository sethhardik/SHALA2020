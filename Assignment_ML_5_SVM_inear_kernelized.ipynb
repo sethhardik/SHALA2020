{
  "nbformat": 4,
  "nbformat_minor": 0,
  "metadata": {
    "colab": {
      "name": "Assignment_ML_5_SVM_inear_kernelized.ipynb",
      "provenance": [],
      "collapsed_sections": [],
      "include_colab_link": true
    },
    "kernelspec": {
      "name": "python3",
      "display_name": "Python 3"
    }
  },
  "cells": [
    {
      "cell_type": "markdown",
      "metadata": {
        "id": "view-in-github",
        "colab_type": "text"
      },
      "source": [
        "<a href=\"https://colab.research.google.com/github/sethhardik/SHALA2020/blob/master/Assignment_ML_5_SVM_inear_kernelized.ipynb\" target=\"_parent\"><img src=\"https://colab.research.google.com/assets/colab-badge.svg\" alt=\"Open In Colab\"/></a>"
      ]
    },
    {
      "cell_type": "markdown",
      "metadata": {
        "id": "arLDVfoh4rOg",
        "colab_type": "text"
      },
      "source": [
        "#**SVM**"
      ]
    },
    {
      "cell_type": "code",
      "metadata": {
        "id": "MEEp0sf04pIP",
        "colab_type": "code",
        "colab": {}
      },
      "source": [
        "import numpy as np\n",
        "import matplotlib.pyplot as plt\n",
        "import random\n",
        "from numpy import linalg as LA"
      ],
      "execution_count": 0,
      "outputs": []
    },
    {
      "cell_type": "markdown",
      "metadata": {
        "id": "vJ2o5DL4478w",
        "colab_type": "text"
      },
      "source": [
        "\n",
        "\n",
        "---\n",
        "\n",
        "\n",
        "**Generating Random linearly separable data**\n",
        "\n",
        "\n",
        "---\n",
        "\n"
      ]
    },
    {
      "cell_type": "code",
      "metadata": {
        "id": "UbaJAhdL5BLA",
        "colab_type": "code",
        "colab": {}
      },
      "source": [
        "# np.random.seed(2)\n",
        "data = [[np.random.rand(), np.random.rand()] for i in range(10)]\n",
        "\n",
        "for i, point in enumerate(data):\n",
        "  x, y = point\n",
        "  if 0.5*x - y + 0.25 > 0:\n",
        "    data[i].append(-1)\n",
        "  else:\n",
        "    data[i].append(1)"
      ],
      "execution_count": 0,
      "outputs": []
    },
    {
      "cell_type": "markdown",
      "metadata": {
        "id": "S3afrVhJ5FSS",
        "colab_type": "text"
      },
      "source": [
        "\n",
        "\n",
        "---\n",
        "\n",
        "\n",
        "**Visualizing the above data**\n",
        "\n",
        "\n",
        "---\n",
        "\n"
      ]
    },
    {
      "cell_type": "code",
      "metadata": {
        "id": "6x0FkJik5LPi",
        "colab_type": "code",
        "outputId": "3504681d-cb7e-4b05-946a-da1a4f48cb54",
        "colab": {
          "base_uri": "https://localhost:8080/",
          "height": 269
        }
      },
      "source": [
        "for x, y, l in data:\n",
        "  if l == 1: \n",
        "    clr = 'red'\n",
        "  else: \n",
        "    clr = 'blue'\n",
        "  plt.scatter(x, y, c=clr)\n",
        "  plt.xlim(0,1)\n",
        "  plt.ylim(0,1)"
      ],
      "execution_count": 3,
      "outputs": [
        {
          "output_type": "display_data",
          "data": {
            "image/png": "[encoded data removed]",
            "text/plain": [
              "<Figure size 432x288 with 1 Axes>"
            ]
          },
          "metadata": {
            "tags": [],
            "needs_background": "light"
          }
        }
      ]
    },
    {
      "cell_type": "markdown",
      "metadata": {
        "id": "yXabL9FB5Qe1",
        "colab_type": "text"
      },
      "source": [
        "\n",
        "\n",
        "---\n",
        "\n",
        "\n",
        "**Train a SVM classifier using gradient descent and return a Weight Matrix which is a numpy array of length (N + 1) where N is dimension of training samples. You can refer to Fig. 1 in [this](https://www.cs.huji.ac.il/~shais/papers/ShalevSiSrCo10.pdf) paper for implementation. You can add arguments to svm_function according to your implementation.**\n",
        "\n",
        "\n",
        "---\n",
        "\n"
      ]
    },
    {
      "cell_type": "code",
      "metadata": {
        "id": "LpSHX3lT5VDt",
        "colab_type": "code",
        "colab": {}
      },
      "source": [
        "def svm_function(x, y, epoch, l_rate):\n",
        "  X = np.zeros((x.shape[0],x.shape[1]+1))\n",
        "  X[:,1:] = x[:,:2]\n",
        "  X[:,0] += 1.0\n",
        "  l = 1 / epoch\n",
        "  w = np.zeros(X.shape[1])\n",
        "  N = len(Y)\n",
        "  for _ in range(epoch):\n",
        "    for i,value in enumerate(X):\n",
        "      hypothesis = np.dot(X[i],w)\n",
        "      if (y[i]*hypothesis < 1):\n",
        "        w = w - l_rate * ((l * w) - (y[i] * X[i]))\n",
        "      else:\n",
        "        w = w - l_rate * l * w\n",
        "  return w"
      ],
      "execution_count": 0,
      "outputs": []
    },
    {
      "cell_type": "markdown",
      "metadata": {
        "id": "-GMSHqOB5Y7n",
        "colab_type": "text"
      },
      "source": [
        "\n",
        "\n",
        "---\n",
        "\n",
        "\n",
        "**Run SVM Classifier**\n",
        "\n",
        "\n",
        "---\n",
        "\n"
      ]
    },
    {
      "cell_type": "code",
      "metadata": {
        "id": "MY2AcFkZ5d2a",
        "colab_type": "code",
        "outputId": "bf9f26d1-e9d8-4d8a-8045-f0aaf25598bb",
        "colab": {
          "base_uri": "https://localhost:8080/",
          "height": 34
        }
      },
      "source": [
        "data = np.asarray(data)\n",
        "X = data[:,:2]\n",
        "Y = data[:,2]\n",
        "w = svm_function(X, Y, 10000, 0.01)\n",
        "print(w)"
      ],
      "execution_count": 5,
      "outputs": [
        {
          "output_type": "stream",
          "text": [
            "[-0.09488565 -4.22535094  5.1485908 ]\n"
          ],
          "name": "stdout"
        }
      ]
    },
    {
      "cell_type": "code",
      "metadata": {
        "id": "azygLbNYaj3Y",
        "colab_type": "code",
        "outputId": "32ec40c6-a581-482e-d8cd-01ee3c77db0f",
        "colab": {
          "base_uri": "https://localhost:8080/",
          "height": 50
        }
      },
      "source": [
        "xtest = np.zeros((X.shape[0],X.shape[1]+1))\n",
        "xtest[:,1:] = X[:,:2]\n",
        "xtest[:,0] += 1.0\n",
        "pred_o,pred = [], []\n",
        "for i,v in enumerate(X):\n",
        "  pred.append(np.dot(xtest[i],w))\n",
        "for i in pred:\n",
        "  if i<=0:\n",
        "    pred_o.append(-1.)\n",
        "  else:\n",
        "    pred_o.append(1.)\n",
        "pred_o = np.array(pred_o)\n",
        "print(pred_o)\n",
        "print(Y)"
      ],
      "execution_count": 6,
      "outputs": [
        {
          "output_type": "stream",
          "text": [
            "[ 1.  1. -1.  1. -1.  1.  1.  1.  1.  1.]\n",
            "[ 1.  1. -1.  1. -1.  1.  1.  1.  1.  1.]\n"
          ],
          "name": "stdout"
        }
      ]
    },
    {
      "cell_type": "markdown",
      "metadata": {
        "id": "4t6lPISE5h4e",
        "colab_type": "text"
      },
      "source": [
        "# **Visualize the classifier**\n",
        "\n",
        "\n",
        "---\n",
        "\n",
        "Write a code to draw a lines corrosponding to 'w' vector you got as output from svm_function and for a line from which actual data was generated (0.5*x - y + 0.25). \n",
        "\n",
        "---\n",
        "\n"
      ]
    },
    {
      "cell_type": "code",
      "metadata": {
        "id": "wrCLTSVx5mBF",
        "colab_type": "code",
        "outputId": "572492e5-b83e-4247-dedd-0135e831a483",
        "colab": {
          "base_uri": "https://localhost:8080/",
          "height": 282
        }
      },
      "source": [
        "plt.scatter(xtest[:,1],xtest[:,2],c=Y)\n",
        "ax = plt.gca()\n",
        "xlim = ax.get_xlim()\n",
        "xx = np.linspace(xlim[0],xlim[1])\n",
        "yy = (-w[1] * xx -w[0]-0) / w[2]\n",
        "plt.plot(xx,yy,label=\"SVM Boundary\")\n",
        "yy = (-w[1] * xx -w[0]-1) / w[2]\n",
        "plt.plot(xx,yy,\"k--\",label=\"Boundary lines touching support vectors\")\n",
        "yy = (-w[1] * xx -w[0]+1) / w[2]\n",
        "plt.plot(xx,yy,\"k--\")\n",
        "yy = 0.5*xx +0.25\n",
        "plt.plot(xx,yy,label=\"Original model\")"
      ],
      "execution_count": 7,
      "outputs": [
        {
          "output_type": "execute_result",
          "data": {
            "text/plain": [
              "[<matplotlib.lines.Line2D at 0x7f8c47dc0630>]"
            ]
          },
          "metadata": {
            "tags": []
          },
          "execution_count": 7
        },
        {
          "output_type": "display_data",
          "data": {
            "image/png": "[encoded data removed]",
            "text/plain": [
              "<Figure size 432x288 with 1 Axes>"
            ]
          },
          "metadata": {
            "tags": [],
            "needs_background": "light"
          }
        }
      ]
    },
    {
      "cell_type": "markdown",
      "metadata": {
        "id": "zSQ2B6IK7pRq",
        "colab_type": "text"
      },
      "source": [
        "#**Linearly Non-separable Data**"
      ]
    },
    {
      "cell_type": "code",
      "metadata": {
        "id": "kZ5Mt_3Z73WS",
        "colab_type": "code",
        "outputId": "2d118563-13cc-4838-c522-22f6ddd2af48",
        "colab": {
          "base_uri": "https://localhost:8080/",
          "height": 296
        }
      },
      "source": [
        "from sklearn.datasets import make_circles\n",
        "from matplotlib import pyplot\n",
        "from pandas import DataFrame\n",
        "from sklearn.metrics import accuracy_score, classification_report\n",
        "\n",
        "# generate 2d classification dataset\n",
        "X, y = make_circles(n_samples=100, noise=0.05)\n",
        "# scatter plot, dots colored by class value\n",
        "df = DataFrame(dict(x=X[:,0], y=X[:,1], label=y))\n",
        "colors = {0:'red', 1:'blue'}\n",
        "fig, ax = pyplot.subplots()\n",
        "grouped = df.groupby('label')\n",
        "for key, group in grouped:\n",
        "    group.plot(ax=ax, kind='scatter', x='x', y='y', label=key, color=colors[key])\n",
        "pyplot.show()\n",
        "Y=[]\n",
        "\n",
        "for i in y:\n",
        "  if i == 0:\n",
        "    Y.append(-1)\n",
        "  else:\n",
        "    Y.append(1)\n",
        "y = np.array(Y)\n",
        "print(y.shape)"
      ],
      "execution_count": 8,
      "outputs": [
        {
          "output_type": "display_data",
          "data": {
            "image/png": "[encoded data removed]",
            "text/plain": [
              "<Figure size 432x288 with 1 Axes>"
            ]
          },
          "metadata": {
            "tags": [],
            "needs_background": "light"
          }
        },
        {
          "output_type": "stream",
          "text": [
            "(100,)\n"
          ],
          "name": "stdout"
        }
      ]
    },
    {
      "cell_type": "markdown",
      "metadata": {
        "id": "SDtuOIuy6xPL",
        "colab_type": "text"
      },
      "source": [
        "\n",
        "\n",
        "---\n",
        "\n",
        "\n",
        "**Train a SVM classifier on the linearly non-separable data by appropriate features crafted from input data For linearly non-separable data, you need to transform the data in a space where it can be linearly seprable.\n",
        "These features can be exponential, polynomial, trignometric or any other function of actual input features.\n",
        "For example, if your input data is (x1, x2) you can have hand-crafted features as (sin(x1), cos(x1), cos(x2), x1-x2).\n",
        "Here you need to think of which hand-crafted features can be best suited for data given to you.\n",
        "Write a function to convert input features to hand-crafted features. Use these features to train a SVM using svm_function.\n",
        "Note that, if you choose to have L hand-crafted features, SVM will return L+1 dimensional 'w'.**\n",
        "\n",
        "\n",
        "---\n",
        "\n"
      ]
    },
    {
      "cell_type": "code",
      "metadata": {
        "id": "rZF4nHvz6-2I",
        "colab_type": "code",
        "colab": {}
      },
      "source": [
        "def svm_function_multi(x, y, epoch, l_rate):\n",
        "  X = np.zeros((x.shape[0],x.shape[1]+1))\n",
        "  X[:,1:] = x[:,:3]\n",
        "  X[:,0] += 1.0\n",
        "  l = 1 / epoch\n",
        "  w = np.zeros(X.shape[1])\n",
        "  N = len(Y)\n",
        "  for _ in range(epoch):\n",
        "    for i,value in enumerate(X):\n",
        "      hypothesis = np.dot(X[i],w)\n",
        "      if (y[i]*hypothesis < 1):\n",
        "        w = w - l_rate * ((l * w) - (y[i] * X[i]))\n",
        "      else:\n",
        "        w = w - l_rate * l * w\n",
        "  return w\n",
        "\n",
        "def change_dim(x,y):\n",
        "  X = np.zeros((x.shape[0],x.shape[1]+1))\n",
        "  X[:,:1] = (x[:,:1])**2\n",
        "  X[:,1:2] = (x[:,1:2])**2\n",
        "  X[:,2:3] = (x[:,:1]) * (x[:,1:2])\n",
        "  \n",
        "  return X"
      ],
      "execution_count": 0,
      "outputs": []
    },
    {
      "cell_type": "code",
      "metadata": {
        "id": "U91_oAJe22g2",
        "colab_type": "code",
        "colab": {
          "base_uri": "https://localhost:8080/",
          "height": 34
        },
        "outputId": "2494cfda-a985-43b8-d9a6-554a9a8769ee"
      },
      "source": [
        "X_change = change_dim(X,y)\n",
        "w=svm_function_multi(X_change,y,epoch=100,l_rate=0.01)\n",
        "w = np.array(w)\n",
        "print(w)"
      ],
      "execution_count": 10,
      "outputs": [
        {
          "output_type": "stream",
          "text": [
            "[ 2.82907252 -3.41607683 -3.47622639 -0.07480617]\n"
          ],
          "name": "stdout"
        }
      ]
    },
    {
      "cell_type": "code",
      "metadata": {
        "id": "c_sIYfD9LOkq",
        "colab_type": "code",
        "colab": {
          "base_uri": "https://localhost:8080/",
          "height": 202
        },
        "outputId": "5eeb3114-d0dd-4f93-ce88-e36b5faa7b77"
      },
      "source": [
        "Xtest = np.zeros((X_change.shape[0],X_change.shape[1]+1))\n",
        "Xtest[:,1:] = X_change[:,:3]\n",
        "Xtest[:,0] += 1.0\n",
        "predn,y_pred_2=[],[]\n",
        "for i,value in enumerate(Xtest):\n",
        "  predn.append(np.dot(Xtest[i],w))\n",
        "predn = np.array(predn)\n",
        "\n",
        "for i in predn:\n",
        "  if i<0:\n",
        "    y_pred_2.append(-1)\n",
        "  else:\n",
        "    y_pred_2.append(1)\n",
        "\n",
        "y_pred_2 = np.array(y_pred_2)\n",
        "print(\"Original Class :\",y)\n",
        "print(\"Predicted Class:\",y_pred_2)\n",
        "print(\"Accuracy Score:\",accuracy_score(y,y_pred_2)*100,\"%\")"
      ],
      "execution_count": 11,
      "outputs": [
        {
          "output_type": "stream",
          "text": [
            "Original Class : [ 1  1  1 -1 -1  1  1 -1  1  1 -1  1  1 -1 -1 -1 -1  1  1 -1 -1 -1  1 -1\n",
            " -1  1 -1  1 -1  1 -1  1  1 -1 -1  1 -1  1  1  1  1 -1 -1  1 -1 -1 -1  1\n",
            " -1 -1  1 -1 -1  1 -1 -1  1  1  1  1  1  1 -1  1 -1 -1 -1 -1  1  1  1  1\n",
            "  1 -1 -1  1 -1 -1 -1 -1 -1  1  1  1  1  1 -1 -1 -1  1 -1  1 -1 -1  1  1\n",
            " -1  1  1 -1]\n",
            "Predicted Class: [ 1  1  1 -1 -1  1  1 -1  1  1  1  1  1 -1 -1 -1 -1  1  1 -1 -1 -1  1 -1\n",
            " -1  1 -1  1 -1  1 -1 -1  1 -1 -1  1 -1 -1  1  1  1 -1 -1  1 -1 -1 -1  1\n",
            " -1 -1  1 -1 -1  1 -1 -1  1  1  1  1  1  1 -1  1 -1 -1 -1 -1  1  1  1  1\n",
            "  1 -1 -1  1 -1 -1 -1 -1 -1  1  1  1  1  1 -1 -1 -1  1 -1  1 -1 -1  1  1\n",
            " -1  1  1 -1]\n",
            "Accuracy Score: 97.0 %\n"
          ],
          "name": "stdout"
        }
      ]
    },
    {
      "cell_type": "markdown",
      "metadata": {
        "id": "k9RC8lVS81F8",
        "colab_type": "text"
      },
      "source": [
        "\n",
        "\n",
        "---\n",
        "\n",
        "\n",
        "**Visualize the data points in the new feature space \"if possible\" to see whether they got separated or not.**\n",
        "\n",
        "\n",
        "---\n",
        "\n"
      ]
    },
    {
      "cell_type": "code",
      "metadata": {
        "id": "T_M3rNKF7g-W",
        "colab_type": "code",
        "colab": {}
      },
      "source": [
        ""
      ],
      "execution_count": 0,
      "outputs": []
    }
  ]
}