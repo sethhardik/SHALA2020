{
  "nbformat": 4,
  "nbformat_minor": 0,
  "metadata": {
    "colab": {
      "name": "Assignment_ML_L2.ipynb",
      "provenance": [],
      "collapsed_sections": [],
      "include_colab_link": true
    },
    "kernelspec": {
      "name": "python3",
      "display_name": "Python 3"
    },
    "accelerator": "GPU"
  },
  "cells": [
    {
      "cell_type": "markdown",
      "metadata": {
        "id": "view-in-github",
        "colab_type": "text"
      },
      "source": [
        "<a href=\"https://colab.research.google.com/github/sethhardik/SHALA2020/blob/master/Assignment_ML_L2.ipynb\" target=\"_parent\"><img src=\"https://colab.research.google.com/assets/colab-badge.svg\" alt=\"Open In Colab\"/></a>"
      ]
    },
    {
      "cell_type": "markdown",
      "metadata": {
        "id": "RNGCt-t9hq7H",
        "colab_type": "text"
      },
      "source": [
        "# Assignment 2: **Machine learning with tree based models** "
      ]
    },
    {
      "cell_type": "markdown",
      "metadata": {
        "id": "AlmhCLRrfoG4",
        "colab_type": "text"
      },
      "source": [
        "In this assignment, you will work on the **Titanic** dataset and use machine learning to create a model that predicts which passengers survived the **Titanic** shipwreck. "
      ]
    },
    {
      "cell_type": "markdown",
      "metadata": {
        "id": "ysVvT5atiUCf",
        "colab_type": "text"
      },
      "source": [
        "---\n",
        "## About the dataset:\n",
        "---\n",
        "* The column named  `Survived` is the label and the remaining columns are features. \n",
        "* The features can be described as given below:\n",
        "  <table>\n",
        "  <thead>\n",
        "    <tr>\n",
        "      <th>Variable</th>\n",
        "      <th>Definition </th>\n",
        "    </tr>\n",
        "  </thead>\n",
        "  <tbody>\n",
        "    <tr>\n",
        "      <td>pclass</td>\n",
        "      <td>Ticket class\t</td>\n",
        "    </tr>\n",
        "    <tr>\n",
        "      <td>SibSp</td>\n",
        "      <td>Number of siblings / spouses aboard the Titanic</td>\n",
        "    </tr>\n",
        "    <tr>\n",
        "      <td>Parch</td>\n",
        "      <td>Number of parents / children aboard the Titanic</td>\n",
        "    </tr>\n",
        "    <tr>\n",
        "      <td>Ticket</td>\n",
        "      <td>Ticket number</td>\n",
        "    </tr>\n",
        "    <tr>\n",
        "      <td>Embarked</td>\n",
        "      <td>Port of Embarkation: C = Cherbourg, Q = Queenstown, S = Southampton</td>\n",
        "    </tr>\n",
        "  </tbody>\n",
        "</table> \t"
      ]
    },
    {
      "cell_type": "markdown",
      "metadata": {
        "id": "2XYBBIcKkXtu",
        "colab_type": "text"
      },
      "source": [
        "---\n",
        "## Instructions\n",
        "---\n",
        "* Apply suitable data pre-processing techniques, if needed. \n",
        "* Implement a few classifiers to create your model and compare the performance metrics by plotting the curves like roc_auc, confusion matrix, etc. "
      ]
    },
    {
      "cell_type": "markdown",
      "metadata": {
        "id": "kLqhS4qKx6IW",
        "colab_type": "text"
      },
      "source": [
        "### NOTE TO SELF :\n",
        "In Grid Search, we try every combination of a preset list of values of the hyper-parameters and choose the best combination based on the cross validation score.\n",
        "\n",
        "Random search tries random combinations of a range of values (we have to define the number iterations). It is good in testing a wide range of values and normally it reaches a very good combination very fast, but the problem that it doesn’t guarantee to give the best parameters combination.\n",
        "\n",
        "On the other hand, Grid search will give the best combination but it can take a lot of time."
      ]
    },
    {
      "cell_type": "code",
      "metadata": {
        "id": "KE79bLl6iCx2",
        "colab_type": "code",
        "outputId": "863353e4-f039-4853-928b-f37bab7081c0",
        "colab": {
          "base_uri": "https://localhost:8080/",
          "height": 70
        }
      },
      "source": [
        "import pandas as pd \n",
        "import numpy as np\n",
        "import seaborn as sns\n",
        "import matplotlib.pyplot as plt\n",
        "from sklearn.ensemble import RandomForestClassifier,AdaBoostClassifier,GradientBoostingClassifier,BaggingClassifier\n",
        "from sklearn.tree import DecisionTreeClassifier\n",
        "from xgboost import XGBClassifier\n",
        "from sklearn.model_selection import train_test_split,GridSearchCV,cross_val_score\n",
        "from sklearn.metrics import accuracy_score,classification_report,roc_curve,confusion_matrix,roc_auc_score"
      ],
      "execution_count": 1,
      "outputs": [
        {
          "output_type": "stream",
          "text": [
            "/usr/local/lib/python3.6/dist-packages/statsmodels/tools/_testing.py:19: FutureWarning: pandas.util.testing is deprecated. Use the functions in the public API at pandas.testing instead.\n",
            "  import pandas.util.testing as tm\n"
          ],
          "name": "stderr"
        }
      ]
    },
    {
      "cell_type": "code",
      "metadata": {
        "id": "eoqpA6qmZ_JT",
        "colab_type": "code",
        "outputId": "3be0ea4c-7938-40cf-8ef3-12198ad39ce1",
        "colab": {
          "base_uri": "https://localhost:8080/",
          "height": 195
        }
      },
      "source": [
        "titanic_data = pd.read_csv('https://raw.githubusercontent.com/shala2020/shala2020.github.io/master/Lecture_Materials/Assignments/MachineLearning/L2/titanic.csv')\n",
        "titanic_data.head()"
      ],
      "execution_count": 2,
      "outputs": [
        {
          "output_type": "execute_result",
          "data": {
            "text/html": [
              "<div>\n",
              "<style scoped>\n",
              "    .dataframe tbody tr th:only-of-type {\n",
              "        vertical-align: middle;\n",
              "    }\n",
              "\n",
              "    .dataframe tbody tr th {\n",
              "        vertical-align: top;\n",
              "    }\n",
              "\n",
              "    .dataframe thead th {\n",
              "        text-align: right;\n",
              "    }\n",
              "</style>\n",
              "<table border=\"1\" class=\"dataframe\">\n",
              "  <thead>\n",
              "    <tr style=\"text-align: right;\">\n",
              "      <th></th>\n",
              "      <th>PassengerId</th>\n",
              "      <th>Survived</th>\n",
              "      <th>Pclass</th>\n",
              "      <th>Name</th>\n",
              "      <th>Sex</th>\n",
              "      <th>Age</th>\n",
              "      <th>SibSp</th>\n",
              "      <th>Parch</th>\n",
              "      <th>Ticket</th>\n",
              "      <th>Fare</th>\n",
              "      <th>Cabin</th>\n",
              "      <th>Embarked</th>\n",
              "    </tr>\n",
              "  </thead>\n",
              "  <tbody>\n",
              "    <tr>\n",
              "      <th>0</th>\n",
              "      <td>1</td>\n",
              "      <td>0</td>\n",
              "      <td>3</td>\n",
              "      <td>Braund, Mr. Owen Harris</td>\n",
              "      <td>male</td>\n",
              "      <td>22.0</td>\n",
              "      <td>1</td>\n",
              "      <td>0</td>\n",
              "      <td>A/5 21171</td>\n",
              "      <td>7.2500</td>\n",
              "      <td>NaN</td>\n",
              "      <td>S</td>\n",
              "    </tr>\n",
              "    <tr>\n",
              "      <th>1</th>\n",
              "      <td>2</td>\n",
              "      <td>1</td>\n",
              "      <td>1</td>\n",
              "      <td>Cumings, Mrs. John Bradley (Florence Briggs Th...</td>\n",
              "      <td>female</td>\n",
              "      <td>38.0</td>\n",
              "      <td>1</td>\n",
              "      <td>0</td>\n",
              "      <td>PC 17599</td>\n",
              "      <td>71.2833</td>\n",
              "      <td>C85</td>\n",
              "      <td>C</td>\n",
              "    </tr>\n",
              "    <tr>\n",
              "      <th>2</th>\n",
              "      <td>3</td>\n",
              "      <td>1</td>\n",
              "      <td>3</td>\n",
              "      <td>Heikkinen, Miss. Laina</td>\n",
              "      <td>female</td>\n",
              "      <td>26.0</td>\n",
              "      <td>0</td>\n",
              "      <td>0</td>\n",
              "      <td>STON/O2. 3101282</td>\n",
              "      <td>7.9250</td>\n",
              "      <td>NaN</td>\n",
              "      <td>S</td>\n",
              "    </tr>\n",
              "    <tr>\n",
              "      <th>3</th>\n",
              "      <td>4</td>\n",
              "      <td>1</td>\n",
              "      <td>1</td>\n",
              "      <td>Futrelle, Mrs. Jacques Heath (Lily May Peel)</td>\n",
              "      <td>female</td>\n",
              "      <td>35.0</td>\n",
              "      <td>1</td>\n",
              "      <td>0</td>\n",
              "      <td>113803</td>\n",
              "      <td>53.1000</td>\n",
              "      <td>C123</td>\n",
              "      <td>S</td>\n",
              "    </tr>\n",
              "    <tr>\n",
              "      <th>4</th>\n",
              "      <td>5</td>\n",
              "      <td>0</td>\n",
              "      <td>3</td>\n",
              "      <td>Allen, Mr. William Henry</td>\n",
              "      <td>male</td>\n",
              "      <td>35.0</td>\n",
              "      <td>0</td>\n",
              "      <td>0</td>\n",
              "      <td>373450</td>\n",
              "      <td>8.0500</td>\n",
              "      <td>NaN</td>\n",
              "      <td>S</td>\n",
              "    </tr>\n",
              "  </tbody>\n",
              "</table>\n",
              "</div>"
            ],
            "text/plain": [
              "   PassengerId  Survived  Pclass  ...     Fare Cabin  Embarked\n",
              "0            1         0       3  ...   7.2500   NaN         S\n",
              "1            2         1       1  ...  71.2833   C85         C\n",
              "2            3         1       3  ...   7.9250   NaN         S\n",
              "3            4         1       1  ...  53.1000  C123         S\n",
              "4            5         0       3  ...   8.0500   NaN         S\n",
              "\n",
              "[5 rows x 12 columns]"
            ]
          },
          "metadata": {
            "tags": []
          },
          "execution_count": 2
        }
      ]
    },
    {
      "cell_type": "code",
      "metadata": {
        "id": "WzDpMsWdiJUs",
        "colab_type": "code",
        "outputId": "3547e87f-a44e-49a0-833b-92e6bddf0c33",
        "colab": {
          "base_uri": "https://localhost:8080/",
          "height": 34
        }
      },
      "source": [
        "titanic_data.shape"
      ],
      "execution_count": 3,
      "outputs": [
        {
          "output_type": "execute_result",
          "data": {
            "text/plain": [
              "(891, 12)"
            ]
          },
          "metadata": {
            "tags": []
          },
          "execution_count": 3
        }
      ]
    },
    {
      "cell_type": "markdown",
      "metadata": {
        "id": "eS9pXaLycTQf",
        "colab_type": "text"
      },
      "source": [
        "## `nan management` "
      ]
    },
    {
      "cell_type": "code",
      "metadata": {
        "id": "pRFbX2tyeZqP",
        "colab_type": "code",
        "outputId": "b5b278e2-7e4a-461d-908c-ed7ba4c9e574",
        "colab": {
          "base_uri": "https://localhost:8080/",
          "height": 235
        }
      },
      "source": [
        "print(titanic_data.isna().sum())"
      ],
      "execution_count": 4,
      "outputs": [
        {
          "output_type": "stream",
          "text": [
            "PassengerId      0\n",
            "Survived         0\n",
            "Pclass           0\n",
            "Name             0\n",
            "Sex              0\n",
            "Age            177\n",
            "SibSp            0\n",
            "Parch            0\n",
            "Ticket           0\n",
            "Fare             0\n",
            "Cabin          687\n",
            "Embarked         2\n",
            "dtype: int64\n"
          ],
          "name": "stdout"
        }
      ]
    },
    {
      "cell_type": "code",
      "metadata": {
        "id": "PsDAl89fk56N",
        "colab_type": "code",
        "outputId": "89db2c4f-d0d3-4d42-f444-b1e21fbd9939",
        "colab": {
          "base_uri": "https://localhost:8080/",
          "height": 363
        }
      },
      "source": [
        "titanic_data=titanic_data.drop([\"Cabin\",\"Ticket\",\"Name\",\"PassengerId\"],axis=1)\n",
        "titanic_data[\"Age\"]=titanic_data[\"Age\"].fillna(titanic_data[\"Age\"].mean())\n",
        "titanic_data=titanic_data.dropna()  # dropping the last 2 nan in the data\n",
        "print(titanic_data.isna().sum())\n",
        "print(titanic_data.shape)\n",
        "titanic_data.head()"
      ],
      "execution_count": 5,
      "outputs": [
        {
          "output_type": "stream",
          "text": [
            "Survived    0\n",
            "Pclass      0\n",
            "Sex         0\n",
            "Age         0\n",
            "SibSp       0\n",
            "Parch       0\n",
            "Fare        0\n",
            "Embarked    0\n",
            "dtype: int64\n",
            "(889, 8)\n"
          ],
          "name": "stdout"
        },
        {
          "output_type": "execute_result",
          "data": {
            "text/html": [
              "<div>\n",
              "<style scoped>\n",
              "    .dataframe tbody tr th:only-of-type {\n",
              "        vertical-align: middle;\n",
              "    }\n",
              "\n",
              "    .dataframe tbody tr th {\n",
              "        vertical-align: top;\n",
              "    }\n",
              "\n",
              "    .dataframe thead th {\n",
              "        text-align: right;\n",
              "    }\n",
              "</style>\n",
              "<table border=\"1\" class=\"dataframe\">\n",
              "  <thead>\n",
              "    <tr style=\"text-align: right;\">\n",
              "      <th></th>\n",
              "      <th>Survived</th>\n",
              "      <th>Pclass</th>\n",
              "      <th>Sex</th>\n",
              "      <th>Age</th>\n",
              "      <th>SibSp</th>\n",
              "      <th>Parch</th>\n",
              "      <th>Fare</th>\n",
              "      <th>Embarked</th>\n",
              "    </tr>\n",
              "  </thead>\n",
              "  <tbody>\n",
              "    <tr>\n",
              "      <th>0</th>\n",
              "      <td>0</td>\n",
              "      <td>3</td>\n",
              "      <td>male</td>\n",
              "      <td>22.0</td>\n",
              "      <td>1</td>\n",
              "      <td>0</td>\n",
              "      <td>7.2500</td>\n",
              "      <td>S</td>\n",
              "    </tr>\n",
              "    <tr>\n",
              "      <th>1</th>\n",
              "      <td>1</td>\n",
              "      <td>1</td>\n",
              "      <td>female</td>\n",
              "      <td>38.0</td>\n",
              "      <td>1</td>\n",
              "      <td>0</td>\n",
              "      <td>71.2833</td>\n",
              "      <td>C</td>\n",
              "    </tr>\n",
              "    <tr>\n",
              "      <th>2</th>\n",
              "      <td>1</td>\n",
              "      <td>3</td>\n",
              "      <td>female</td>\n",
              "      <td>26.0</td>\n",
              "      <td>0</td>\n",
              "      <td>0</td>\n",
              "      <td>7.9250</td>\n",
              "      <td>S</td>\n",
              "    </tr>\n",
              "    <tr>\n",
              "      <th>3</th>\n",
              "      <td>1</td>\n",
              "      <td>1</td>\n",
              "      <td>female</td>\n",
              "      <td>35.0</td>\n",
              "      <td>1</td>\n",
              "      <td>0</td>\n",
              "      <td>53.1000</td>\n",
              "      <td>S</td>\n",
              "    </tr>\n",
              "    <tr>\n",
              "      <th>4</th>\n",
              "      <td>0</td>\n",
              "      <td>3</td>\n",
              "      <td>male</td>\n",
              "      <td>35.0</td>\n",
              "      <td>0</td>\n",
              "      <td>0</td>\n",
              "      <td>8.0500</td>\n",
              "      <td>S</td>\n",
              "    </tr>\n",
              "  </tbody>\n",
              "</table>\n",
              "</div>"
            ],
            "text/plain": [
              "   Survived  Pclass     Sex   Age  SibSp  Parch     Fare Embarked\n",
              "0         0       3    male  22.0      1      0   7.2500        S\n",
              "1         1       1  female  38.0      1      0  71.2833        C\n",
              "2         1       3  female  26.0      0      0   7.9250        S\n",
              "3         1       1  female  35.0      1      0  53.1000        S\n",
              "4         0       3    male  35.0      0      0   8.0500        S"
            ]
          },
          "metadata": {
            "tags": []
          },
          "execution_count": 5
        }
      ]
    },
    {
      "cell_type": "markdown",
      "metadata": {
        "id": "um5m5B6zYf8J",
        "colab_type": "text"
      },
      "source": [
        "## feature selection using heatmap\n"
      ]
    },
    {
      "cell_type": "code",
      "metadata": {
        "id": "0Vk9kqakO5jD",
        "colab_type": "code",
        "outputId": "c302564a-55ea-4635-fb26-58e76d427ce8",
        "colab": {
          "base_uri": "https://localhost:8080/",
          "height": 298
        }
      },
      "source": [
        "data_corr=titanic_data.corr()\n",
        "sns.heatmap(data_corr.iloc[0:].head(1),annot=True)\n",
        "plt.title(\"Heatmap for Survived\")\n",
        "plt.plot()"
      ],
      "execution_count": 6,
      "outputs": [
        {
          "output_type": "execute_result",
          "data": {
            "text/plain": [
              "[]"
            ]
          },
          "metadata": {
            "tags": []
          },
          "execution_count": 6
        },
        {
          "output_type": "display_data",
          "data": {
            "image/png": "[encoded data removed]",
            "text/plain": [
              "<Figure size 432x288 with 2 Axes>"
            ]
          },
          "metadata": {
            "tags": [],
            "needs_background": "light"
          }
        }
      ]
    },
    {
      "cell_type": "markdown",
      "metadata": {
        "id": "SxkxAdH3YlND",
        "colab_type": "text"
      },
      "source": [
        "## feature selection for categorical data\n"
      ]
    },
    {
      "cell_type": "code",
      "metadata": {
        "id": "QypVdOPFVr2A",
        "colab_type": "code",
        "outputId": "9107928d-4631-4fdd-d088-28750c72ab9f",
        "colab": {
          "base_uri": "https://localhost:8080/",
          "height": 797
        }
      },
      "source": [
        "sns.countplot(titanic_data.Survived)\n",
        "plt.show()\n",
        "cross=pd.crosstab(titanic_data[\"Survived\"],titanic_data[\"Embarked\"])        \n",
        "cross.plot.bar()\n",
        "plt.show()\n",
        "cross1=pd.crosstab(titanic_data[\"Survived\"],titanic_data[\"Sex\"])        \n",
        "cross1.plot.bar(stacked=True)\n",
        "plt.show()"
      ],
      "execution_count": 7,
      "outputs": [
        {
          "output_type": "display_data",
          "data": {
            "image/png": "[encoded data removed]",
            "text/plain": [
              "<Figure size 432x288 with 1 Axes>"
            ]
          },
          "metadata": {
            "tags": [],
            "needs_background": "light"
          }
        },
        {
          "output_type": "display_data",
          "data": {
            "image/png": "[encoded data removed]",
            "text/plain": [
              "<Figure size 432x288 with 1 Axes>"
            ]
          },
          "metadata": {
            "tags": [],
            "needs_background": "light"
          }
        },
        {
          "output_type": "display_data",
          "data": {
            "image/png": "[encoded data removed]",
            "text/plain": [
              "<Figure size 432x288 with 1 Axes>"
            ]
          },
          "metadata": {
            "tags": [],
            "needs_background": "light"
          }
        }
      ]
    },
    {
      "cell_type": "markdown",
      "metadata": {
        "id": "TSBH5f6vYZ0P",
        "colab_type": "text"
      },
      "source": [
        ""
      ]
    },
    {
      "cell_type": "markdown",
      "metadata": {
        "id": "SoDix1LRYSeE",
        "colab_type": "text"
      },
      "source": [
        "#` handling categorical dataset `"
      ]
    },
    {
      "cell_type": "code",
      "metadata": {
        "id": "pM_w_XrZRSKt",
        "colab_type": "code",
        "outputId": "cdce1bec-7b79-4593-d764-438b4e3b24a7",
        "colab": {
          "base_uri": "https://localhost:8080/",
          "height": 195
        }
      },
      "source": [
        "sex = pd.get_dummies(titanic_data.Sex,drop_first=True,prefix=\"Sex\")\n",
        "embarked = pd.get_dummies(titanic_data.Embarked,drop_first=True,prefix=\"Embarked\")\n",
        "titanic_data=pd.concat([titanic_data,sex,embarked],axis=1)\n",
        "titanic_data=titanic_data.drop([\"Sex\",\"Embarked\"],axis=1)\n",
        "titanic_data.head()"
      ],
      "execution_count": 8,
      "outputs": [
        {
          "output_type": "execute_result",
          "data": {
            "text/html": [
              "<div>\n",
              "<style scoped>\n",
              "    .dataframe tbody tr th:only-of-type {\n",
              "        vertical-align: middle;\n",
              "    }\n",
              "\n",
              "    .dataframe tbody tr th {\n",
              "        vertical-align: top;\n",
              "    }\n",
              "\n",
              "    .dataframe thead th {\n",
              "        text-align: right;\n",
              "    }\n",
              "</style>\n",
              "<table border=\"1\" class=\"dataframe\">\n",
              "  <thead>\n",
              "    <tr style=\"text-align: right;\">\n",
              "      <th></th>\n",
              "      <th>Survived</th>\n",
              "      <th>Pclass</th>\n",
              "      <th>Age</th>\n",
              "      <th>SibSp</th>\n",
              "      <th>Parch</th>\n",
              "      <th>Fare</th>\n",
              "      <th>Sex_male</th>\n",
              "      <th>Embarked_Q</th>\n",
              "      <th>Embarked_S</th>\n",
              "    </tr>\n",
              "  </thead>\n",
              "  <tbody>\n",
              "    <tr>\n",
              "      <th>0</th>\n",
              "      <td>0</td>\n",
              "      <td>3</td>\n",
              "      <td>22.0</td>\n",
              "      <td>1</td>\n",
              "      <td>0</td>\n",
              "      <td>7.2500</td>\n",
              "      <td>1</td>\n",
              "      <td>0</td>\n",
              "      <td>1</td>\n",
              "    </tr>\n",
              "    <tr>\n",
              "      <th>1</th>\n",
              "      <td>1</td>\n",
              "      <td>1</td>\n",
              "      <td>38.0</td>\n",
              "      <td>1</td>\n",
              "      <td>0</td>\n",
              "      <td>71.2833</td>\n",
              "      <td>0</td>\n",
              "      <td>0</td>\n",
              "      <td>0</td>\n",
              "    </tr>\n",
              "    <tr>\n",
              "      <th>2</th>\n",
              "      <td>1</td>\n",
              "      <td>3</td>\n",
              "      <td>26.0</td>\n",
              "      <td>0</td>\n",
              "      <td>0</td>\n",
              "      <td>7.9250</td>\n",
              "      <td>0</td>\n",
              "      <td>0</td>\n",
              "      <td>1</td>\n",
              "    </tr>\n",
              "    <tr>\n",
              "      <th>3</th>\n",
              "      <td>1</td>\n",
              "      <td>1</td>\n",
              "      <td>35.0</td>\n",
              "      <td>1</td>\n",
              "      <td>0</td>\n",
              "      <td>53.1000</td>\n",
              "      <td>0</td>\n",
              "      <td>0</td>\n",
              "      <td>1</td>\n",
              "    </tr>\n",
              "    <tr>\n",
              "      <th>4</th>\n",
              "      <td>0</td>\n",
              "      <td>3</td>\n",
              "      <td>35.0</td>\n",
              "      <td>0</td>\n",
              "      <td>0</td>\n",
              "      <td>8.0500</td>\n",
              "      <td>1</td>\n",
              "      <td>0</td>\n",
              "      <td>1</td>\n",
              "    </tr>\n",
              "  </tbody>\n",
              "</table>\n",
              "</div>"
            ],
            "text/plain": [
              "   Survived  Pclass   Age  SibSp  ...     Fare  Sex_male  Embarked_Q  Embarked_S\n",
              "0         0       3  22.0      1  ...   7.2500         1           0           1\n",
              "1         1       1  38.0      1  ...  71.2833         0           0           0\n",
              "2         1       3  26.0      0  ...   7.9250         0           0           1\n",
              "3         1       1  35.0      1  ...  53.1000         0           0           1\n",
              "4         0       3  35.0      0  ...   8.0500         1           0           1\n",
              "\n",
              "[5 rows x 9 columns]"
            ]
          },
          "metadata": {
            "tags": []
          },
          "execution_count": 8
        }
      ]
    },
    {
      "cell_type": "code",
      "metadata": {
        "id": "4DtL-xpVf2K-",
        "colab_type": "code",
        "colab": {
          "base_uri": "https://localhost:8080/",
          "height": 67
        },
        "outputId": "dbb7a7fd-6a78-4d24-fb71-feb446af1b72"
      },
      "source": [
        "titanic_data.Survived.value_counts()"
      ],
      "execution_count": 9,
      "outputs": [
        {
          "output_type": "execute_result",
          "data": {
            "text/plain": [
              "0    549\n",
              "1    340\n",
              "Name: Survived, dtype: int64"
            ]
          },
          "metadata": {
            "tags": []
          },
          "execution_count": 9
        }
      ]
    },
    {
      "cell_type": "markdown",
      "metadata": {
        "id": "EzS-Hw-jeu7S",
        "colab_type": "text"
      },
      "source": [
        "Upscalling the dataset we have to balance out the datatset"
      ]
    },
    {
      "cell_type": "code",
      "metadata": {
        "id": "MZ-LixQXfZAD",
        "colab_type": "code",
        "colab": {}
      },
      "source": [
        "from sklearn.utils import resample\n",
        "titanic_data_major = titanic_data[titanic_data.Survived==0]\n",
        "titanic_data_minor = titanic_data[titanic_data.Survived==1]\n",
        "titanic_data_upscale = resample(titanic_data_minor,replace= True,n_samples=549,random_state=100)\n",
        "titanic_data=pd.concat([titanic_data_major,titanic_data_upscale])"
      ],
      "execution_count": 0,
      "outputs": []
    },
    {
      "cell_type": "code",
      "metadata": {
        "id": "v1Aab3bpgPn3",
        "colab_type": "code",
        "colab": {
          "base_uri": "https://localhost:8080/",
          "height": 67
        },
        "outputId": "fd753c0e-4331-41fd-8fd2-339a1523c12d"
      },
      "source": [
        "titanic_data.Survived.value_counts()"
      ],
      "execution_count": 11,
      "outputs": [
        {
          "output_type": "execute_result",
          "data": {
            "text/plain": [
              "1    549\n",
              "0    549\n",
              "Name: Survived, dtype: int64"
            ]
          },
          "metadata": {
            "tags": []
          },
          "execution_count": 11
        }
      ]
    },
    {
      "cell_type": "code",
      "metadata": {
        "id": "O9MOF4_egUij",
        "colab_type": "code",
        "colab": {
          "base_uri": "https://localhost:8080/",
          "height": 195
        },
        "outputId": "5a4964d6-aac7-4979-e2e8-95762dcd70ba"
      },
      "source": [
        "titanic_data.head()"
      ],
      "execution_count": 12,
      "outputs": [
        {
          "output_type": "execute_result",
          "data": {
            "text/html": [
              "<div>\n",
              "<style scoped>\n",
              "    .dataframe tbody tr th:only-of-type {\n",
              "        vertical-align: middle;\n",
              "    }\n",
              "\n",
              "    .dataframe tbody tr th {\n",
              "        vertical-align: top;\n",
              "    }\n",
              "\n",
              "    .dataframe thead th {\n",
              "        text-align: right;\n",
              "    }\n",
              "</style>\n",
              "<table border=\"1\" class=\"dataframe\">\n",
              "  <thead>\n",
              "    <tr style=\"text-align: right;\">\n",
              "      <th></th>\n",
              "      <th>Survived</th>\n",
              "      <th>Pclass</th>\n",
              "      <th>Age</th>\n",
              "      <th>SibSp</th>\n",
              "      <th>Parch</th>\n",
              "      <th>Fare</th>\n",
              "      <th>Sex_male</th>\n",
              "      <th>Embarked_Q</th>\n",
              "      <th>Embarked_S</th>\n",
              "    </tr>\n",
              "  </thead>\n",
              "  <tbody>\n",
              "    <tr>\n",
              "      <th>0</th>\n",
              "      <td>0</td>\n",
              "      <td>3</td>\n",
              "      <td>22.000000</td>\n",
              "      <td>1</td>\n",
              "      <td>0</td>\n",
              "      <td>7.2500</td>\n",
              "      <td>1</td>\n",
              "      <td>0</td>\n",
              "      <td>1</td>\n",
              "    </tr>\n",
              "    <tr>\n",
              "      <th>4</th>\n",
              "      <td>0</td>\n",
              "      <td>3</td>\n",
              "      <td>35.000000</td>\n",
              "      <td>0</td>\n",
              "      <td>0</td>\n",
              "      <td>8.0500</td>\n",
              "      <td>1</td>\n",
              "      <td>0</td>\n",
              "      <td>1</td>\n",
              "    </tr>\n",
              "    <tr>\n",
              "      <th>5</th>\n",
              "      <td>0</td>\n",
              "      <td>3</td>\n",
              "      <td>29.699118</td>\n",
              "      <td>0</td>\n",
              "      <td>0</td>\n",
              "      <td>8.4583</td>\n",
              "      <td>1</td>\n",
              "      <td>1</td>\n",
              "      <td>0</td>\n",
              "    </tr>\n",
              "    <tr>\n",
              "      <th>6</th>\n",
              "      <td>0</td>\n",
              "      <td>1</td>\n",
              "      <td>54.000000</td>\n",
              "      <td>0</td>\n",
              "      <td>0</td>\n",
              "      <td>51.8625</td>\n",
              "      <td>1</td>\n",
              "      <td>0</td>\n",
              "      <td>1</td>\n",
              "    </tr>\n",
              "    <tr>\n",
              "      <th>7</th>\n",
              "      <td>0</td>\n",
              "      <td>3</td>\n",
              "      <td>2.000000</td>\n",
              "      <td>3</td>\n",
              "      <td>1</td>\n",
              "      <td>21.0750</td>\n",
              "      <td>1</td>\n",
              "      <td>0</td>\n",
              "      <td>1</td>\n",
              "    </tr>\n",
              "  </tbody>\n",
              "</table>\n",
              "</div>"
            ],
            "text/plain": [
              "   Survived  Pclass        Age  ...  Sex_male  Embarked_Q  Embarked_S\n",
              "0         0       3  22.000000  ...         1           0           1\n",
              "4         0       3  35.000000  ...         1           0           1\n",
              "5         0       3  29.699118  ...         1           1           0\n",
              "6         0       1  54.000000  ...         1           0           1\n",
              "7         0       3   2.000000  ...         1           0           1\n",
              "\n",
              "[5 rows x 9 columns]"
            ]
          },
          "metadata": {
            "tags": []
          },
          "execution_count": 12
        }
      ]
    },
    {
      "cell_type": "markdown",
      "metadata": {
        "id": "WzXdA8v-gaTm",
        "colab_type": "text"
      },
      "source": [
        "`X` and `Y` splitting of data"
      ]
    },
    {
      "cell_type": "code",
      "metadata": {
        "id": "neXloub2ghIS",
        "colab_type": "code",
        "colab": {
          "base_uri": "https://localhost:8080/",
          "height": 50
        },
        "outputId": "fec5a5d9-41bb-4604-9933-04777656535c"
      },
      "source": [
        "X = titanic_data.drop([\"Survived\"],axis=1)\n",
        "Y = titanic_data.Survived\n",
        "print(X.shape)\n",
        "print(Y.shape)"
      ],
      "execution_count": 13,
      "outputs": [
        {
          "output_type": "stream",
          "text": [
            "(1098, 8)\n",
            "(1098,)\n"
          ],
          "name": "stdout"
        }
      ]
    },
    {
      "cell_type": "markdown",
      "metadata": {
        "id": "2w2poQv0Xv3A",
        "colab_type": "text"
      },
      "source": [
        "As we are asked to use tree based models on our dataset it's not necessary to `normalize` the data. `Hence skipping it`."
      ]
    },
    {
      "cell_type": "markdown",
      "metadata": {
        "id": "0moEAbXkw_1H",
        "colab_type": "text"
      },
      "source": [
        "\n",
        "### `function for multiple repeteted plots and score calculation`"
      ]
    },
    {
      "cell_type": "code",
      "metadata": {
        "id": "ArqKPEs_qk0Q",
        "colab_type": "code",
        "colab": {}
      },
      "source": [
        "def roc_curve_do(c_name,classifier):\n",
        "  probs = classifier.predict_proba(x_test)  \n",
        "  probs = probs[:, 1]  \n",
        "  fper, tper, thresholds = roc_curve(y_test, probs) \n",
        "  plt.plot(fper, tper)\n",
        "  plt.plot([0,1], [0,1], 'k--')\n",
        "  plt.xlabel('False Positive Rate')\n",
        "  plt.ylabel('True Positive Rate')\n",
        "  plt.title('{} ROC curve'.format(c_name))\n",
        "  # show the plot\n",
        "  plt.show()\n",
        "\n",
        "def kfold(classifier,cv):\n",
        "  score=cross_val_score(classifier,X,Y,cv=cv)\n",
        "  print(\"Individual Score:\",score)\n",
        "  print(\"Mean Score:\",score.mean()*100,\"%\")\n",
        "  # plot\n",
        "  plt.plot(np.arange(cv), score, 'o-', linewidth=1)\n",
        "  plt.title(\"Accuracy: %f%% and Deviation (%f%%)\" % (score.mean()*100, score.std()*100))\n",
        "  plt.xlabel('number of Folds')\n",
        "  plt.ylabel('Accuracy score')\n",
        "  plt.show()\n",
        "\n",
        "def all_score(classifier):\n",
        "  predict=classifier.predict(x_test)\n",
        "  print(\"testing accuracy:\",accuracy_score(y_test,predict))\n",
        "  print(\"training accuracy:\",accuracy_score(y_train,classifier.predict(x_train)))\n",
        "  print(confusion_matrix(y_test,predict))\n",
        "  print(\"Classification report:\\n\",classification_report(y_test,predict))\n"
      ],
      "execution_count": 0,
      "outputs": []
    },
    {
      "cell_type": "markdown",
      "metadata": {
        "id": "OPA8gpiyY2lG",
        "colab_type": "text"
      },
      "source": [
        "##`Machine Learning`"
      ]
    },
    {
      "cell_type": "code",
      "metadata": {
        "id": "CCLSzMuLfLwZ",
        "colab_type": "code",
        "outputId": "b3890ccf-209b-46dd-8c8f-bdd4d70c3927",
        "colab": {
          "base_uri": "https://localhost:8080/",
          "height": 84
        }
      },
      "source": [
        "# splitting data\n",
        "x_train,x_test,y_train,y_test = train_test_split(X,Y,test_size=0.2,random_state=125,stratify=Y)\n",
        "print(x_train.shape)\n",
        "print(x_test.shape)\n",
        "print(y_train.shape)\n",
        "print(y_test.shape)"
      ],
      "execution_count": 15,
      "outputs": [
        {
          "output_type": "stream",
          "text": [
            "(878, 8)\n",
            "(220, 8)\n",
            "(878,)\n",
            "(220,)\n"
          ],
          "name": "stdout"
        }
      ]
    },
    {
      "cell_type": "markdown",
      "metadata": {
        "id": "13bfSrQDm_lK",
        "colab_type": "text"
      },
      "source": [
        "## `random forest classifier`"
      ]
    },
    {
      "cell_type": "code",
      "metadata": {
        "id": "eRh0MI_hgIDN",
        "colab_type": "code",
        "outputId": "334c75db-62ad-45e9-edc2-806af23440a9",
        "colab": {
          "base_uri": "https://localhost:8080/",
          "height": 530
        }
      },
      "source": [
        "rfc=RandomForestClassifier(n_estimators=100)\n",
        "rfc.fit(x_train,y_train)\n",
        "all_score(rfc)\n",
        "# roc curve \n",
        "roc_curve_do(\"RandomForestClassidier\",rfc)"
      ],
      "execution_count": 16,
      "outputs": [
        {
          "output_type": "stream",
          "text": [
            "testing accuracy: 0.9\n",
            "training accuracy: 0.9840546697038725\n",
            "[[99 11]\n",
            " [11 99]]\n",
            "Classification report:\n",
            "               precision    recall  f1-score   support\n",
            "\n",
            "           0       0.90      0.90      0.90       110\n",
            "           1       0.90      0.90      0.90       110\n",
            "\n",
            "    accuracy                           0.90       220\n",
            "   macro avg       0.90      0.90      0.90       220\n",
            "weighted avg       0.90      0.90      0.90       220\n",
            "\n"
          ],
          "name": "stdout"
        },
        {
          "output_type": "display_data",
          "data": {
            "image/png": "[encoded data removed]",
            "text/plain": [
              "<Figure size 432x288 with 1 Axes>"
            ]
          },
          "metadata": {
            "tags": [],
            "needs_background": "light"
          }
        }
      ]
    },
    {
      "cell_type": "markdown",
      "metadata": {
        "id": "jymK16eNnH2H",
        "colab_type": "text"
      },
      "source": [
        "###  k fold method \n"
      ]
    },
    {
      "cell_type": "code",
      "metadata": {
        "id": "ATOcJjoLhWZb",
        "colab_type": "code",
        "outputId": "d2c2980a-d1f0-44a0-f57c-c7e1e4af1c97",
        "colab": {
          "base_uri": "https://localhost:8080/",
          "height": 346
        }
      },
      "source": [
        "kfold(rfc,10)"
      ],
      "execution_count": 17,
      "outputs": [
        {
          "output_type": "stream",
          "text": [
            "Individual Score: [0.86363636 0.84545455 0.88181818 0.87272727 0.93636364 0.89090909\n",
            " 0.89090909 0.87272727 0.88990826 0.89908257]\n",
            "Mean Score: 88.43536280233528 %\n"
          ],
          "name": "stdout"
        },
        {
          "output_type": "display_data",
          "data": {
            "image/png": "[encoded data removed]",
            "text/plain": [
              "<Figure size 432x288 with 1 Axes>"
            ]
          },
          "metadata": {
            "tags": [],
            "needs_background": "light"
          }
        }
      ]
    },
    {
      "cell_type": "markdown",
      "metadata": {
        "id": "isJmhFG4yJua",
        "colab_type": "text"
      },
      "source": [
        "### `grid search for hyperparameters`\n"
      ]
    },
    {
      "cell_type": "code",
      "metadata": {
        "id": "u6dlgS2NyJP4",
        "colab_type": "code",
        "colab": {
          "base_uri": "https://localhost:8080/",
          "height": 101
        },
        "outputId": "e9d37ed7-14f5-4b69-e630-89bbe84d6968"
      },
      "source": [
        "parameters={\n",
        "    'n_estimators': [100,200,300],\n",
        "    'max_depth': [None,4,5,6,7],\n",
        "    'criterion': ['gini','entropy']\n",
        "}\n",
        "rfc_new=RandomForestClassifier()\n",
        "grid_search=GridSearchCV(\n",
        "    estimator=rfc_new,\n",
        "    param_grid=parameters,\n",
        "    n_jobs=-1,\n",
        "    cv=3,\n",
        "    verbose=True\n",
        ")\n",
        "grid_search.fit(x_train,y_train)\n",
        "\n",
        "best_params = grid_search.best_params_\n",
        "best_params"
      ],
      "execution_count": 18,
      "outputs": [
        {
          "output_type": "stream",
          "text": [
            "Fitting 3 folds for each of 30 candidates, totalling 90 fits\n"
          ],
          "name": "stdout"
        },
        {
          "output_type": "stream",
          "text": [
            "[Parallel(n_jobs=-1)]: Using backend LokyBackend with 2 concurrent workers.\n",
            "[Parallel(n_jobs=-1)]: Done  46 tasks      | elapsed:   11.5s\n",
            "[Parallel(n_jobs=-1)]: Done  90 out of  90 | elapsed:   21.8s finished\n"
          ],
          "name": "stderr"
        },
        {
          "output_type": "execute_result",
          "data": {
            "text/plain": [
              "{'criterion': 'gini', 'max_depth': None, 'n_estimators': 300}"
            ]
          },
          "metadata": {
            "tags": []
          },
          "execution_count": 18
        }
      ]
    },
    {
      "cell_type": "markdown",
      "metadata": {
        "id": "h2zSeaFU0eTD",
        "colab_type": "text"
      },
      "source": [
        "#### after gridsearch "
      ]
    },
    {
      "cell_type": "code",
      "metadata": {
        "id": "1KMfbfYk0TQ4",
        "colab_type": "code",
        "outputId": "c092e7f2-4abc-461d-e32f-db2a60f38154",
        "colab": {
          "base_uri": "https://localhost:8080/",
          "height": 530
        }
      },
      "source": [
        "rfc_hyper=RandomForestClassifier( n_estimators= 300)\n",
        "rfc_hyper.fit(x_train,y_train)\n",
        "all_score(rfc_hyper)\n",
        "\n",
        "# roc curve \n",
        "roc_curve_do(\"RandomForestClassidier after hyperparmas\",rfc_hyper)"
      ],
      "execution_count": 19,
      "outputs": [
        {
          "output_type": "stream",
          "text": [
            "testing accuracy: 0.9\n",
            "training accuracy: 0.9840546697038725\n",
            "[[ 98  12]\n",
            " [ 10 100]]\n",
            "Classification report:\n",
            "               precision    recall  f1-score   support\n",
            "\n",
            "           0       0.91      0.89      0.90       110\n",
            "           1       0.89      0.91      0.90       110\n",
            "\n",
            "    accuracy                           0.90       220\n",
            "   macro avg       0.90      0.90      0.90       220\n",
            "weighted avg       0.90      0.90      0.90       220\n",
            "\n"
          ],
          "name": "stdout"
        },
        {
          "output_type": "display_data",
          "data": {
            "image/png": "[encoded data removed]",
            "text/plain": [
              "<Figure size 432x288 with 1 Axes>"
            ]
          },
          "metadata": {
            "tags": [],
            "needs_background": "light"
          }
        }
      ]
    },
    {
      "cell_type": "markdown",
      "metadata": {
        "id": "wXHBKBGJm4_u",
        "colab_type": "text"
      },
      "source": [
        "## `Decision Tree`"
      ]
    },
    {
      "cell_type": "code",
      "metadata": {
        "id": "TI9iQm1cjJo1",
        "colab_type": "code",
        "outputId": "d491d5fe-3b1d-40af-e02a-c7f0d4710cd2",
        "colab": {
          "base_uri": "https://localhost:8080/",
          "height": 530
        }
      },
      "source": [
        "# Decision tree classifier\n",
        "dectree=DecisionTreeClassifier()\n",
        "dectree.fit(x_train,y_train)\n",
        "all_score(dectree)\n",
        "# roc curve \n",
        "roc_curve_do(\"Decision Tree\",dectree)"
      ],
      "execution_count": 20,
      "outputs": [
        {
          "output_type": "stream",
          "text": [
            "testing accuracy: 0.8954545454545455\n",
            "training accuracy: 0.9840546697038725\n",
            "[[98 12]\n",
            " [11 99]]\n",
            "Classification report:\n",
            "               precision    recall  f1-score   support\n",
            "\n",
            "           0       0.90      0.89      0.89       110\n",
            "           1       0.89      0.90      0.90       110\n",
            "\n",
            "    accuracy                           0.90       220\n",
            "   macro avg       0.90      0.90      0.90       220\n",
            "weighted avg       0.90      0.90      0.90       220\n",
            "\n"
          ],
          "name": "stdout"
        },
        {
          "output_type": "display_data",
          "data": {
            "image/png": "[encoded data removed]",
            "text/plain": [
              "<Figure size 432x288 with 1 Axes>"
            ]
          },
          "metadata": {
            "tags": [],
            "needs_background": "light"
          }
        }
      ]
    },
    {
      "cell_type": "markdown",
      "metadata": {
        "id": "HOi_kQpZmsGi",
        "colab_type": "text"
      },
      "source": [
        "## `XGB Classifier `"
      ]
    },
    {
      "cell_type": "code",
      "metadata": {
        "id": "y3GSEkIzkmnC",
        "colab_type": "code",
        "outputId": "6b8b0f28-020c-4c2e-ebc5-9c6c352d5f5e",
        "colab": {
          "base_uri": "https://localhost:8080/",
          "height": 530
        }
      },
      "source": [
        "# xgbboost classifier\n",
        "xgb=XGBClassifier()\n",
        "xgb.fit(x_train,y_train)\n",
        "all_score(xgb)\n",
        "\n",
        "# roc curve \n",
        "\n",
        "roc_curve_do(\"Xgbboost classifier\",xgb)"
      ],
      "execution_count": 21,
      "outputs": [
        {
          "output_type": "stream",
          "text": [
            "testing accuracy: 0.8545454545454545\n",
            "training accuracy: 0.8747152619589977\n",
            "[[93 17]\n",
            " [15 95]]\n",
            "Classification report:\n",
            "               precision    recall  f1-score   support\n",
            "\n",
            "           0       0.86      0.85      0.85       110\n",
            "           1       0.85      0.86      0.86       110\n",
            "\n",
            "    accuracy                           0.85       220\n",
            "   macro avg       0.85      0.85      0.85       220\n",
            "weighted avg       0.85      0.85      0.85       220\n",
            "\n"
          ],
          "name": "stdout"
        },
        {
          "output_type": "display_data",
          "data": {
            "image/png": "[encoded data removed]",
            "text/plain": [
              "<Figure size 432x288 with 1 Axes>"
            ]
          },
          "metadata": {
            "tags": [],
            "needs_background": "light"
          }
        }
      ]
    },
    {
      "cell_type": "markdown",
      "metadata": {
        "id": "qgixDy5ynNWq",
        "colab_type": "text"
      },
      "source": [
        "###  k fold method \n"
      ]
    },
    {
      "cell_type": "code",
      "metadata": {
        "id": "mJngeor7lEyW",
        "colab_type": "code",
        "colab": {
          "base_uri": "https://localhost:8080/",
          "height": 329
        },
        "outputId": "d3f9c6ef-d1cc-4377-c91b-0c7155b5d0d2"
      },
      "source": [
        "kfold(rfc,5)"
      ],
      "execution_count": 22,
      "outputs": [
        {
          "output_type": "stream",
          "text": [
            "Individual Score: [0.85909091 0.86818182 0.9        0.87671233 0.89041096]\n",
            "Mean Score: 87.88792029887921 %\n"
          ],
          "name": "stdout"
        },
        {
          "output_type": "display_data",
          "data": {
            "image/png": "[encoded data removed]",
            "text/plain": [
              "<Figure size 432x288 with 1 Axes>"
            ]
          },
          "metadata": {
            "tags": [],
            "needs_background": "light"
          }
        }
      ]
    },
    {
      "cell_type": "markdown",
      "metadata": {
        "id": "dNR28vgE4dI7",
        "colab_type": "text"
      },
      "source": [
        "### `grid search for hyperparameters`"
      ]
    },
    {
      "cell_type": "code",
      "metadata": {
        "id": "RXQELJYy4cxy",
        "colab_type": "code",
        "colab": {
          "base_uri": "https://localhost:8080/",
          "height": 255
        },
        "outputId": "9c2b8d2f-c428-4878-a31d-7d70a7d19058"
      },
      "source": [
        "parameter={\n",
        "    \"max_depth\":[None,2,3,4,5,6],\n",
        "    \"learning_rate\":[0.1,0.01,0.5,0.005],\n",
        "    \"n_estimators\":[100,200,300],\n",
        "    \"gamma\": [0.5, 1, 1.5],\n",
        "    'min_child_weight': [1, 5, 10]\n",
        "}\n",
        "xgb_class_new=XGBClassifier()\n",
        "grid_search=GridSearchCV(\n",
        "    estimator=xgb_class_new,\n",
        "    param_grid=parameter,\n",
        "    n_jobs=-1,\n",
        "    cv=3,\n",
        "    verbose=True\n",
        ")\n",
        "grid_search.fit(x_train,y_train)\n",
        "best_params = grid_search.best_params_\n",
        "best_params"
      ],
      "execution_count": 23,
      "outputs": [
        {
          "output_type": "stream",
          "text": [
            "Fitting 3 folds for each of 648 candidates, totalling 1944 fits\n"
          ],
          "name": "stdout"
        },
        {
          "output_type": "stream",
          "text": [
            "[Parallel(n_jobs=-1)]: Using backend LokyBackend with 2 concurrent workers.\n",
            "/usr/local/lib/python3.6/dist-packages/joblib/externals/loky/process_executor.py:706: UserWarning: A worker stopped while some jobs were given to the executor. This can be caused by a too short worker timeout or by a memory leak.\n",
            "  \"timeout or by a memory leak.\", UserWarning\n",
            "[Parallel(n_jobs=-1)]: Done 167 tasks      | elapsed:   10.1s\n",
            "[Parallel(n_jobs=-1)]: Done 482 tasks      | elapsed:   28.4s\n",
            "[Parallel(n_jobs=-1)]: Done 1452 tasks      | elapsed:  1.4min\n",
            "[Parallel(n_jobs=-1)]: Done 1944 out of 1944 | elapsed:  1.8min finished\n"
          ],
          "name": "stderr"
        },
        {
          "output_type": "execute_result",
          "data": {
            "text/plain": [
              "{'gamma': 0.5,\n",
              " 'learning_rate': 0.5,\n",
              " 'max_depth': 6,\n",
              " 'min_child_weight': 1,\n",
              " 'n_estimators': 100}"
            ]
          },
          "metadata": {
            "tags": []
          },
          "execution_count": 23
        }
      ]
    },
    {
      "cell_type": "markdown",
      "metadata": {
        "id": "2N_0T78e4xcQ",
        "colab_type": "text"
      },
      "source": [
        "### after grid search"
      ]
    },
    {
      "cell_type": "code",
      "metadata": {
        "id": "N4CubonT40fp",
        "colab_type": "code",
        "outputId": "678858f9-3080-490a-ec4d-b3c4e2688300",
        "colab": {
          "base_uri": "https://localhost:8080/",
          "height": 530
        }
      },
      "source": [
        "xgb=XGBClassifier(gamma= 0.5,learning_rate= 0.5,max_depth=6,min_child_weight= 1,n_estimators= 100) \n",
        "xgb.fit(x_train,y_train)\n",
        "all_score(xgb)\n",
        "\n",
        "# roc curve \n",
        "\n",
        "roc_curve_do(\"RandomForestClassifier after hyper param\",xgb)"
      ],
      "execution_count": 24,
      "outputs": [
        {
          "output_type": "stream",
          "text": [
            "testing accuracy: 0.9045454545454545\n",
            "training accuracy: 0.9578587699316629\n",
            "[[100  10]\n",
            " [ 11  99]]\n",
            "Classification report:\n",
            "               precision    recall  f1-score   support\n",
            "\n",
            "           0       0.90      0.91      0.90       110\n",
            "           1       0.91      0.90      0.90       110\n",
            "\n",
            "    accuracy                           0.90       220\n",
            "   macro avg       0.90      0.90      0.90       220\n",
            "weighted avg       0.90      0.90      0.90       220\n",
            "\n"
          ],
          "name": "stdout"
        },
        {
          "output_type": "display_data",
          "data": {
            "image/png": "[encoded data removed]",
            "text/plain": [
              "<Figure size 432x288 with 1 Axes>"
            ]
          },
          "metadata": {
            "tags": [],
            "needs_background": "light"
          }
        }
      ]
    },
    {
      "cell_type": "markdown",
      "metadata": {
        "id": "BclYfjyqme1F",
        "colab_type": "text"
      },
      "source": [
        "## `Adaboost Classifier`"
      ]
    },
    {
      "cell_type": "code",
      "metadata": {
        "id": "ceXRTnQzmL2A",
        "colab_type": "code",
        "outputId": "6a79fa9f-2849-49a5-d0c4-9c39612941ef",
        "colab": {
          "base_uri": "https://localhost:8080/",
          "height": 530
        }
      },
      "source": [
        "dt = DecisionTreeClassifier()\n",
        "adb_clf = AdaBoostClassifier(base_estimator=dt, n_estimators=100)\n",
        "adb_clf.fit(x_train, y_train)\n",
        "all_score(adb_clf)\n",
        "\n",
        "# plot\n",
        "roc_curve_do(\"Adaboost classifier\",adb_clf)"
      ],
      "execution_count": 25,
      "outputs": [
        {
          "output_type": "stream",
          "text": [
            "testing accuracy: 0.8681818181818182\n",
            "training accuracy: 0.9840546697038725\n",
            "[[92 18]\n",
            " [11 99]]\n",
            "Classification report:\n",
            "               precision    recall  f1-score   support\n",
            "\n",
            "           0       0.89      0.84      0.86       110\n",
            "           1       0.85      0.90      0.87       110\n",
            "\n",
            "    accuracy                           0.87       220\n",
            "   macro avg       0.87      0.87      0.87       220\n",
            "weighted avg       0.87      0.87      0.87       220\n",
            "\n"
          ],
          "name": "stdout"
        },
        {
          "output_type": "display_data",
          "data": {
            "image/png": "[encoded data removed]",
            "text/plain": [
              "<Figure size 432x288 with 1 Axes>"
            ]
          },
          "metadata": {
            "tags": [],
            "needs_background": "light"
          }
        }
      ]
    },
    {
      "cell_type": "markdown",
      "metadata": {
        "id": "YQuzHaF8lkey",
        "colab_type": "text"
      },
      "source": [
        "### hyperpramaters setting"
      ]
    },
    {
      "cell_type": "code",
      "metadata": {
        "id": "Grir5YiXlqaZ",
        "colab_type": "code",
        "colab": {
          "base_uri": "https://localhost:8080/",
          "height": 84
        },
        "outputId": "ad8b762c-04df-48c3-c472-ada77bdf7dd7"
      },
      "source": [
        "parameter={\n",
        "    \"learning_rate\":[0.1,0.01,0.5,0.005],\n",
        "    \"n_estimators\":[100,200,300,50]\n",
        "}\n",
        "adb_clf_new = AdaBoostClassifier(base_estimator=dt)\n",
        "grid_search=GridSearchCV(\n",
        "    estimator=xgb_class_new,\n",
        "    param_grid=parameter,\n",
        "    n_jobs=-1,\n",
        "    cv=3,\n",
        "    verbose=True\n",
        ")\n",
        "grid_search.fit(x_train,y_train)\n",
        "best_params = grid_search.best_params_\n",
        "best_params"
      ],
      "execution_count": 26,
      "outputs": [
        {
          "output_type": "stream",
          "text": [
            "Fitting 3 folds for each of 16 candidates, totalling 48 fits\n"
          ],
          "name": "stdout"
        },
        {
          "output_type": "stream",
          "text": [
            "[Parallel(n_jobs=-1)]: Using backend LokyBackend with 2 concurrent workers.\n",
            "[Parallel(n_jobs=-1)]: Done  48 out of  48 | elapsed:    2.5s finished\n"
          ],
          "name": "stderr"
        },
        {
          "output_type": "execute_result",
          "data": {
            "text/plain": [
              "{'learning_rate': 0.5, 'n_estimators': 200}"
            ]
          },
          "metadata": {
            "tags": []
          },
          "execution_count": 26
        }
      ]
    },
    {
      "cell_type": "code",
      "metadata": {
        "id": "_LdZS4bCmXnd",
        "colab_type": "code",
        "colab": {
          "base_uri": "https://localhost:8080/",
          "height": 530
        },
        "outputId": "9bf79306-f825-4e21-d776-08b734bcc526"
      },
      "source": [
        "dt = DecisionTreeClassifier()\n",
        "adb_clf_update = AdaBoostClassifier(base_estimator=dt, n_estimators=200,learning_rate=0.5)\n",
        "adb_clf_update.fit(x_train, y_train)\n",
        "all_score(adb_clf_update)\n",
        "\n",
        "# plot\n",
        "roc_curve_do(\"Adaboost classifier\",adb_clf_update)"
      ],
      "execution_count": 27,
      "outputs": [
        {
          "output_type": "stream",
          "text": [
            "testing accuracy: 0.8818181818181818\n",
            "training accuracy: 0.9840546697038725\n",
            "[[96 14]\n",
            " [12 98]]\n",
            "Classification report:\n",
            "               precision    recall  f1-score   support\n",
            "\n",
            "           0       0.89      0.87      0.88       110\n",
            "           1       0.88      0.89      0.88       110\n",
            "\n",
            "    accuracy                           0.88       220\n",
            "   macro avg       0.88      0.88      0.88       220\n",
            "weighted avg       0.88      0.88      0.88       220\n",
            "\n"
          ],
          "name": "stdout"
        },
        {
          "output_type": "display_data",
          "data": {
            "image/png": "[encoded data removed]",
            "text/plain": [
              "<Figure size 432x288 with 1 Axes>"
            ]
          },
          "metadata": {
            "tags": [],
            "needs_background": "light"
          }
        }
      ]
    },
    {
      "cell_type": "markdown",
      "metadata": {
        "id": "b_A3UfZrp6ib",
        "colab_type": "text"
      },
      "source": [
        "### `GradientBoostingClassifier `"
      ]
    },
    {
      "cell_type": "code",
      "metadata": {
        "id": "2a2Kjgdnoc74",
        "colab_type": "code",
        "outputId": "e3e57cbc-ad40-474d-c623-aba23e7fb8b1",
        "colab": {
          "base_uri": "https://localhost:8080/",
          "height": 530
        }
      },
      "source": [
        "gbc=GradientBoostingClassifier(n_estimators=300)\n",
        "gbc.fit(x_train,y_train)\n",
        "\n",
        "all_score(gbc)\n",
        "# plot\n",
        "roc_curve_do(\"GradientBoosting\",gbc)"
      ],
      "execution_count": 28,
      "outputs": [
        {
          "output_type": "stream",
          "text": [
            "testing accuracy: 0.9090909090909091\n",
            "training accuracy: 0.9419134396355353\n",
            "[[ 97  13]\n",
            " [  7 103]]\n",
            "Classification report:\n",
            "               precision    recall  f1-score   support\n",
            "\n",
            "           0       0.93      0.88      0.91       110\n",
            "           1       0.89      0.94      0.91       110\n",
            "\n",
            "    accuracy                           0.91       220\n",
            "   macro avg       0.91      0.91      0.91       220\n",
            "weighted avg       0.91      0.91      0.91       220\n",
            "\n"
          ],
          "name": "stdout"
        },
        {
          "output_type": "display_data",
          "data": {
            "image/png": "[encoded data removed]",
            "text/plain": [
              "<Figure size 432x288 with 1 Axes>"
            ]
          },
          "metadata": {
            "tags": [],
            "needs_background": "light"
          }
        }
      ]
    },
    {
      "cell_type": "markdown",
      "metadata": {
        "id": "Y_umC6BKrKPW",
        "colab_type": "text"
      },
      "source": [
        "### `BaggingClassifier`"
      ]
    },
    {
      "cell_type": "code",
      "metadata": {
        "id": "GuCI_Xl_qaNB",
        "colab_type": "code",
        "outputId": "90c7e71a-1688-46e0-c8e3-afdf25c23741",
        "colab": {
          "base_uri": "https://localhost:8080/",
          "height": 530
        }
      },
      "source": [
        "dt=DecisionTreeClassifier()\n",
        "bc = BaggingClassifier(base_estimator=dt, n_estimators=100, n_jobs=-1) # n_jobs=-1 means that all the CPU cores are used in computation. \n",
        "bc.fit(x_train, y_train)\n",
        "\n",
        "all_score(bc)\n",
        "\n",
        "# plot\n",
        "roc_curve_do(\"Bagging Classifier\",bc)"
      ],
      "execution_count": 29,
      "outputs": [
        {
          "output_type": "stream",
          "text": [
            "testing accuracy: 0.8954545454545455\n",
            "training accuracy: 0.9840546697038725\n",
            "[[ 97  13]\n",
            " [ 10 100]]\n",
            "Classification report:\n",
            "               precision    recall  f1-score   support\n",
            "\n",
            "           0       0.91      0.88      0.89       110\n",
            "           1       0.88      0.91      0.90       110\n",
            "\n",
            "    accuracy                           0.90       220\n",
            "   macro avg       0.90      0.90      0.90       220\n",
            "weighted avg       0.90      0.90      0.90       220\n",
            "\n"
          ],
          "name": "stdout"
        },
        {
          "output_type": "display_data",
          "data": {
            "image/png": "[encoded data removed]",
            "text/plain": [
              "<Figure size 432x288 with 1 Axes>"
            ]
          },
          "metadata": {
            "tags": [],
            "needs_background": "light"
          }
        }
      ]
    },
    {
      "cell_type": "markdown",
      "metadata": {
        "id": "AiqMQ34mt3oj",
        "colab_type": "text"
      },
      "source": [
        "### K fold"
      ]
    },
    {
      "cell_type": "code",
      "metadata": {
        "id": "44NuIDzLsztm",
        "colab_type": "code",
        "outputId": "c56230a8-3f2d-4716-d255-98e3f4326dd5",
        "colab": {
          "base_uri": "https://localhost:8080/",
          "height": 346
        }
      },
      "source": [
        "kfold(bc,10)"
      ],
      "execution_count": 30,
      "outputs": [
        {
          "output_type": "stream",
          "text": [
            "Individual Score: [0.84545455 0.86363636 0.86363636 0.89090909 0.9        0.86363636\n",
            " 0.90909091 0.85454545 0.89908257 0.90825688]\n",
            "Mean Score: 87.98248540450375 %\n"
          ],
          "name": "stdout"
        },
        {
          "output_type": "display_data",
          "data": {
            "image/png": "[encoded data removed]",
            "text/plain": [
              "<Figure size 432x288 with 1 Axes>"
            ]
          },
          "metadata": {
            "tags": [],
            "needs_background": "light"
          }
        }
      ]
    },
    {
      "cell_type": "markdown",
      "metadata": {
        "id": "InN5etKYvS0z",
        "colab_type": "text"
      },
      "source": [
        "## feature importance using random *forest*\n"
      ]
    },
    {
      "cell_type": "code",
      "metadata": {
        "id": "k8XFDivvt-NV",
        "colab_type": "code",
        "outputId": "d46d7c9f-f50e-4eff-8483-800abdce5df9",
        "colab": {
          "base_uri": "https://localhost:8080/",
          "height": 389
        }
      },
      "source": [
        "rfc1=RandomForestClassifier(n_estimators=300)\n",
        "model=rfc1.fit(x_train,y_train)\n",
        "# calculated by out of bag data while baaging in randomforest.\n",
        "importances = model.feature_importances_\n",
        "indices = np.argsort(importances)[::-1]\n",
        "# Rearrange feature names so they match the sorted feature importances\n",
        "names = [X.columns[i] for i in indices]\n",
        "\n",
        "plt.figure(figsize=(20,5))\n",
        "plt.title(\"Feature Importance\")\n",
        "plt.bar(range(X.shape[1]), importances[indices])\n",
        "plt.xticks(range(X.shape[1]), names, rotation=90)\n",
        "plt.show()"
      ],
      "execution_count": 31,
      "outputs": [
        {
          "output_type": "display_data",
          "data": {
            "image/png": "[encoded data removed]",
            "text/plain": [
              "<Figure size 1440x360 with 1 Axes>"
            ]
          },
          "metadata": {
            "tags": [],
            "needs_background": "light"
          }
        }
      ]
    },
    {
      "cell_type": "markdown",
      "metadata": {
        "id": "kMKQ-2IZ7Ne8",
        "colab_type": "text"
      },
      "source": [
        "# max accuracy without overfitting is given by Xgboost classifier"
      ]
    },
    {
      "cell_type": "code",
      "metadata": {
        "id": "FqGbLRv57Voq",
        "colab_type": "code",
        "colab": {}
      },
      "source": [
        ""
      ],
      "execution_count": 0,
      "outputs": []
    }
  ]
}
